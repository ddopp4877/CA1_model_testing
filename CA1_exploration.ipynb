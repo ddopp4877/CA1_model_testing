{
 "cells": [
  {
   "cell_type": "code",
   "execution_count": 2,
   "id": "79215a13-4816-4dda-8292-da71d74543c2",
   "metadata": {},
   "outputs": [],
   "source": [
    "import h5py\n",
    "import os\n",
    "import matplotlib.pyplot as plt\n",
    "import numpy as np\n",
    "import pandas as pd\n"
   ]
  },
  {
   "cell_type": "markdown",
   "id": "11e28390-c2f3-4cef-a6f8-ef56f67c7b1e",
   "metadata": {},
   "source": [
    "# Read all data from the nodes and edges file saved by build_network.py"
   ]
  },
  {
   "cell_type": "code",
   "execution_count": 4,
   "id": "e1bd492c-e2c9-4118-8572-d20bf6092a04",
   "metadata": {},
   "outputs": [],
   "source": [
    "def SaveDataToDF(f):\n",
    "    myData = []\n",
    "    myDataNames = []\n",
    "    def saveDat(item):\n",
    "        if 'Data' in str(f[item].id):\n",
    "            data2use = f[item][()]\n",
    "            if data2use.ndim == 2:#some groups have multiple columns and this messes up the translation to a df at the end of this function\n",
    "                [a,b] = data2use.shape\n",
    "                for col in np.arange(0,b):\n",
    "                    myData.append(data2use[:,col])\n",
    "                    dataName = (f[item].name).split('/')[-1] + str(col)\n",
    "                    myDataNames.append(dataName)\n",
    "            else:\n",
    "                myData.append(f[item][()])\n",
    "                dataName = (f[item].name).split('/')[-1]\n",
    "                myDataNames.append(dataName)\n",
    "        \n",
    "    f.visit(saveDat)\n",
    "    allData = pd.DataFrame(myData).T\n",
    "    allData.columns = myDataNames\n",
    "    f.close()\n",
    "    return allData"
   ]
  },
  {
   "cell_type": "code",
   "execution_count": 3,
   "id": "99bef7d7-8999-4078-afdc-bc2ed07fd2c7",
   "metadata": {},
   "outputs": [],
   "source": [
    "pathname = r'/network'"
   ]
  },
  {
   "cell_type": "code",
   "execution_count": 4,
   "id": "a666d5a1-d652-4d67-b0c5-45bf97923ff8",
   "metadata": {},
   "outputs": [
    {
     "name": "stdout",
     "output_type": "stream",
     "text": [
      "edges\n",
      "edges/biophysical_to_biophysical\n",
      "edges/biophysical_to_biophysical/0\n",
      "edges/biophysical_to_biophysical/0/nsyns\n",
      "edges/biophysical_to_biophysical/edge_group_id\n",
      "edges/biophysical_to_biophysical/edge_group_index\n",
      "edges/biophysical_to_biophysical/edge_type_id\n",
      "edges/biophysical_to_biophysical/indices\n",
      "edges/biophysical_to_biophysical/indices/source_to_target\n",
      "edges/biophysical_to_biophysical/indices/source_to_target/node_id_to_range\n",
      "edges/biophysical_to_biophysical/indices/source_to_target/range_to_edge_id\n",
      "edges/biophysical_to_biophysical/indices/target_to_source\n",
      "edges/biophysical_to_biophysical/indices/target_to_source/node_id_to_range\n",
      "edges/biophysical_to_biophysical/indices/target_to_source/range_to_edge_id\n",
      "edges/biophysical_to_biophysical/source_node_id\n",
      "edges/biophysical_to_biophysical/target_node_id\n"
     ]
    }
   ],
   "source": [
    "f = h5py.File(os.path.join(pathname,'biophysical_biophysical_edges.h5'), 'r')\n",
    "f.visit(print)"
   ]
  },
  {
   "cell_type": "code",
   "execution_count": 5,
   "id": "a3b74321-e4ae-4444-8322-ad7dcce83cac",
   "metadata": {},
   "outputs": [],
   "source": [
    "edgesDF = SaveDataToDF(f) "
   ]
  },
  {
   "cell_type": "code",
   "execution_count": 6,
   "id": "38958ccb-90bd-4920-bbea-78ef07ea73bc",
   "metadata": {},
   "outputs": [
    {
     "data": {
      "text/html": [
       "<div>\n",
       "<style scoped>\n",
       "    .dataframe tbody tr th:only-of-type {\n",
       "        vertical-align: middle;\n",
       "    }\n",
       "\n",
       "    .dataframe tbody tr th {\n",
       "        vertical-align: top;\n",
       "    }\n",
       "\n",
       "    .dataframe thead th {\n",
       "        text-align: right;\n",
       "    }\n",
       "</style>\n",
       "<table border=\"1\" class=\"dataframe\">\n",
       "  <thead>\n",
       "    <tr style=\"text-align: right;\">\n",
       "      <th></th>\n",
       "      <th>nsyns</th>\n",
       "      <th>edge_group_id</th>\n",
       "      <th>edge_group_index</th>\n",
       "      <th>edge_type_id</th>\n",
       "      <th>node_id_to_range0</th>\n",
       "      <th>node_id_to_range1</th>\n",
       "      <th>range_to_edge_id0</th>\n",
       "      <th>range_to_edge_id1</th>\n",
       "      <th>node_id_to_range0</th>\n",
       "      <th>node_id_to_range1</th>\n",
       "      <th>range_to_edge_id0</th>\n",
       "      <th>range_to_edge_id1</th>\n",
       "      <th>source_node_id</th>\n",
       "      <th>target_node_id</th>\n",
       "    </tr>\n",
       "  </thead>\n",
       "  <tbody>\n",
       "    <tr>\n",
       "      <th>0</th>\n",
       "      <td>1.0</td>\n",
       "      <td>0.0</td>\n",
       "      <td>0.0</td>\n",
       "      <td>101.0</td>\n",
       "      <td>0.0</td>\n",
       "      <td>1479.0</td>\n",
       "      <td>840993.0</td>\n",
       "      <td>840994.0</td>\n",
       "      <td>0.0</td>\n",
       "      <td>1.0</td>\n",
       "      <td>0.0</td>\n",
       "      <td>246.0</td>\n",
       "      <td>21982.0</td>\n",
       "      <td>0.0</td>\n",
       "    </tr>\n",
       "    <tr>\n",
       "      <th>1</th>\n",
       "      <td>1.0</td>\n",
       "      <td>0.0</td>\n",
       "      <td>1.0</td>\n",
       "      <td>104.0</td>\n",
       "      <td>1479.0</td>\n",
       "      <td>2526.0</td>\n",
       "      <td>1121429.0</td>\n",
       "      <td>1121430.0</td>\n",
       "      <td>1.0</td>\n",
       "      <td>2.0</td>\n",
       "      <td>246.0</td>\n",
       "      <td>409.0</td>\n",
       "      <td>31873.0</td>\n",
       "      <td>0.0</td>\n",
       "    </tr>\n",
       "    <tr>\n",
       "      <th>2</th>\n",
       "      <td>1.0</td>\n",
       "      <td>0.0</td>\n",
       "      <td>2.0</td>\n",
       "      <td>104.0</td>\n",
       "      <td>2526.0</td>\n",
       "      <td>3917.0</td>\n",
       "      <td>756536.0</td>\n",
       "      <td>756537.0</td>\n",
       "      <td>2.0</td>\n",
       "      <td>3.0</td>\n",
       "      <td>409.0</td>\n",
       "      <td>659.0</td>\n",
       "      <td>253.0</td>\n",
       "      <td>0.0</td>\n",
       "    </tr>\n",
       "    <tr>\n",
       "      <th>3</th>\n",
       "      <td>1.0</td>\n",
       "      <td>0.0</td>\n",
       "      <td>3.0</td>\n",
       "      <td>101.0</td>\n",
       "      <td>3917.0</td>\n",
       "      <td>5218.0</td>\n",
       "      <td>1378903.0</td>\n",
       "      <td>1378904.0</td>\n",
       "      <td>3.0</td>\n",
       "      <td>4.0</td>\n",
       "      <td>659.0</td>\n",
       "      <td>864.0</td>\n",
       "      <td>8167.0</td>\n",
       "      <td>0.0</td>\n",
       "    </tr>\n",
       "    <tr>\n",
       "      <th>4</th>\n",
       "      <td>1.0</td>\n",
       "      <td>0.0</td>\n",
       "      <td>4.0</td>\n",
       "      <td>107.0</td>\n",
       "      <td>5218.0</td>\n",
       "      <td>6170.0</td>\n",
       "      <td>1006843.0</td>\n",
       "      <td>1006844.0</td>\n",
       "      <td>4.0</td>\n",
       "      <td>5.0</td>\n",
       "      <td>864.0</td>\n",
       "      <td>1024.0</td>\n",
       "      <td>176.0</td>\n",
       "      <td>0.0</td>\n",
       "    </tr>\n",
       "    <tr>\n",
       "      <th>...</th>\n",
       "      <td>...</td>\n",
       "      <td>...</td>\n",
       "      <td>...</td>\n",
       "      <td>...</td>\n",
       "      <td>...</td>\n",
       "      <td>...</td>\n",
       "      <td>...</td>\n",
       "      <td>...</td>\n",
       "      <td>...</td>\n",
       "      <td>...</td>\n",
       "      <td>...</td>\n",
       "      <td>...</td>\n",
       "      <td>...</td>\n",
       "      <td>...</td>\n",
       "    </tr>\n",
       "    <tr>\n",
       "      <th>1631825</th>\n",
       "      <td>1.0</td>\n",
       "      <td>0.0</td>\n",
       "      <td>1631825.0</td>\n",
       "      <td>103.0</td>\n",
       "      <td>NaN</td>\n",
       "      <td>NaN</td>\n",
       "      <td>NaN</td>\n",
       "      <td>NaN</td>\n",
       "      <td>NaN</td>\n",
       "      <td>NaN</td>\n",
       "      <td>NaN</td>\n",
       "      <td>NaN</td>\n",
       "      <td>30021.0</td>\n",
       "      <td>32013.0</td>\n",
       "    </tr>\n",
       "    <tr>\n",
       "      <th>1631826</th>\n",
       "      <td>1.0</td>\n",
       "      <td>0.0</td>\n",
       "      <td>1631826.0</td>\n",
       "      <td>103.0</td>\n",
       "      <td>NaN</td>\n",
       "      <td>NaN</td>\n",
       "      <td>NaN</td>\n",
       "      <td>NaN</td>\n",
       "      <td>NaN</td>\n",
       "      <td>NaN</td>\n",
       "      <td>NaN</td>\n",
       "      <td>NaN</td>\n",
       "      <td>17270.0</td>\n",
       "      <td>32013.0</td>\n",
       "    </tr>\n",
       "    <tr>\n",
       "      <th>1631827</th>\n",
       "      <td>1.0</td>\n",
       "      <td>0.0</td>\n",
       "      <td>1631827.0</td>\n",
       "      <td>103.0</td>\n",
       "      <td>NaN</td>\n",
       "      <td>NaN</td>\n",
       "      <td>NaN</td>\n",
       "      <td>NaN</td>\n",
       "      <td>NaN</td>\n",
       "      <td>NaN</td>\n",
       "      <td>NaN</td>\n",
       "      <td>NaN</td>\n",
       "      <td>14976.0</td>\n",
       "      <td>32013.0</td>\n",
       "    </tr>\n",
       "    <tr>\n",
       "      <th>1631828</th>\n",
       "      <td>1.0</td>\n",
       "      <td>0.0</td>\n",
       "      <td>1631828.0</td>\n",
       "      <td>103.0</td>\n",
       "      <td>NaN</td>\n",
       "      <td>NaN</td>\n",
       "      <td>NaN</td>\n",
       "      <td>NaN</td>\n",
       "      <td>NaN</td>\n",
       "      <td>NaN</td>\n",
       "      <td>NaN</td>\n",
       "      <td>NaN</td>\n",
       "      <td>3507.0</td>\n",
       "      <td>32013.0</td>\n",
       "    </tr>\n",
       "    <tr>\n",
       "      <th>1631829</th>\n",
       "      <td>1.0</td>\n",
       "      <td>0.0</td>\n",
       "      <td>1631829.0</td>\n",
       "      <td>103.0</td>\n",
       "      <td>NaN</td>\n",
       "      <td>NaN</td>\n",
       "      <td>NaN</td>\n",
       "      <td>NaN</td>\n",
       "      <td>NaN</td>\n",
       "      <td>NaN</td>\n",
       "      <td>NaN</td>\n",
       "      <td>NaN</td>\n",
       "      <td>27741.0</td>\n",
       "      <td>32013.0</td>\n",
       "    </tr>\n",
       "  </tbody>\n",
       "</table>\n",
       "<p>1631830 rows × 14 columns</p>\n",
       "</div>"
      ],
      "text/plain": [
       "         nsyns  edge_group_id  edge_group_index  edge_type_id  \\\n",
       "0          1.0            0.0               0.0         101.0   \n",
       "1          1.0            0.0               1.0         104.0   \n",
       "2          1.0            0.0               2.0         104.0   \n",
       "3          1.0            0.0               3.0         101.0   \n",
       "4          1.0            0.0               4.0         107.0   \n",
       "...        ...            ...               ...           ...   \n",
       "1631825    1.0            0.0         1631825.0         103.0   \n",
       "1631826    1.0            0.0         1631826.0         103.0   \n",
       "1631827    1.0            0.0         1631827.0         103.0   \n",
       "1631828    1.0            0.0         1631828.0         103.0   \n",
       "1631829    1.0            0.0         1631829.0         103.0   \n",
       "\n",
       "         node_id_to_range0  node_id_to_range1  range_to_edge_id0  \\\n",
       "0                      0.0             1479.0           840993.0   \n",
       "1                   1479.0             2526.0          1121429.0   \n",
       "2                   2526.0             3917.0           756536.0   \n",
       "3                   3917.0             5218.0          1378903.0   \n",
       "4                   5218.0             6170.0          1006843.0   \n",
       "...                    ...                ...                ...   \n",
       "1631825                NaN                NaN                NaN   \n",
       "1631826                NaN                NaN                NaN   \n",
       "1631827                NaN                NaN                NaN   \n",
       "1631828                NaN                NaN                NaN   \n",
       "1631829                NaN                NaN                NaN   \n",
       "\n",
       "         range_to_edge_id1  node_id_to_range0  node_id_to_range1  \\\n",
       "0                 840994.0                0.0                1.0   \n",
       "1                1121430.0                1.0                2.0   \n",
       "2                 756537.0                2.0                3.0   \n",
       "3                1378904.0                3.0                4.0   \n",
       "4                1006844.0                4.0                5.0   \n",
       "...                    ...                ...                ...   \n",
       "1631825                NaN                NaN                NaN   \n",
       "1631826                NaN                NaN                NaN   \n",
       "1631827                NaN                NaN                NaN   \n",
       "1631828                NaN                NaN                NaN   \n",
       "1631829                NaN                NaN                NaN   \n",
       "\n",
       "         range_to_edge_id0  range_to_edge_id1  source_node_id  target_node_id  \n",
       "0                      0.0              246.0         21982.0             0.0  \n",
       "1                    246.0              409.0         31873.0             0.0  \n",
       "2                    409.0              659.0           253.0             0.0  \n",
       "3                    659.0              864.0          8167.0             0.0  \n",
       "4                    864.0             1024.0           176.0             0.0  \n",
       "...                    ...                ...             ...             ...  \n",
       "1631825                NaN                NaN         30021.0         32013.0  \n",
       "1631826                NaN                NaN         17270.0         32013.0  \n",
       "1631827                NaN                NaN         14976.0         32013.0  \n",
       "1631828                NaN                NaN          3507.0         32013.0  \n",
       "1631829                NaN                NaN         27741.0         32013.0  \n",
       "\n",
       "[1631830 rows x 14 columns]"
      ]
     },
     "execution_count": 6,
     "metadata": {},
     "output_type": "execute_result"
    }
   ],
   "source": [
    "edgesDF"
   ]
  },
  {
   "cell_type": "code",
   "execution_count": 7,
   "id": "40387326-74d1-4724-9f99-d8494450d510",
   "metadata": {},
   "outputs": [],
   "source": [
    "f = h5py.File(os.path.join(pathname,'biophysical_nodes.h5'), 'r')"
   ]
  },
  {
   "cell_type": "code",
   "execution_count": 8,
   "id": "4644c9fb-51be-4195-a705-f2be822370e4",
   "metadata": {},
   "outputs": [
    {
     "name": "stdout",
     "output_type": "stream",
     "text": [
      "nodes\n",
      "nodes/biophysical\n",
      "nodes/biophysical/0\n",
      "nodes/biophysical/0/positions\n",
      "nodes/biophysical/node_group_id\n",
      "nodes/biophysical/node_group_index\n",
      "nodes/biophysical/node_id\n",
      "nodes/biophysical/node_type_id\n"
     ]
    }
   ],
   "source": [
    "f.visit(print)"
   ]
  },
  {
   "cell_type": "code",
   "execution_count": 9,
   "id": "e6d2878a-a8ef-467d-9aee-89dfc42fa8fc",
   "metadata": {},
   "outputs": [],
   "source": [
    "nodesDF = SaveDataToDF(f)"
   ]
  },
  {
   "cell_type": "code",
   "execution_count": 10,
   "id": "c657d26c-92e1-43f3-8bf2-02dfc1c80792",
   "metadata": {},
   "outputs": [
    {
     "data": {
      "text/html": [
       "<div>\n",
       "<style scoped>\n",
       "    .dataframe tbody tr th:only-of-type {\n",
       "        vertical-align: middle;\n",
       "    }\n",
       "\n",
       "    .dataframe tbody tr th {\n",
       "        vertical-align: top;\n",
       "    }\n",
       "\n",
       "    .dataframe thead th {\n",
       "        text-align: right;\n",
       "    }\n",
       "</style>\n",
       "<table border=\"1\" class=\"dataframe\">\n",
       "  <thead>\n",
       "    <tr style=\"text-align: right;\">\n",
       "      <th></th>\n",
       "      <th>positions0</th>\n",
       "      <th>positions1</th>\n",
       "      <th>positions2</th>\n",
       "      <th>node_group_id</th>\n",
       "      <th>node_group_index</th>\n",
       "      <th>node_id</th>\n",
       "      <th>node_type_id</th>\n",
       "    </tr>\n",
       "  </thead>\n",
       "  <tbody>\n",
       "    <tr>\n",
       "      <th>0</th>\n",
       "      <td>380</td>\n",
       "      <td>460</td>\n",
       "      <td>360</td>\n",
       "      <td>0</td>\n",
       "      <td>0</td>\n",
       "      <td>0</td>\n",
       "      <td>100</td>\n",
       "    </tr>\n",
       "    <tr>\n",
       "      <th>1</th>\n",
       "      <td>340</td>\n",
       "      <td>880</td>\n",
       "      <td>380</td>\n",
       "      <td>0</td>\n",
       "      <td>1</td>\n",
       "      <td>1</td>\n",
       "      <td>100</td>\n",
       "    </tr>\n",
       "    <tr>\n",
       "      <th>2</th>\n",
       "      <td>180</td>\n",
       "      <td>260</td>\n",
       "      <td>320</td>\n",
       "      <td>0</td>\n",
       "      <td>2</td>\n",
       "      <td>2</td>\n",
       "      <td>100</td>\n",
       "    </tr>\n",
       "    <tr>\n",
       "      <th>3</th>\n",
       "      <td>200</td>\n",
       "      <td>200</td>\n",
       "      <td>400</td>\n",
       "      <td>0</td>\n",
       "      <td>3</td>\n",
       "      <td>3</td>\n",
       "      <td>100</td>\n",
       "    </tr>\n",
       "    <tr>\n",
       "      <th>4</th>\n",
       "      <td>100</td>\n",
       "      <td>920</td>\n",
       "      <td>380</td>\n",
       "      <td>0</td>\n",
       "      <td>4</td>\n",
       "      <td>4</td>\n",
       "      <td>100</td>\n",
       "    </tr>\n",
       "    <tr>\n",
       "      <th>...</th>\n",
       "      <td>...</td>\n",
       "      <td>...</td>\n",
       "      <td>...</td>\n",
       "      <td>...</td>\n",
       "      <td>...</td>\n",
       "      <td>...</td>\n",
       "      <td>...</td>\n",
       "    </tr>\n",
       "    <tr>\n",
       "      <th>32009</th>\n",
       "      <td>160</td>\n",
       "      <td>460</td>\n",
       "      <td>280</td>\n",
       "      <td>0</td>\n",
       "      <td>32009</td>\n",
       "      <td>32009</td>\n",
       "      <td>107</td>\n",
       "    </tr>\n",
       "    <tr>\n",
       "      <th>32010</th>\n",
       "      <td>60</td>\n",
       "      <td>140</td>\n",
       "      <td>180</td>\n",
       "      <td>0</td>\n",
       "      <td>32010</td>\n",
       "      <td>32010</td>\n",
       "      <td>107</td>\n",
       "    </tr>\n",
       "    <tr>\n",
       "      <th>32011</th>\n",
       "      <td>160</td>\n",
       "      <td>60</td>\n",
       "      <td>300</td>\n",
       "      <td>0</td>\n",
       "      <td>32011</td>\n",
       "      <td>32011</td>\n",
       "      <td>107</td>\n",
       "    </tr>\n",
       "    <tr>\n",
       "      <th>32012</th>\n",
       "      <td>340</td>\n",
       "      <td>600</td>\n",
       "      <td>240</td>\n",
       "      <td>0</td>\n",
       "      <td>32012</td>\n",
       "      <td>32012</td>\n",
       "      <td>107</td>\n",
       "    </tr>\n",
       "    <tr>\n",
       "      <th>32013</th>\n",
       "      <td>0</td>\n",
       "      <td>80</td>\n",
       "      <td>80</td>\n",
       "      <td>0</td>\n",
       "      <td>32013</td>\n",
       "      <td>32013</td>\n",
       "      <td>107</td>\n",
       "    </tr>\n",
       "  </tbody>\n",
       "</table>\n",
       "<p>32014 rows × 7 columns</p>\n",
       "</div>"
      ],
      "text/plain": [
       "       positions0  positions1  positions2  node_group_id  node_group_index  \\\n",
       "0             380         460         360              0                 0   \n",
       "1             340         880         380              0                 1   \n",
       "2             180         260         320              0                 2   \n",
       "3             200         200         400              0                 3   \n",
       "4             100         920         380              0                 4   \n",
       "...           ...         ...         ...            ...               ...   \n",
       "32009         160         460         280              0             32009   \n",
       "32010          60         140         180              0             32010   \n",
       "32011         160          60         300              0             32011   \n",
       "32012         340         600         240              0             32012   \n",
       "32013           0          80          80              0             32013   \n",
       "\n",
       "       node_id  node_type_id  \n",
       "0            0           100  \n",
       "1            1           100  \n",
       "2            2           100  \n",
       "3            3           100  \n",
       "4            4           100  \n",
       "...        ...           ...  \n",
       "32009    32009           107  \n",
       "32010    32010           107  \n",
       "32011    32011           107  \n",
       "32012    32012           107  \n",
       "32013    32013           107  \n",
       "\n",
       "[32014 rows x 7 columns]"
      ]
     },
     "execution_count": 10,
     "metadata": {},
     "output_type": "execute_result"
    }
   ],
   "source": [
    "nodesDF"
   ]
  },
  {
   "cell_type": "markdown",
   "id": "75f15141-82fe-4c9b-964f-9d5d8481fbe6",
   "metadata": {},
   "source": [
    "# change the node ids to node names"
   ]
  },
  {
   "cell_type": "code",
   "execution_count": 11,
   "id": "e200ad7f-ff9d-4e7e-956c-b4ca00ca4417",
   "metadata": {},
   "outputs": [],
   "source": [
    "cellLocations = pd.read_csv('cell_locations.csv')"
   ]
  },
  {
   "cell_type": "code",
   "execution_count": 12,
   "id": "3864a7d0-7fca-4867-91aa-66b69c58d2ef",
   "metadata": {},
   "outputs": [],
   "source": [
    "idNames = np.unique(nodesDF['node_type_id'])\n",
    "cellNames = np.unique(cellLocations['Cell type'])"
   ]
  },
  {
   "cell_type": "code",
   "execution_count": 13,
   "id": "eaf66fb8-caa9-48d6-9c19-ae4a02820c0a",
   "metadata": {},
   "outputs": [],
   "source": [
    "array = cellLocations['Cell type']\n",
    "idxs = np.unique(cellLocations['Cell type'],return_index=True)[1]\n",
    "cellNames = [array[index] for index in sorted(idxs)]#use the names in the order in which the id's appear"
   ]
  },
  {
   "cell_type": "code",
   "execution_count": 14,
   "id": "833984a5-154b-449e-9e60-932a6ad69bf8",
   "metadata": {},
   "outputs": [
    {
     "data": {
      "text/html": [
       "<div>\n",
       "<style scoped>\n",
       "    .dataframe tbody tr th:only-of-type {\n",
       "        vertical-align: middle;\n",
       "    }\n",
       "\n",
       "    .dataframe tbody tr th {\n",
       "        vertical-align: top;\n",
       "    }\n",
       "\n",
       "    .dataframe thead th {\n",
       "        text-align: right;\n",
       "    }\n",
       "</style>\n",
       "<table border=\"1\" class=\"dataframe\">\n",
       "  <thead>\n",
       "    <tr style=\"text-align: right;\">\n",
       "      <th></th>\n",
       "      <th>positions0</th>\n",
       "      <th>positions1</th>\n",
       "      <th>positions2</th>\n",
       "      <th>node_group_id</th>\n",
       "      <th>node_group_index</th>\n",
       "      <th>node_id</th>\n",
       "      <th>node_type_id</th>\n",
       "    </tr>\n",
       "  </thead>\n",
       "  <tbody>\n",
       "    <tr>\n",
       "      <th>0</th>\n",
       "      <td>380</td>\n",
       "      <td>460</td>\n",
       "      <td>360</td>\n",
       "      <td>0</td>\n",
       "      <td>0</td>\n",
       "      <td>0</td>\n",
       "      <td>AAC in SO layer</td>\n",
       "    </tr>\n",
       "    <tr>\n",
       "      <th>1</th>\n",
       "      <td>340</td>\n",
       "      <td>880</td>\n",
       "      <td>380</td>\n",
       "      <td>0</td>\n",
       "      <td>1</td>\n",
       "      <td>1</td>\n",
       "      <td>AAC in SO layer</td>\n",
       "    </tr>\n",
       "    <tr>\n",
       "      <th>2</th>\n",
       "      <td>180</td>\n",
       "      <td>260</td>\n",
       "      <td>320</td>\n",
       "      <td>0</td>\n",
       "      <td>2</td>\n",
       "      <td>2</td>\n",
       "      <td>AAC in SO layer</td>\n",
       "    </tr>\n",
       "    <tr>\n",
       "      <th>3</th>\n",
       "      <td>200</td>\n",
       "      <td>200</td>\n",
       "      <td>400</td>\n",
       "      <td>0</td>\n",
       "      <td>3</td>\n",
       "      <td>3</td>\n",
       "      <td>AAC in SO layer</td>\n",
       "    </tr>\n",
       "    <tr>\n",
       "      <th>4</th>\n",
       "      <td>100</td>\n",
       "      <td>920</td>\n",
       "      <td>380</td>\n",
       "      <td>0</td>\n",
       "      <td>4</td>\n",
       "      <td>4</td>\n",
       "      <td>AAC in SO layer</td>\n",
       "    </tr>\n",
       "    <tr>\n",
       "      <th>...</th>\n",
       "      <td>...</td>\n",
       "      <td>...</td>\n",
       "      <td>...</td>\n",
       "      <td>...</td>\n",
       "      <td>...</td>\n",
       "      <td>...</td>\n",
       "      <td>...</td>\n",
       "    </tr>\n",
       "    <tr>\n",
       "      <th>32009</th>\n",
       "      <td>160</td>\n",
       "      <td>460</td>\n",
       "      <td>280</td>\n",
       "      <td>0</td>\n",
       "      <td>32009</td>\n",
       "      <td>32009</td>\n",
       "      <td>PV in SR layer</td>\n",
       "    </tr>\n",
       "    <tr>\n",
       "      <th>32010</th>\n",
       "      <td>60</td>\n",
       "      <td>140</td>\n",
       "      <td>180</td>\n",
       "      <td>0</td>\n",
       "      <td>32010</td>\n",
       "      <td>32010</td>\n",
       "      <td>PV in SR layer</td>\n",
       "    </tr>\n",
       "    <tr>\n",
       "      <th>32011</th>\n",
       "      <td>160</td>\n",
       "      <td>60</td>\n",
       "      <td>300</td>\n",
       "      <td>0</td>\n",
       "      <td>32011</td>\n",
       "      <td>32011</td>\n",
       "      <td>PV in SR layer</td>\n",
       "    </tr>\n",
       "    <tr>\n",
       "      <th>32012</th>\n",
       "      <td>340</td>\n",
       "      <td>600</td>\n",
       "      <td>240</td>\n",
       "      <td>0</td>\n",
       "      <td>32012</td>\n",
       "      <td>32012</td>\n",
       "      <td>PV in SR layer</td>\n",
       "    </tr>\n",
       "    <tr>\n",
       "      <th>32013</th>\n",
       "      <td>0</td>\n",
       "      <td>80</td>\n",
       "      <td>80</td>\n",
       "      <td>0</td>\n",
       "      <td>32013</td>\n",
       "      <td>32013</td>\n",
       "      <td>PV in SR layer</td>\n",
       "    </tr>\n",
       "  </tbody>\n",
       "</table>\n",
       "<p>32014 rows × 7 columns</p>\n",
       "</div>"
      ],
      "text/plain": [
       "       positions0  positions1  positions2  node_group_id  node_group_index  \\\n",
       "0             380         460         360              0                 0   \n",
       "1             340         880         380              0                 1   \n",
       "2             180         260         320              0                 2   \n",
       "3             200         200         400              0                 3   \n",
       "4             100         920         380              0                 4   \n",
       "...           ...         ...         ...            ...               ...   \n",
       "32009         160         460         280              0             32009   \n",
       "32010          60         140         180              0             32010   \n",
       "32011         160          60         300              0             32011   \n",
       "32012         340         600         240              0             32012   \n",
       "32013           0          80          80              0             32013   \n",
       "\n",
       "       node_id     node_type_id  \n",
       "0            0  AAC in SO layer  \n",
       "1            1  AAC in SO layer  \n",
       "2            2  AAC in SO layer  \n",
       "3            3  AAC in SO layer  \n",
       "4            4  AAC in SO layer  \n",
       "...        ...              ...  \n",
       "32009    32009   PV in SR layer  \n",
       "32010    32010   PV in SR layer  \n",
       "32011    32011   PV in SR layer  \n",
       "32012    32012   PV in SR layer  \n",
       "32013    32013   PV in SR layer  \n",
       "\n",
       "[32014 rows x 7 columns]"
      ]
     },
     "execution_count": 14,
     "metadata": {},
     "output_type": "execute_result"
    }
   ],
   "source": [
    "nodesDF = nodesDF.replace({'node_type_id':idNames},{'node_type_id':cellNames})\n",
    "nodesDF"
   ]
  },
  {
   "cell_type": "code",
   "execution_count": 19,
   "id": "0b9aafb4-d2ce-4cc8-bbec-a9cfed85cd43",
   "metadata": {},
   "outputs": [],
   "source": [
    "fig = px.scatter_3d(nodesDF,x ='positions0', y='positions1', z='positions2',\n",
    "                    color = 'node_type_id',\n",
    "                    opacity = 0.7)\n",
    "fig.update_traces(marker_size = 6)\n",
    "fig.write_html('networkNodes2.html',auto_open=True)"
   ]
  },
  {
   "cell_type": "markdown",
   "id": "8ca9b518-f9f2-4ea6-bc8b-6ba6ac34d88b",
   "metadata": {},
   "source": [
    "# plot nodes edges - wip"
   ]
  },
  {
   "cell_type": "code",
   "execution_count": null,
   "id": "07089378-f71b-4d33-96c4-67b6021ace92",
   "metadata": {},
   "outputs": [],
   "source": [
    "#find the node source id and get its position, then find the destination node id, and get its position\n",
    "#there will be a -1 x 6 array of the source to target connections"
   ]
  },
  {
   "cell_type": "code",
   "execution_count": 28,
   "id": "fa576865-dfa1-4af1-81b4-e7447842020d",
   "metadata": {},
   "outputs": [],
   "source": [
    "xlocofEdgeSource = nodesDF['positions0'][np.array(edgesDF['source_node_id'])]\n",
    "YlocofEdgeSource = nodesDF['positions1'][np.array(edgesDF['source_node_id'])]\n",
    "ZlocofEdgeSource = nodesDF['positions2'][np.array(edgesDF['source_node_id'])]"
   ]
  },
  {
   "cell_type": "code",
   "execution_count": 29,
   "id": "e7fd5ae1-26fc-4c08-8bef-f0436b507661",
   "metadata": {},
   "outputs": [],
   "source": [
    "xlocofEdgedest = nodesDF['positions0'][np.array(edgesDF['target_node_id'])]\n",
    "YlocofEdgedest = nodesDF['positions1'][np.array(edgesDF['target_node_id'])]\n",
    "ZlocofEdgedest = nodesDF['positions2'][np.array(edgesDF['target_node_id'])]"
   ]
  },
  {
   "cell_type": "code",
   "execution_count": 30,
   "id": "61b862d2-19e5-4f80-bdff-cc7fec4f2cd2",
   "metadata": {},
   "outputs": [],
   "source": [
    "locsList = [xlocofEdgeSource,YlocofEdgeSource,ZlocofEdgeSource,xlocofEdgedest,YlocofEdgedest,ZlocofEdgedest]\n",
    "locsList = [np.array(item).reshape(1,-1) for item in locsList]\n",
    "df = pd.DataFrame(np.concatenate(locsList)).T\n",
    "fig = px.line_3d(df, x=0, y=1,z=2)\n",
    "fig.write_html('testfig.html',auto_open=True)"
   ]
  },
  {
   "cell_type": "code",
   "execution_count": 31,
   "id": "9bcc687b-d706-4b6a-bab9-d0092510c372",
   "metadata": {},
   "outputs": [],
   "source": [
    "source,dest = np.array(edgesDF['source_node_id']),np.array(edgesDF['target_node_id'])"
   ]
  },
  {
   "cell_type": "code",
   "execution_count": 32,
   "id": "9ea287aa-0eb3-4c97-90e8-8b5a6e39698c",
   "metadata": {},
   "outputs": [],
   "source": [
    "pairs = np.vstack((source,dest)).T\n",
    "pairs = pairs.astype(int)"
   ]
  },
  {
   "cell_type": "code",
   "execution_count": 33,
   "id": "4ad2fa9b-8d6a-42a7-bf71-27f6689ce2d9",
   "metadata": {},
   "outputs": [],
   "source": [
    "X,Y,Z = np.array(nodesDF['positions0']),np.array(nodesDF['positions1']),np.array(nodesDF['positions2'])"
   ]
  },
  {
   "cell_type": "code",
   "execution_count": 520,
   "id": "6ab0eaa4-d8e1-4f1d-8a5f-36ebdcd5bca1",
   "metadata": {},
   "outputs": [],
   "source": [
    "x_lines = []\n",
    "y_lines = []\n",
    "z_lines = []\n",
    "\n",
    "#create the coordinate list for the lines\n",
    "for p in pairs:\n",
    "    for i in range(2):\n",
    "        x_lines.append(X[p[i]])\n",
    "        y_lines.append(Y[p[i]])\n",
    "        z_lines.append(Z[p[i]])\n",
    "    x_lines.append(None)\n",
    "    y_lines.append(None)\n",
    "    z_lines.append(None)\n",
    "\n",
    "trace2 = go.Scatter3d(\n",
    "    x=x_lines,\n",
    "    y=y_lines,\n",
    "    z=z_lines,\n",
    "    mode='lines',\n",
    "    name='lines'\n",
    ")\n",
    "\n",
    "figlines = go.Figure(data=[ trace2])\n"
   ]
  },
  {
   "cell_type": "code",
   "execution_count": null,
   "id": "a9f89686-fcb3-49e5-9ba6-1ed34ea63060",
   "metadata": {},
   "outputs": [],
   "source": [
    "fig.write_html('testfig.html',auto_open=True)"
   ]
  },
  {
   "cell_type": "markdown",
   "id": "19d19244-cffe-44d3-ae28-937fd2bdf5fd",
   "metadata": {},
   "source": [
    "### construct adjacency matrix of the directed graph"
   ]
  },
  {
   "cell_type": "code",
   "execution_count": null,
   "id": "706b71d8-b7a6-4580-8a84-04c6f2eeb6a3",
   "metadata": {},
   "outputs": [],
   "source": [
    "# nxn nodeids\n",
    "#each row is the number of outgoing connections to nodeids in the columns"
   ]
  },
  {
   "cell_type": "code",
   "execution_count": 15,
   "id": "11559fc6-e36c-449d-8b7b-f73c5e91036c",
   "metadata": {},
   "outputs": [],
   "source": [
    "targetIDs = np.array(edgesDF['target_node_id'])\n",
    "sourceIDs = np.array(edgesDF['source_node_id'])\n",
    "source2targetIDs = pd.DataFrame(np.vstack((sourceIDs,targetIDs))).T\n",
    "source2targetIDs.columns = ['source','target']\n",
    "df = source2targetIDs\n",
    "nodeArray = np.array(df)# nice to have a df for viewing and array for computing"
   ]
  },
  {
   "cell_type": "code",
   "execution_count": 16,
   "id": "fcca4915-76e6-4b04-bb82-339467406692",
   "metadata": {},
   "outputs": [],
   "source": [
    "#get the counts of source to target"
   ]
  },
  {
   "cell_type": "code",
   "execution_count": 17,
   "id": "55524a81-a230-4e21-b0d9-d1b125a15dc9",
   "metadata": {},
   "outputs": [],
   "source": [
    "IDS = np.arange(0,len(np.unique(df['source'])))\n",
    "adj = np.zeros((len(IDS),len(IDS)))#nxn matrix\n"
   ]
  },
  {
   "cell_type": "code",
   "execution_count": 18,
   "id": "86ff2480-02ab-46f8-8a28-5fb9a355fd0b",
   "metadata": {},
   "outputs": [],
   "source": [
    "for i in range(0,len(IDS)):\n",
    "    idxs = nodeArray[nodeArray[:,0]==i][:,1]#grab the targets for which the source id is i...\n",
    "    #add something for checking unique, or rate of messages, or something to add as the values instead of just 1 for a connection.\n",
    "    adj[i][idxs.astype(int)] = 1#... and place a 1 in that location. ideally this is the count of connections to this target, but for now it is only 1 connection in the model"
   ]
  },
  {
   "cell_type": "code",
   "execution_count": 23,
   "id": "32a80ea6-5d59-4e78-86c7-1fa46c3d79a7",
   "metadata": {},
   "outputs": [],
   "source": [
    "np.save('adjacencyMatrix',adj)"
   ]
  },
  {
   "cell_type": "markdown",
   "id": "4ac56656-9a17-4c83-bcf2-6bd1bd084507",
   "metadata": {},
   "source": [
    "# use the adjacency matrix to calculate summary statistics about the network"
   ]
  },
  {
   "cell_type": "code",
   "execution_count": 7,
   "id": "fe3ab3d1-e9b6-476c-9022-073383b079b6",
   "metadata": {},
   "outputs": [],
   "source": [
    "import networkx as nx"
   ]
  },
  {
   "cell_type": "code",
   "execution_count": 6,
   "id": "468b0e3c-2b04-4e17-becf-72e6a8ad8b93",
   "metadata": {},
   "outputs": [],
   "source": [
    "adj = np.load('adjacencyMatrix.npy')\n",
    "cellLocations = pd.read_csv('cell_locations.csv')\n"
   ]
  },
  {
   "cell_type": "code",
   "execution_count": 131,
   "id": "89415401-b016-41fa-b3e3-4a1c4ab3ad11",
   "metadata": {},
   "outputs": [],
   "source": [
    "#get a list of the layer names in order of \n",
    "layerList = cellLocations['Cell type']\n",
    "idxs = np.unique(cellLocations['Cell type'],return_index=True)[1]\n",
    "layerNames = [array[index] for index in sorted(idxs)]#use the names in the order in which the id's appear\n"
   ]
  },
  {
   "cell_type": "code",
   "execution_count": 68,
   "id": "80b7a71e-de92-4362-b09c-5710e1fcb36e",
   "metadata": {},
   "outputs": [],
   "source": [
    "# first get a df of the cell layers and their index boundaries"
   ]
  },
  {
   "cell_type": "code",
   "execution_count": 41,
   "id": "d080ebfa-d257-435e-8fd2-42abf33baab8",
   "metadata": {},
   "outputs": [],
   "source": [
    "def getSectionBeginEnd(layerNames,name):\n",
    "    group = np.where(layerNames == name)[0]\n",
    "    begin = group[0]\n",
    "    end = group[len(group)-1]\n",
    "    return begin,end"
   ]
  },
  {
   "cell_type": "code",
   "execution_count": 141,
   "id": "7fb645bc-f9a3-4c39-bb6f-82039eeb06a5",
   "metadata": {},
   "outputs": [],
   "source": [
    "starts,ends = [], []\n",
    "\n",
    "nameSet = list(set(layerNames))\n",
    "for name in layerNames:\n",
    "    begin, end = getSectionBeginEnd(layerList,name)\n",
    "    starts.append(begin)\n",
    "    ends.append(end)\n"
   ]
  },
  {
   "cell_type": "code",
   "execution_count": 142,
   "id": "1a06b647-b82d-4e23-a2d3-45dc7169d3f7",
   "metadata": {},
   "outputs": [
    {
     "data": {
      "text/html": [
       "<div>\n",
       "<style scoped>\n",
       "    .dataframe tbody tr th:only-of-type {\n",
       "        vertical-align: middle;\n",
       "    }\n",
       "\n",
       "    .dataframe tbody tr th {\n",
       "        vertical-align: top;\n",
       "    }\n",
       "\n",
       "    .dataframe thead th {\n",
       "        text-align: right;\n",
       "    }\n",
       "</style>\n",
       "<table border=\"1\" class=\"dataframe\">\n",
       "  <thead>\n",
       "    <tr style=\"text-align: right;\">\n",
       "      <th></th>\n",
       "      <th>start</th>\n",
       "      <th>end</th>\n",
       "    </tr>\n",
       "  </thead>\n",
       "  <tbody>\n",
       "    <tr>\n",
       "      <th>AAC in SP layer</th>\n",
       "      <td>0</td>\n",
       "      <td>34</td>\n",
       "    </tr>\n",
       "    <tr>\n",
       "      <th>Pyr in SP layer</th>\n",
       "      <td>35</td>\n",
       "      <td>198</td>\n",
       "    </tr>\n",
       "    <tr>\n",
       "      <th>AAC in SO layer</th>\n",
       "      <td>199</td>\n",
       "      <td>330</td>\n",
       "    </tr>\n",
       "    <tr>\n",
       "      <th>PV in SO layer</th>\n",
       "      <td>331</td>\n",
       "      <td>31480</td>\n",
       "    </tr>\n",
       "    <tr>\n",
       "      <th>OLM in SO layer</th>\n",
       "      <td>31481</td>\n",
       "      <td>31583</td>\n",
       "    </tr>\n",
       "    <tr>\n",
       "      <th>PV in SR layer</th>\n",
       "      <td>31584</td>\n",
       "      <td>31971</td>\n",
       "    </tr>\n",
       "    <tr>\n",
       "      <th>PV in SP layer</th>\n",
       "      <td>31972</td>\n",
       "      <td>31980</td>\n",
       "    </tr>\n",
       "    <tr>\n",
       "      <th>AAC in SR layer</th>\n",
       "      <td>31981</td>\n",
       "      <td>32013</td>\n",
       "    </tr>\n",
       "  </tbody>\n",
       "</table>\n",
       "</div>"
      ],
      "text/plain": [
       "                 start    end\n",
       "AAC in SP layer      0     34\n",
       "Pyr in SP layer     35    198\n",
       "AAC in SO layer    199    330\n",
       "PV in SO layer     331  31480\n",
       "OLM in SO layer  31481  31583\n",
       "PV in SR layer   31584  31971\n",
       "PV in SP layer   31972  31980\n",
       "AAC in SR layer  31981  32013"
      ]
     },
     "execution_count": 142,
     "metadata": {},
     "output_type": "execute_result"
    }
   ],
   "source": [
    "df1 = pd.DataFrame(starts,index = nameSet, columns = ['start'])\n",
    "df2 = pd.DataFrame(ends,index = nameSet, columns = ['end'])\n",
    "layerIdxsDF = pd.concat([df1,df2],axis=1)\n",
    "layerIdxsDF"
   ]
  },
  {
   "cell_type": "code",
   "execution_count": 78,
   "id": "dc819f25-5c8d-43ce-ab69-fe74c9bfcec7",
   "metadata": {},
   "outputs": [],
   "source": [
    "G = nx.from_numpy_array(adj,create_using=nx.DiGraph)#directed graph of the network, recall rows are senders, columns are recievers"
   ]
  },
  {
   "cell_type": "code",
   "execution_count": 237,
   "id": "886fed84-7364-4d4d-b075-07b4dabd2012",
   "metadata": {},
   "outputs": [],
   "source": [
    "def groupSumStats(G,IDS):\n",
    "    out_degree_centrality = nx.group_out_degree_centrality(G,IDS)\n",
    "    in_degree_centrality = nx.group_in_degree_centrality(G,IDS)\n",
    "    clusterDict = nx.clustering(G, IDS)\n",
    "    avgClustering = np.mean([clusterDict[key] for key in clusterDict])\n",
    "    return [in_degree_centrality,out_degree_centrality,avgClustering]"
   ]
  },
  {
   "cell_type": "code",
   "execution_count": 209,
   "id": "78a6d74f-3997-46fa-9c9c-86d6c8e32a59",
   "metadata": {},
   "outputs": [],
   "source": [
    "def calcNetStats(G,layerList,layerNames):\n",
    "    AllStats = []\n",
    "    for name in layerNames:\n",
    "        IDS = np.where(layerList == name)[0]\n",
    "        AllStats.append(groupSumStats(G,IDS))\n",
    "    return AllStats"
   ]
  },
  {
   "cell_type": "code",
   "execution_count": 238,
   "id": "8a649546-0dd7-4331-b792-21a8c568e781",
   "metadata": {},
   "outputs": [],
   "source": [
    "netStats = calcNetStats(G,layerList,layerNames)"
   ]
  },
  {
   "cell_type": "code",
   "execution_count": 221,
   "id": "b7efb770-2f67-4a80-9e29-8cd54a947be0",
   "metadata": {},
   "outputs": [
    {
     "name": "stdout",
     "output_type": "stream",
     "text": [
      "[0, 13732, 4]\n"
     ]
    }
   ],
   "source": []
  },
  {
   "cell_type": "code",
   "execution_count": 242,
   "id": "4097e9b4-1a3e-4adb-8f29-b7a95195b93a",
   "metadata": {},
   "outputs": [],
   "source": [
    "results.to_csv('networkStats.csv')"
   ]
  },
  {
   "cell_type": "code",
   "execution_count": 175,
   "id": "a301421e-9dcd-467e-a0aa-c9702a505b45",
   "metadata": {},
   "outputs": [],
   "source": [
    "# make a dataframe with rows are layer names, and columns with the given metric's summary stats"
   ]
  },
  {
   "cell_type": "code",
   "execution_count": 241,
   "id": "27f83811-c0fa-42b0-a187-b0308d290cd4",
   "metadata": {},
   "outputs": [
    {
     "data": {
      "text/html": [
       "<div>\n",
       "<style scoped>\n",
       "    .dataframe tbody tr th:only-of-type {\n",
       "        vertical-align: middle;\n",
       "    }\n",
       "\n",
       "    .dataframe tbody tr th {\n",
       "        vertical-align: top;\n",
       "    }\n",
       "\n",
       "    .dataframe thead th {\n",
       "        text-align: right;\n",
       "    }\n",
       "</style>\n",
       "<table border=\"1\" class=\"dataframe\">\n",
       "  <thead>\n",
       "    <tr style=\"text-align: right;\">\n",
       "      <th></th>\n",
       "      <th>inDeg_cent</th>\n",
       "      <th>outDeg_cent</th>\n",
       "      <th>avgClustering</th>\n",
       "    </tr>\n",
       "  </thead>\n",
       "  <tbody>\n",
       "    <tr>\n",
       "      <th>AAC in SO layer</th>\n",
       "      <td>0.176178</td>\n",
       "      <td>0.712812</td>\n",
       "      <td>0.002812</td>\n",
       "    </tr>\n",
       "    <tr>\n",
       "      <th>OLM in SO layer</th>\n",
       "      <td>0.977991</td>\n",
       "      <td>0.998619</td>\n",
       "      <td>0.001232</td>\n",
       "    </tr>\n",
       "    <tr>\n",
       "      <th>PV in SO layer</th>\n",
       "      <td>0.817013</td>\n",
       "      <td>0.969418</td>\n",
       "      <td>0.005264</td>\n",
       "    </tr>\n",
       "    <tr>\n",
       "      <th>Pyr in SP layer</th>\n",
       "      <td>1.000000</td>\n",
       "      <td>1.000000</td>\n",
       "      <td>0.057975</td>\n",
       "    </tr>\n",
       "    <tr>\n",
       "      <th>AAC in SP layer</th>\n",
       "      <td>0.450158</td>\n",
       "      <td>0.960014</td>\n",
       "      <td>0.002537</td>\n",
       "    </tr>\n",
       "    <tr>\n",
       "      <th>PV in SP layer</th>\n",
       "      <td>0.986688</td>\n",
       "      <td>0.994720</td>\n",
       "      <td>0.005061</td>\n",
       "    </tr>\n",
       "    <tr>\n",
       "      <th>AAC in SR layer</th>\n",
       "      <td>0.054460</td>\n",
       "      <td>0.290267</td>\n",
       "      <td>0.002830</td>\n",
       "    </tr>\n",
       "    <tr>\n",
       "      <th>PV in SR layer</th>\n",
       "      <td>0.353960</td>\n",
       "      <td>0.608955</td>\n",
       "      <td>0.005015</td>\n",
       "    </tr>\n",
       "  </tbody>\n",
       "</table>\n",
       "</div>"
      ],
      "text/plain": [
       "                 inDeg_cent  outDeg_cent  avgClustering\n",
       "AAC in SO layer    0.176178     0.712812       0.002812\n",
       "OLM in SO layer    0.977991     0.998619       0.001232\n",
       "PV in SO layer     0.817013     0.969418       0.005264\n",
       "Pyr in SP layer    1.000000     1.000000       0.057975\n",
       "AAC in SP layer    0.450158     0.960014       0.002537\n",
       "PV in SP layer     0.986688     0.994720       0.005061\n",
       "AAC in SR layer    0.054460     0.290267       0.002830\n",
       "PV in SR layer     0.353960     0.608955       0.005015"
      ]
     },
     "execution_count": 241,
     "metadata": {},
     "output_type": "execute_result"
    }
   ],
   "source": [
    "\n",
    "netStatNames = [\"inDeg_cent\",\"outDeg_cent\",\"avgClustering\"]\n",
    "results = pd.DataFrame(netStats,columns = netStatNames,index = layerNames)\n",
    "results"
   ]
  },
  {
   "cell_type": "code",
   "execution_count": 240,
   "id": "376ef401-107c-4012-8611-3eb34659bacb",
   "metadata": {},
   "outputs": [
    {
     "name": "stdout",
     "output_type": "stream",
     "text": [
      "[0, 13732, 4]\n"
     ]
    }
   ],
   "source": [
    "#other metrics to explore:\n",
    "print(nx.shortest_path(G, source=0, target=4))"
   ]
  },
  {
   "cell_type": "code",
   "execution_count": 114,
   "id": "986c85a8-0971-417d-a276-8e4a9897f2d6",
   "metadata": {},
   "outputs": [
    {
     "data": {
      "text/plain": [
       "RangeIndex(start=0, stop=1, step=1)"
      ]
     },
     "execution_count": 114,
     "metadata": {},
     "output_type": "execute_result"
    }
   ],
   "source": [
    "test.index"
   ]
  },
  {
   "cell_type": "code",
   "execution_count": null,
   "id": "f60f8eeb-c0b4-4aa5-a618-032bba02bc74",
   "metadata": {},
   "outputs": [],
   "source": [
    "#just get the indices of the layer ranges, and comput the sum stats over that in the adj matrix"
   ]
  },
  {
   "cell_type": "code",
   "execution_count": 42,
   "id": "8cccd2ea-eaac-4c16-98f4-69d4f3902341",
   "metadata": {},
   "outputs": [
    {
     "data": {
      "text/plain": [
       "(array([93], dtype=int64),)"
      ]
     },
     "execution_count": 42,
     "metadata": {},
     "output_type": "execute_result"
    }
   ],
   "source": [
    "np.where(cent==max(cent))"
   ]
  },
  {
   "cell_type": "code",
   "execution_count": 46,
   "id": "60e4b3d6-9fd0-421a-bc3c-52f6f31703c7",
   "metadata": {},
   "outputs": [
    {
     "data": {
      "text/plain": [
       "93    OLM in SO layer\n",
       "Name: node_type_id, dtype: object"
      ]
     },
     "execution_count": 46,
     "metadata": {},
     "output_type": "execute_result"
    }
   ],
   "source": [
    "layerNames[np.where(cent==max(cent))[0]]"
   ]
  },
  {
   "cell_type": "code",
   "execution_count": 43,
   "id": "e1032faf-beed-436f-a65d-14a3f1786448",
   "metadata": {},
   "outputs": [],
   "source": []
  },
  {
   "cell_type": "code",
   "execution_count": 29,
   "id": "66d6f160-4cf1-4cf0-9d0b-92c74361b19b",
   "metadata": {},
   "outputs": [
    {
     "data": {
      "text/plain": [
       "32014"
      ]
     },
     "execution_count": 29,
     "metadata": {},
     "output_type": "execute_result"
    }
   ],
   "source": [
    "adjacencyDF = pd.DataFrame(adj,columns = IDS,index=IDS)"
   ]
  },
  {
   "cell_type": "markdown",
   "id": "e53555f7-12e9-4f8c-bbe6-8c69fcea0515",
   "metadata": {},
   "source": [
    "# model output results"
   ]
  },
  {
   "cell_type": "code",
   "execution_count": 23,
   "id": "13f89a26-04d2-4b2f-a122-95bd886bc183",
   "metadata": {},
   "outputs": [],
   "source": [
    "outpath = 'output'"
   ]
  },
  {
   "cell_type": "code",
   "execution_count": 24,
   "id": "7a46b210-e337-4d97-a11e-cc5370fbf391",
   "metadata": {},
   "outputs": [
    {
     "name": "stdout",
     "output_type": "stream",
     "text": [
      "spikes\n",
      "spikes/biophysical\n",
      "spikes/biophysical/node_ids\n",
      "spikes/biophysical/timestamps\n"
     ]
    }
   ],
   "source": [
    "f = h5py.File(os.path.join(outpath,'spikes.h5'), 'r')\n",
    "f.visit(print)"
   ]
  },
  {
   "cell_type": "code",
   "execution_count": 25,
   "id": "e6691c1c-5743-4b02-89cd-13dc8fb3597c",
   "metadata": {},
   "outputs": [],
   "source": [
    "spikesDF = SaveDataToDF(f) "
   ]
  },
  {
   "cell_type": "code",
   "execution_count": 26,
   "id": "d06da58c-fbd9-4a15-990a-5542dee70853",
   "metadata": {},
   "outputs": [
    {
     "data": {
      "text/html": [
       "<div>\n",
       "<style scoped>\n",
       "    .dataframe tbody tr th:only-of-type {\n",
       "        vertical-align: middle;\n",
       "    }\n",
       "\n",
       "    .dataframe tbody tr th {\n",
       "        vertical-align: top;\n",
       "    }\n",
       "\n",
       "    .dataframe thead th {\n",
       "        text-align: right;\n",
       "    }\n",
       "</style>\n",
       "<table border=\"1\" class=\"dataframe\">\n",
       "  <thead>\n",
       "    <tr style=\"text-align: right;\">\n",
       "      <th></th>\n",
       "      <th>node_ids</th>\n",
       "      <th>timestamps</th>\n",
       "    </tr>\n",
       "  </thead>\n",
       "  <tbody>\n",
       "    <tr>\n",
       "      <th>0</th>\n",
       "      <td>5.0</td>\n",
       "      <td>155.0</td>\n",
       "    </tr>\n",
       "    <tr>\n",
       "      <th>1</th>\n",
       "      <td>13.0</td>\n",
       "      <td>155.0</td>\n",
       "    </tr>\n",
       "  </tbody>\n",
       "</table>\n",
       "</div>"
      ],
      "text/plain": [
       "   node_ids  timestamps\n",
       "0       5.0       155.0\n",
       "1      13.0       155.0"
      ]
     },
     "execution_count": 26,
     "metadata": {},
     "output_type": "execute_result"
    }
   ],
   "source": [
    "spikesDF"
   ]
  },
  {
   "cell_type": "code",
   "execution_count": 27,
   "id": "df4a1653-aaab-4a8e-b5d0-c5ef768bfe6b",
   "metadata": {},
   "outputs": [
    {
     "name": "stdout",
     "output_type": "stream",
     "text": [
      "report\n",
      "report/biophysical\n",
      "report/biophysical/data\n",
      "report/biophysical/mapping\n",
      "report/biophysical/mapping/element_ids\n",
      "report/biophysical/mapping/element_pos\n",
      "report/biophysical/mapping/index_pointer\n",
      "report/biophysical/mapping/node_ids\n",
      "report/biophysical/mapping/time\n"
     ]
    }
   ],
   "source": [
    "f = h5py.File(os.path.join(outpath,'v_report.h5'), 'r')\n",
    "f.visit(print)"
   ]
  },
  {
   "cell_type": "code",
   "execution_count": 28,
   "id": "482668ea-457c-4e90-822c-53772c973ef5",
   "metadata": {},
   "outputs": [],
   "source": [
    "traces = f['report/biophysical/data'][()]"
   ]
  },
  {
   "cell_type": "code",
   "execution_count": 29,
   "id": "b5b5133d-e13d-4f56-b4d1-ace47c74893a",
   "metadata": {},
   "outputs": [],
   "source": [
    "f.close()"
   ]
  },
  {
   "cell_type": "code",
   "execution_count": 30,
   "id": "e2a250ff-fc75-45ba-8622-50299ee8ad37",
   "metadata": {},
   "outputs": [
    {
     "data": {
      "image/png": "[encoded data removed]",
      "text/plain": [
       "<Figure size 432x288 with 1 Axes>"
      ]
     },
     "metadata": {
      "needs_background": "light"
     },
     "output_type": "display_data"
    }
   ],
   "source": [
    "plt.plot(traces[:,0:100])\n",
    "plt.show()"
   ]
  },
  {
   "cell_type": "code",
   "execution_count": 38,
   "id": "71549e87-9048-49ef-8ee3-85b4439b5884",
   "metadata": {},
   "outputs": [
    {
     "name": "stdout",
     "output_type": "stream",
     "text": [
      "spikes\n"
     ]
    }
   ],
   "source": [
    "f = h5py.File('CA1_inputs/bg_pn_spikes.h5', 'r')\n",
    "f.visit(print)"
   ]
  },
  {
   "cell_type": "code",
   "execution_count": 48,
   "id": "bd1af0ff-3d4e-4735-b4cc-8ff113f2939d",
   "metadata": {},
   "outputs": [
    {
     "name": "stderr",
     "output_type": "stream",
     "text": [
      "'wget' is not recognized as an internal or external command,\n",
      "operable program or batch file.\n"
     ]
    }
   ],
   "source": [
    "!wget https://github.com/AllenInstitute/bmtk/blob/develop/docs/examples/spikes_inputs/lgn_spikes.h5?raw=true -O lgn_spikes.h5\n",
    "\n"
   ]
  },
  {
   "cell_type": "code",
   "execution_count": 49,
   "id": "42a48ee4-f014-41f8-821c-7069903ba3c5",
   "metadata": {},
   "outputs": [
    {
     "name": "stdout",
     "output_type": "stream",
     "text": [
      "ecp\n",
      "ecp/channel_id\n",
      "ecp/data\n",
      "ecp/time\n"
     ]
    }
   ],
   "source": [
    "f = h5py.File('output\\ecp.h5', 'r')\n",
    "f.visit(print)"
   ]
  },
  {
   "cell_type": "code",
   "execution_count": 55,
   "id": "2dc88d0e-23de-42a1-b30f-9bd6e84ccaae",
   "metadata": {},
   "outputs": [],
   "source": [
    "data = f['ecp/data'][()]\n",
    "time = f['ecp/time'][()]"
   ]
  },
  {
   "cell_type": "code",
   "execution_count": 60,
   "id": "b64c70db-3dc2-49f8-8d9c-51d84afaf263",
   "metadata": {},
   "outputs": [
    {
     "data": {
      "text/plain": [
       "[<matplotlib.lines.Line2D at 0x189e84ec9d0>,\n",
       " <matplotlib.lines.Line2D at 0x189e84eca30>,\n",
       " <matplotlib.lines.Line2D at 0x189e84ecb50>,\n",
       " <matplotlib.lines.Line2D at 0x189e84ecc70>,\n",
       " <matplotlib.lines.Line2D at 0x189e84ecd90>,\n",
       " <matplotlib.lines.Line2D at 0x189e84eceb0>,\n",
       " <matplotlib.lines.Line2D at 0x189e84ecfd0>,\n",
       " <matplotlib.lines.Line2D at 0x189e84f6130>,\n",
       " <matplotlib.lines.Line2D at 0x189e84f6250>,\n",
       " <matplotlib.lines.Line2D at 0x189e84f6370>,\n",
       " <matplotlib.lines.Line2D at 0x189e84ec9a0>,\n",
       " <matplotlib.lines.Line2D at 0x189e84f6490>,\n",
       " <matplotlib.lines.Line2D at 0x189e84f66a0>]"
      ]
     },
     "execution_count": 60,
     "metadata": {},
     "output_type": "execute_result"
    },
    {
     "data": {
      "image/png": "[encoded data removed]",
      "text/plain": [
       "<Figure size 432x288 with 1 Axes>"
      ]
     },
     "metadata": {
      "needs_background": "light"
     },
     "output_type": "display_data"
    }
   ],
   "source": [
    "plt.plot(data)"
   ]
  },
  {
   "cell_type": "code",
   "execution_count": 121,
   "id": "62edbfc7-84ae-487e-9cb8-11888249aa72",
   "metadata": {},
   "outputs": [
    {
     "data": {
      "image/png": "[encoded data removed]",
      "text/plain": [
       "<Figure size 432x288 with 1 Axes>"
      ]
     },
     "metadata": {
      "needs_background": "light"
     },
     "output_type": "display_data"
    }
   ],
   "source": [
    "start,end = 2000,2070\n",
    "plt.plot(np.arange(start,end),data[start:end])\n",
    "plt.show()"
   ]
  },
  {
   "cell_type": "code",
   "execution_count": 122,
   "id": "baca2233-0d78-4536-a1bd-4708f48672be",
   "metadata": {},
   "outputs": [
    {
     "data": {
      "image/png": "[encoded data removed]",
      "text/plain": [
       "<Figure size 432x288 with 1 Axes>"
      ]
     },
     "metadata": {
      "needs_background": "light"
     },
     "output_type": "display_data"
    }
   ],
   "source": [
    "plt.plot(np.arange(start,end),np.sum(data[start:end],axis=1))\n",
    "plt.show()"
   ]
  },
  {
   "cell_type": "markdown",
   "id": "34dfa6b4-3e1b-4daf-8005-ad9577c9d239",
   "metadata": {},
   "source": [
    "# TESTING"
   ]
  },
  {
   "cell_type": "code",
   "execution_count": 68,
   "id": "a1e16abb-366b-4c43-9824-eca483b238b0",
   "metadata": {},
   "outputs": [],
   "source": [
    "from bmtk.utils.reports.spike_trains import PoissonSpikeGenerator"
   ]
  },
  {
   "cell_type": "code",
   "execution_count": 70,
   "id": "2158fa73-f1b0-4cf4-9d33-f9c806b0b887",
   "metadata": {},
   "outputs": [],
   "source": [
    "numPyr = 30 \n",
    "t_stim = 1000.0"
   ]
  },
  {
   "cell_type": "code",
   "execution_count": 117,
   "id": "cb306848-fcc3-4472-9d70-58d4cd352d38",
   "metadata": {},
   "outputs": [],
   "source": [
    "psg = PoissonSpikeGenerator(population='bg_pn')\n",
    "\n",
    "psg.add(node_ids=range(0,numPyr),  # need same number as cells\n",
    "        firing_rate=5,    # 1 spike every 5 seconds Hz\n",
    "        times=(0.0, t_stim/1000))  # time is in seconds for some reason\n"
   ]
  },
  {
   "cell_type": "code",
   "execution_count": 83,
   "id": "499285cd-6584-47a4-99a4-fbe5da17c6fb",
   "metadata": {},
   "outputs": [
    {
     "data": {
      "text/plain": [
       "['__class__',\n",
       " '__delattr__',\n",
       " '__dict__',\n",
       " '__dir__',\n",
       " '__doc__',\n",
       " '__eq__',\n",
       " '__format__',\n",
       " '__ge__',\n",
       " '__getattr__',\n",
       " '__getattribute__',\n",
       " '__gt__',\n",
       " '__hash__',\n",
       " '__init__',\n",
       " '__init_subclass__',\n",
       " '__le__',\n",
       " '__len__',\n",
       " '__lt__',\n",
       " '__module__',\n",
       " '__ne__',\n",
       " '__new__',\n",
       " '__reduce__',\n",
       " '__reduce_ex__',\n",
       " '__repr__',\n",
       " '__setattr__',\n",
       " '__sizeof__',\n",
       " '__str__',\n",
       " '__subclasshook__',\n",
       " '__weakref__',\n",
       " '_build_fixed_fr',\n",
       " '_build_inhomegeous_fr',\n",
       " 'adaptor',\n",
       " 'add',\n",
       " 'from_csv',\n",
       " 'from_nwb',\n",
       " 'from_sonata',\n",
       " 'load',\n",
       " 'max_spikes_per_node',\n",
       " 'time_range']"
      ]
     },
     "execution_count": 83,
     "metadata": {},
     "output_type": "execute_result"
    }
   ],
   "source": [
    "dir(psg)"
   ]
  },
  {
   "cell_type": "code",
   "execution_count": 110,
   "id": "273359bd-0849-4167-bc72-1bbeb982e18a",
   "metadata": {},
   "outputs": [
    {
     "data": {
      "text/plain": [
       "(nan, nan)"
      ]
     },
     "execution_count": 110,
     "metadata": {},
     "output_type": "execute_result"
    }
   ],
   "source": [
    "psg.time_range()"
   ]
  },
  {
   "cell_type": "code",
   "execution_count": 118,
   "id": "0748f1b1-ea4b-491f-9d1e-d7a08606269e",
   "metadata": {},
   "outputs": [],
   "source": [
    "psg.to_csv('CA1_inputs/bg_pn_spikes.txt')"
   ]
  },
  {
   "cell_type": "code",
   "execution_count": 123,
   "id": "26c28374-f117-4754-997d-636423f911ed",
   "metadata": {},
   "outputs": [],
   "source": [
    "f.close()"
   ]
  }
 ],
 "metadata": {
  "kernelspec": {
   "display_name": "Python 3 (ipykernel)",
   "language": "python",
   "name": "python3"
  },
  "language_info": {
   "codemirror_mode": {
    "name": "ipython",
    "version": 3
   },
   "file_extension": ".py",
   "mimetype": "text/x-python",
   "name": "python",
   "nbconvert_exporter": "python",
   "pygments_lexer": "ipython3",
   "version": "3.9.11"
  }
 },
 "nbformat": 4,
 "nbformat_minor": 5
}
