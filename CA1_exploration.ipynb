{
 "cells": [
  {
   "cell_type": "code",
   "execution_count": 1,
   "id": "79215a13-4816-4dda-8292-da71d74543c2",
   "metadata": {},
   "outputs": [],
   "source": [
    "import h5py\n",
    "import os\n",
    "import matplotlib.pyplot as plt\n",
    "import numpy as np\n",
    "import pandas as pd\n"
   ]
  },
  {
   "cell_type": "markdown",
   "id": "11e28390-c2f3-4cef-a6f8-ef56f67c7b1e",
   "metadata": {},
   "source": [
    "# Read all data from the nodes and edges file saved by build_network.py"
   ]
  },
  {
   "cell_type": "code",
   "execution_count": 6,
   "id": "e1bd492c-e2c9-4118-8572-d20bf6092a04",
   "metadata": {},
   "outputs": [],
   "source": [
    "def SaveDataToDF(f):\n",
    "    myData = []\n",
    "    myDataNames = []\n",
    "    def saveDat(item):\n",
    "        if 'Data' in str(f[item].id):\n",
    "            data2use = f[item][()]\n",
    "            if data2use.ndim == 2:#some groups have multiple columns and this messes up the translation to a df at the end of this function\n",
    "                [a,b] = data2use.shape\n",
    "                for col in np.arange(0,b):\n",
    "                    myData.append(data2use[:,col])\n",
    "                    dataName = (f[item].name).split('/')[-1] + str(col)\n",
    "                    myDataNames.append(dataName)\n",
    "            else:\n",
    "                myData.append(f[item][()])\n",
    "                dataName = (f[item].name).split('/')[-1]\n",
    "                myDataNames.append(dataName)\n",
    "        \n",
    "    f.visit(saveDat)\n",
    "    allData = pd.DataFrame(myData).T\n",
    "    allData.columns = myDataNames\n",
    "    f.close()\n",
    "    return allData"
   ]
  },
  {
   "cell_type": "code",
   "execution_count": 65,
   "id": "99bef7d7-8999-4078-afdc-bc2ed07fd2c7",
   "metadata": {},
   "outputs": [],
   "source": [
    "pathname = 'network'"
   ]
  },
  {
   "cell_type": "code",
   "execution_count": 4,
   "id": "a666d5a1-d652-4d67-b0c5-45bf97923ff8",
   "metadata": {},
   "outputs": [
    {
     "name": "stdout",
     "output_type": "stream",
     "text": [
      "edges\n",
      "edges/biophysical_to_biophysical\n",
      "edges/biophysical_to_biophysical/0\n",
      "edges/biophysical_to_biophysical/0/nsyns\n",
      "edges/biophysical_to_biophysical/edge_group_id\n",
      "edges/biophysical_to_biophysical/edge_group_index\n",
      "edges/biophysical_to_biophysical/edge_type_id\n",
      "edges/biophysical_to_biophysical/indices\n",
      "edges/biophysical_to_biophysical/indices/source_to_target\n",
      "edges/biophysical_to_biophysical/indices/source_to_target/node_id_to_range\n",
      "edges/biophysical_to_biophysical/indices/source_to_target/range_to_edge_id\n",
      "edges/biophysical_to_biophysical/indices/target_to_source\n",
      "edges/biophysical_to_biophysical/indices/target_to_source/node_id_to_range\n",
      "edges/biophysical_to_biophysical/indices/target_to_source/range_to_edge_id\n",
      "edges/biophysical_to_biophysical/source_node_id\n",
      "edges/biophysical_to_biophysical/target_node_id\n"
     ]
    }
   ],
   "source": [
    "f = h5py.File(os.path.join(pathname,'biophysical_biophysical_edges.h5'), 'r')\n",
    "f.visit(print)"
   ]
  },
  {
   "cell_type": "code",
   "execution_count": 5,
   "id": "a3b74321-e4ae-4444-8322-ad7dcce83cac",
   "metadata": {},
   "outputs": [],
   "source": [
    "edgesDF = SaveDataToDF(f) "
   ]
  },
  {
   "cell_type": "code",
   "execution_count": 6,
   "id": "38958ccb-90bd-4920-bbea-78ef07ea73bc",
   "metadata": {},
   "outputs": [
    {
     "data": {
      "text/html": [
       "<div>\n",
       "<style scoped>\n",
       "    .dataframe tbody tr th:only-of-type {\n",
       "        vertical-align: middle;\n",
       "    }\n",
       "\n",
       "    .dataframe tbody tr th {\n",
       "        vertical-align: top;\n",
       "    }\n",
       "\n",
       "    .dataframe thead th {\n",
       "        text-align: right;\n",
       "    }\n",
       "</style>\n",
       "<table border=\"1\" class=\"dataframe\">\n",
       "  <thead>\n",
       "    <tr style=\"text-align: right;\">\n",
       "      <th></th>\n",
       "      <th>nsyns</th>\n",
       "      <th>edge_group_id</th>\n",
       "      <th>edge_group_index</th>\n",
       "      <th>edge_type_id</th>\n",
       "      <th>node_id_to_range0</th>\n",
       "      <th>node_id_to_range1</th>\n",
       "      <th>range_to_edge_id0</th>\n",
       "      <th>range_to_edge_id1</th>\n",
       "      <th>node_id_to_range0</th>\n",
       "      <th>node_id_to_range1</th>\n",
       "      <th>range_to_edge_id0</th>\n",
       "      <th>range_to_edge_id1</th>\n",
       "      <th>source_node_id</th>\n",
       "      <th>target_node_id</th>\n",
       "    </tr>\n",
       "  </thead>\n",
       "  <tbody>\n",
       "    <tr>\n",
       "      <th>0</th>\n",
       "      <td>1.0</td>\n",
       "      <td>0.0</td>\n",
       "      <td>0.0</td>\n",
       "      <td>101.0</td>\n",
       "      <td>0.0</td>\n",
       "      <td>1479.0</td>\n",
       "      <td>840993.0</td>\n",
       "      <td>840994.0</td>\n",
       "      <td>0.0</td>\n",
       "      <td>1.0</td>\n",
       "      <td>0.0</td>\n",
       "      <td>246.0</td>\n",
       "      <td>21982.0</td>\n",
       "      <td>0.0</td>\n",
       "    </tr>\n",
       "    <tr>\n",
       "      <th>1</th>\n",
       "      <td>1.0</td>\n",
       "      <td>0.0</td>\n",
       "      <td>1.0</td>\n",
       "      <td>104.0</td>\n",
       "      <td>1479.0</td>\n",
       "      <td>2526.0</td>\n",
       "      <td>1121429.0</td>\n",
       "      <td>1121430.0</td>\n",
       "      <td>1.0</td>\n",
       "      <td>2.0</td>\n",
       "      <td>246.0</td>\n",
       "      <td>409.0</td>\n",
       "      <td>31873.0</td>\n",
       "      <td>0.0</td>\n",
       "    </tr>\n",
       "    <tr>\n",
       "      <th>2</th>\n",
       "      <td>1.0</td>\n",
       "      <td>0.0</td>\n",
       "      <td>2.0</td>\n",
       "      <td>104.0</td>\n",
       "      <td>2526.0</td>\n",
       "      <td>3917.0</td>\n",
       "      <td>756536.0</td>\n",
       "      <td>756537.0</td>\n",
       "      <td>2.0</td>\n",
       "      <td>3.0</td>\n",
       "      <td>409.0</td>\n",
       "      <td>659.0</td>\n",
       "      <td>253.0</td>\n",
       "      <td>0.0</td>\n",
       "    </tr>\n",
       "    <tr>\n",
       "      <th>3</th>\n",
       "      <td>1.0</td>\n",
       "      <td>0.0</td>\n",
       "      <td>3.0</td>\n",
       "      <td>101.0</td>\n",
       "      <td>3917.0</td>\n",
       "      <td>5218.0</td>\n",
       "      <td>1378903.0</td>\n",
       "      <td>1378904.0</td>\n",
       "      <td>3.0</td>\n",
       "      <td>4.0</td>\n",
       "      <td>659.0</td>\n",
       "      <td>864.0</td>\n",
       "      <td>8167.0</td>\n",
       "      <td>0.0</td>\n",
       "    </tr>\n",
       "    <tr>\n",
       "      <th>4</th>\n",
       "      <td>1.0</td>\n",
       "      <td>0.0</td>\n",
       "      <td>4.0</td>\n",
       "      <td>107.0</td>\n",
       "      <td>5218.0</td>\n",
       "      <td>6170.0</td>\n",
       "      <td>1006843.0</td>\n",
       "      <td>1006844.0</td>\n",
       "      <td>4.0</td>\n",
       "      <td>5.0</td>\n",
       "      <td>864.0</td>\n",
       "      <td>1024.0</td>\n",
       "      <td>176.0</td>\n",
       "      <td>0.0</td>\n",
       "    </tr>\n",
       "    <tr>\n",
       "      <th>...</th>\n",
       "      <td>...</td>\n",
       "      <td>...</td>\n",
       "      <td>...</td>\n",
       "      <td>...</td>\n",
       "      <td>...</td>\n",
       "      <td>...</td>\n",
       "      <td>...</td>\n",
       "      <td>...</td>\n",
       "      <td>...</td>\n",
       "      <td>...</td>\n",
       "      <td>...</td>\n",
       "      <td>...</td>\n",
       "      <td>...</td>\n",
       "      <td>...</td>\n",
       "    </tr>\n",
       "    <tr>\n",
       "      <th>1631825</th>\n",
       "      <td>1.0</td>\n",
       "      <td>0.0</td>\n",
       "      <td>1631825.0</td>\n",
       "      <td>103.0</td>\n",
       "      <td>NaN</td>\n",
       "      <td>NaN</td>\n",
       "      <td>NaN</td>\n",
       "      <td>NaN</td>\n",
       "      <td>NaN</td>\n",
       "      <td>NaN</td>\n",
       "      <td>NaN</td>\n",
       "      <td>NaN</td>\n",
       "      <td>30021.0</td>\n",
       "      <td>32013.0</td>\n",
       "    </tr>\n",
       "    <tr>\n",
       "      <th>1631826</th>\n",
       "      <td>1.0</td>\n",
       "      <td>0.0</td>\n",
       "      <td>1631826.0</td>\n",
       "      <td>103.0</td>\n",
       "      <td>NaN</td>\n",
       "      <td>NaN</td>\n",
       "      <td>NaN</td>\n",
       "      <td>NaN</td>\n",
       "      <td>NaN</td>\n",
       "      <td>NaN</td>\n",
       "      <td>NaN</td>\n",
       "      <td>NaN</td>\n",
       "      <td>17270.0</td>\n",
       "      <td>32013.0</td>\n",
       "    </tr>\n",
       "    <tr>\n",
       "      <th>1631827</th>\n",
       "      <td>1.0</td>\n",
       "      <td>0.0</td>\n",
       "      <td>1631827.0</td>\n",
       "      <td>103.0</td>\n",
       "      <td>NaN</td>\n",
       "      <td>NaN</td>\n",
       "      <td>NaN</td>\n",
       "      <td>NaN</td>\n",
       "      <td>NaN</td>\n",
       "      <td>NaN</td>\n",
       "      <td>NaN</td>\n",
       "      <td>NaN</td>\n",
       "      <td>14976.0</td>\n",
       "      <td>32013.0</td>\n",
       "    </tr>\n",
       "    <tr>\n",
       "      <th>1631828</th>\n",
       "      <td>1.0</td>\n",
       "      <td>0.0</td>\n",
       "      <td>1631828.0</td>\n",
       "      <td>103.0</td>\n",
       "      <td>NaN</td>\n",
       "      <td>NaN</td>\n",
       "      <td>NaN</td>\n",
       "      <td>NaN</td>\n",
       "      <td>NaN</td>\n",
       "      <td>NaN</td>\n",
       "      <td>NaN</td>\n",
       "      <td>NaN</td>\n",
       "      <td>3507.0</td>\n",
       "      <td>32013.0</td>\n",
       "    </tr>\n",
       "    <tr>\n",
       "      <th>1631829</th>\n",
       "      <td>1.0</td>\n",
       "      <td>0.0</td>\n",
       "      <td>1631829.0</td>\n",
       "      <td>103.0</td>\n",
       "      <td>NaN</td>\n",
       "      <td>NaN</td>\n",
       "      <td>NaN</td>\n",
       "      <td>NaN</td>\n",
       "      <td>NaN</td>\n",
       "      <td>NaN</td>\n",
       "      <td>NaN</td>\n",
       "      <td>NaN</td>\n",
       "      <td>27741.0</td>\n",
       "      <td>32013.0</td>\n",
       "    </tr>\n",
       "  </tbody>\n",
       "</table>\n",
       "<p>1631830 rows × 14 columns</p>\n",
       "</div>"
      ],
      "text/plain": [
       "         nsyns  edge_group_id  edge_group_index  edge_type_id  \\\n",
       "0          1.0            0.0               0.0         101.0   \n",
       "1          1.0            0.0               1.0         104.0   \n",
       "2          1.0            0.0               2.0         104.0   \n",
       "3          1.0            0.0               3.0         101.0   \n",
       "4          1.0            0.0               4.0         107.0   \n",
       "...        ...            ...               ...           ...   \n",
       "1631825    1.0            0.0         1631825.0         103.0   \n",
       "1631826    1.0            0.0         1631826.0         103.0   \n",
       "1631827    1.0            0.0         1631827.0         103.0   \n",
       "1631828    1.0            0.0         1631828.0         103.0   \n",
       "1631829    1.0            0.0         1631829.0         103.0   \n",
       "\n",
       "         node_id_to_range0  node_id_to_range1  range_to_edge_id0  \\\n",
       "0                      0.0             1479.0           840993.0   \n",
       "1                   1479.0             2526.0          1121429.0   \n",
       "2                   2526.0             3917.0           756536.0   \n",
       "3                   3917.0             5218.0          1378903.0   \n",
       "4                   5218.0             6170.0          1006843.0   \n",
       "...                    ...                ...                ...   \n",
       "1631825                NaN                NaN                NaN   \n",
       "1631826                NaN                NaN                NaN   \n",
       "1631827                NaN                NaN                NaN   \n",
       "1631828                NaN                NaN                NaN   \n",
       "1631829                NaN                NaN                NaN   \n",
       "\n",
       "         range_to_edge_id1  node_id_to_range0  node_id_to_range1  \\\n",
       "0                 840994.0                0.0                1.0   \n",
       "1                1121430.0                1.0                2.0   \n",
       "2                 756537.0                2.0                3.0   \n",
       "3                1378904.0                3.0                4.0   \n",
       "4                1006844.0                4.0                5.0   \n",
       "...                    ...                ...                ...   \n",
       "1631825                NaN                NaN                NaN   \n",
       "1631826                NaN                NaN                NaN   \n",
       "1631827                NaN                NaN                NaN   \n",
       "1631828                NaN                NaN                NaN   \n",
       "1631829                NaN                NaN                NaN   \n",
       "\n",
       "         range_to_edge_id0  range_to_edge_id1  source_node_id  target_node_id  \n",
       "0                      0.0              246.0         21982.0             0.0  \n",
       "1                    246.0              409.0         31873.0             0.0  \n",
       "2                    409.0              659.0           253.0             0.0  \n",
       "3                    659.0              864.0          8167.0             0.0  \n",
       "4                    864.0             1024.0           176.0             0.0  \n",
       "...                    ...                ...             ...             ...  \n",
       "1631825                NaN                NaN         30021.0         32013.0  \n",
       "1631826                NaN                NaN         17270.0         32013.0  \n",
       "1631827                NaN                NaN         14976.0         32013.0  \n",
       "1631828                NaN                NaN          3507.0         32013.0  \n",
       "1631829                NaN                NaN         27741.0         32013.0  \n",
       "\n",
       "[1631830 rows x 14 columns]"
      ]
     },
     "execution_count": 6,
     "metadata": {},
     "output_type": "execute_result"
    }
   ],
   "source": [
    "edgesDF"
   ]
  },
  {
   "cell_type": "code",
   "execution_count": 66,
   "id": "40387326-74d1-4724-9f99-d8494450d510",
   "metadata": {},
   "outputs": [],
   "source": [
    "f = h5py.File(os.path.join(pathname,'biophysical_nodes.h5'), 'r')"
   ]
  },
  {
   "cell_type": "code",
   "execution_count": 67,
   "id": "4644c9fb-51be-4195-a705-f2be822370e4",
   "metadata": {},
   "outputs": [
    {
     "name": "stdout",
     "output_type": "stream",
     "text": [
      "nodes\n",
      "nodes/biophysical\n",
      "nodes/biophysical/0\n",
      "nodes/biophysical/0/positions\n",
      "nodes/biophysical/node_group_id\n",
      "nodes/biophysical/node_group_index\n",
      "nodes/biophysical/node_id\n",
      "nodes/biophysical/node_type_id\n"
     ]
    }
   ],
   "source": [
    "f.visit(print)"
   ]
  },
  {
   "cell_type": "code",
   "execution_count": 68,
   "id": "e6d2878a-a8ef-467d-9aee-89dfc42fa8fc",
   "metadata": {},
   "outputs": [],
   "source": [
    "nodesDF = SaveDataToDF(f)"
   ]
  },
  {
   "cell_type": "code",
   "execution_count": 69,
   "id": "c657d26c-92e1-43f3-8bf2-02dfc1c80792",
   "metadata": {},
   "outputs": [
    {
     "data": {
      "text/html": [
       "<div>\n",
       "<style scoped>\n",
       "    .dataframe tbody tr th:only-of-type {\n",
       "        vertical-align: middle;\n",
       "    }\n",
       "\n",
       "    .dataframe tbody tr th {\n",
       "        vertical-align: top;\n",
       "    }\n",
       "\n",
       "    .dataframe thead th {\n",
       "        text-align: right;\n",
       "    }\n",
       "</style>\n",
       "<table border=\"1\" class=\"dataframe\">\n",
       "  <thead>\n",
       "    <tr style=\"text-align: right;\">\n",
       "      <th></th>\n",
       "      <th>positions0</th>\n",
       "      <th>positions1</th>\n",
       "      <th>positions2</th>\n",
       "      <th>node_group_id</th>\n",
       "      <th>node_group_index</th>\n",
       "      <th>node_id</th>\n",
       "      <th>node_type_id</th>\n",
       "    </tr>\n",
       "  </thead>\n",
       "  <tbody>\n",
       "    <tr>\n",
       "      <th>0</th>\n",
       "      <td>380</td>\n",
       "      <td>460</td>\n",
       "      <td>360</td>\n",
       "      <td>0</td>\n",
       "      <td>0</td>\n",
       "      <td>0</td>\n",
       "      <td>100</td>\n",
       "    </tr>\n",
       "    <tr>\n",
       "      <th>1</th>\n",
       "      <td>340</td>\n",
       "      <td>880</td>\n",
       "      <td>380</td>\n",
       "      <td>0</td>\n",
       "      <td>1</td>\n",
       "      <td>1</td>\n",
       "      <td>100</td>\n",
       "    </tr>\n",
       "    <tr>\n",
       "      <th>2</th>\n",
       "      <td>180</td>\n",
       "      <td>260</td>\n",
       "      <td>320</td>\n",
       "      <td>0</td>\n",
       "      <td>2</td>\n",
       "      <td>2</td>\n",
       "      <td>100</td>\n",
       "    </tr>\n",
       "    <tr>\n",
       "      <th>3</th>\n",
       "      <td>300</td>\n",
       "      <td>400</td>\n",
       "      <td>460</td>\n",
       "      <td>0</td>\n",
       "      <td>3</td>\n",
       "      <td>3</td>\n",
       "      <td>101</td>\n",
       "    </tr>\n",
       "    <tr>\n",
       "      <th>4</th>\n",
       "      <td>260</td>\n",
       "      <td>760</td>\n",
       "      <td>320</td>\n",
       "      <td>0</td>\n",
       "      <td>4</td>\n",
       "      <td>4</td>\n",
       "      <td>101</td>\n",
       "    </tr>\n",
       "    <tr>\n",
       "      <th>...</th>\n",
       "      <td>...</td>\n",
       "      <td>...</td>\n",
       "      <td>...</td>\n",
       "      <td>...</td>\n",
       "      <td>...</td>\n",
       "      <td>...</td>\n",
       "      <td>...</td>\n",
       "    </tr>\n",
       "    <tr>\n",
       "      <th>78</th>\n",
       "      <td>96</td>\n",
       "      <td>368</td>\n",
       "      <td>290</td>\n",
       "      <td>0</td>\n",
       "      <td>78</td>\n",
       "      <td>78</td>\n",
       "      <td>105</td>\n",
       "    </tr>\n",
       "    <tr>\n",
       "      <th>79</th>\n",
       "      <td>80</td>\n",
       "      <td>960</td>\n",
       "      <td>180</td>\n",
       "      <td>0</td>\n",
       "      <td>79</td>\n",
       "      <td>79</td>\n",
       "      <td>106</td>\n",
       "    </tr>\n",
       "    <tr>\n",
       "      <th>80</th>\n",
       "      <td>140</td>\n",
       "      <td>1000</td>\n",
       "      <td>140</td>\n",
       "      <td>0</td>\n",
       "      <td>80</td>\n",
       "      <td>80</td>\n",
       "      <td>107</td>\n",
       "    </tr>\n",
       "    <tr>\n",
       "      <th>81</th>\n",
       "      <td>100</td>\n",
       "      <td>500</td>\n",
       "      <td>240</td>\n",
       "      <td>0</td>\n",
       "      <td>81</td>\n",
       "      <td>81</td>\n",
       "      <td>107</td>\n",
       "    </tr>\n",
       "    <tr>\n",
       "      <th>82</th>\n",
       "      <td>260</td>\n",
       "      <td>0</td>\n",
       "      <td>220</td>\n",
       "      <td>0</td>\n",
       "      <td>82</td>\n",
       "      <td>82</td>\n",
       "      <td>107</td>\n",
       "    </tr>\n",
       "  </tbody>\n",
       "</table>\n",
       "<p>83 rows × 7 columns</p>\n",
       "</div>"
      ],
      "text/plain": [
       "    positions0  positions1  positions2  node_group_id  node_group_index  \\\n",
       "0          380         460         360              0                 0   \n",
       "1          340         880         380              0                 1   \n",
       "2          180         260         320              0                 2   \n",
       "3          300         400         460              0                 3   \n",
       "4          260         760         320              0                 4   \n",
       "..         ...         ...         ...            ...               ...   \n",
       "78          96         368         290              0                78   \n",
       "79          80         960         180              0                79   \n",
       "80         140        1000         140              0                80   \n",
       "81         100         500         240              0                81   \n",
       "82         260           0         220              0                82   \n",
       "\n",
       "    node_id  node_type_id  \n",
       "0         0           100  \n",
       "1         1           100  \n",
       "2         2           100  \n",
       "3         3           101  \n",
       "4         4           101  \n",
       "..      ...           ...  \n",
       "78       78           105  \n",
       "79       79           106  \n",
       "80       80           107  \n",
       "81       81           107  \n",
       "82       82           107  \n",
       "\n",
       "[83 rows x 7 columns]"
      ]
     },
     "execution_count": 69,
     "metadata": {},
     "output_type": "execute_result"
    }
   ],
   "source": [
    "nodesDF"
   ]
  },
  {
   "cell_type": "markdown",
   "id": "75f15141-82fe-4c9b-964f-9d5d8481fbe6",
   "metadata": {},
   "source": [
    "# change the node ids to node names"
   ]
  },
  {
   "cell_type": "code",
   "execution_count": 11,
   "id": "e200ad7f-ff9d-4e7e-956c-b4ca00ca4417",
   "metadata": {},
   "outputs": [],
   "source": [
    "cellLocations = pd.read_csv('cell_locations.csv')"
   ]
  },
  {
   "cell_type": "code",
   "execution_count": 12,
   "id": "3864a7d0-7fca-4867-91aa-66b69c58d2ef",
   "metadata": {},
   "outputs": [],
   "source": [
    "idNames = np.unique(nodesDF['node_type_id'])\n",
    "cellNames = np.unique(cellLocations['Cell type'])"
   ]
  },
  {
   "cell_type": "code",
   "execution_count": 13,
   "id": "eaf66fb8-caa9-48d6-9c19-ae4a02820c0a",
   "metadata": {},
   "outputs": [],
   "source": [
    "array = cellLocations['Cell type']\n",
    "idxs = np.unique(cellLocations['Cell type'],return_index=True)[1]\n",
    "cellNames = [array[index] for index in sorted(idxs)]#use the names in the order in which the id's appear"
   ]
  },
  {
   "cell_type": "code",
   "execution_count": 14,
   "id": "833984a5-154b-449e-9e60-932a6ad69bf8",
   "metadata": {},
   "outputs": [
    {
     "data": {
      "text/html": [
       "<div>\n",
       "<style scoped>\n",
       "    .dataframe tbody tr th:only-of-type {\n",
       "        vertical-align: middle;\n",
       "    }\n",
       "\n",
       "    .dataframe tbody tr th {\n",
       "        vertical-align: top;\n",
       "    }\n",
       "\n",
       "    .dataframe thead th {\n",
       "        text-align: right;\n",
       "    }\n",
       "</style>\n",
       "<table border=\"1\" class=\"dataframe\">\n",
       "  <thead>\n",
       "    <tr style=\"text-align: right;\">\n",
       "      <th></th>\n",
       "      <th>positions0</th>\n",
       "      <th>positions1</th>\n",
       "      <th>positions2</th>\n",
       "      <th>node_group_id</th>\n",
       "      <th>node_group_index</th>\n",
       "      <th>node_id</th>\n",
       "      <th>node_type_id</th>\n",
       "    </tr>\n",
       "  </thead>\n",
       "  <tbody>\n",
       "    <tr>\n",
       "      <th>0</th>\n",
       "      <td>380</td>\n",
       "      <td>460</td>\n",
       "      <td>360</td>\n",
       "      <td>0</td>\n",
       "      <td>0</td>\n",
       "      <td>0</td>\n",
       "      <td>AAC in SO layer</td>\n",
       "    </tr>\n",
       "    <tr>\n",
       "      <th>1</th>\n",
       "      <td>340</td>\n",
       "      <td>880</td>\n",
       "      <td>380</td>\n",
       "      <td>0</td>\n",
       "      <td>1</td>\n",
       "      <td>1</td>\n",
       "      <td>AAC in SO layer</td>\n",
       "    </tr>\n",
       "    <tr>\n",
       "      <th>2</th>\n",
       "      <td>180</td>\n",
       "      <td>260</td>\n",
       "      <td>320</td>\n",
       "      <td>0</td>\n",
       "      <td>2</td>\n",
       "      <td>2</td>\n",
       "      <td>AAC in SO layer</td>\n",
       "    </tr>\n",
       "    <tr>\n",
       "      <th>3</th>\n",
       "      <td>200</td>\n",
       "      <td>200</td>\n",
       "      <td>400</td>\n",
       "      <td>0</td>\n",
       "      <td>3</td>\n",
       "      <td>3</td>\n",
       "      <td>AAC in SO layer</td>\n",
       "    </tr>\n",
       "    <tr>\n",
       "      <th>4</th>\n",
       "      <td>100</td>\n",
       "      <td>920</td>\n",
       "      <td>380</td>\n",
       "      <td>0</td>\n",
       "      <td>4</td>\n",
       "      <td>4</td>\n",
       "      <td>AAC in SO layer</td>\n",
       "    </tr>\n",
       "    <tr>\n",
       "      <th>...</th>\n",
       "      <td>...</td>\n",
       "      <td>...</td>\n",
       "      <td>...</td>\n",
       "      <td>...</td>\n",
       "      <td>...</td>\n",
       "      <td>...</td>\n",
       "      <td>...</td>\n",
       "    </tr>\n",
       "    <tr>\n",
       "      <th>32009</th>\n",
       "      <td>160</td>\n",
       "      <td>460</td>\n",
       "      <td>280</td>\n",
       "      <td>0</td>\n",
       "      <td>32009</td>\n",
       "      <td>32009</td>\n",
       "      <td>PV in SR layer</td>\n",
       "    </tr>\n",
       "    <tr>\n",
       "      <th>32010</th>\n",
       "      <td>60</td>\n",
       "      <td>140</td>\n",
       "      <td>180</td>\n",
       "      <td>0</td>\n",
       "      <td>32010</td>\n",
       "      <td>32010</td>\n",
       "      <td>PV in SR layer</td>\n",
       "    </tr>\n",
       "    <tr>\n",
       "      <th>32011</th>\n",
       "      <td>160</td>\n",
       "      <td>60</td>\n",
       "      <td>300</td>\n",
       "      <td>0</td>\n",
       "      <td>32011</td>\n",
       "      <td>32011</td>\n",
       "      <td>PV in SR layer</td>\n",
       "    </tr>\n",
       "    <tr>\n",
       "      <th>32012</th>\n",
       "      <td>340</td>\n",
       "      <td>600</td>\n",
       "      <td>240</td>\n",
       "      <td>0</td>\n",
       "      <td>32012</td>\n",
       "      <td>32012</td>\n",
       "      <td>PV in SR layer</td>\n",
       "    </tr>\n",
       "    <tr>\n",
       "      <th>32013</th>\n",
       "      <td>0</td>\n",
       "      <td>80</td>\n",
       "      <td>80</td>\n",
       "      <td>0</td>\n",
       "      <td>32013</td>\n",
       "      <td>32013</td>\n",
       "      <td>PV in SR layer</td>\n",
       "    </tr>\n",
       "  </tbody>\n",
       "</table>\n",
       "<p>32014 rows × 7 columns</p>\n",
       "</div>"
      ],
      "text/plain": [
       "       positions0  positions1  positions2  node_group_id  node_group_index  \\\n",
       "0             380         460         360              0                 0   \n",
       "1             340         880         380              0                 1   \n",
       "2             180         260         320              0                 2   \n",
       "3             200         200         400              0                 3   \n",
       "4             100         920         380              0                 4   \n",
       "...           ...         ...         ...            ...               ...   \n",
       "32009         160         460         280              0             32009   \n",
       "32010          60         140         180              0             32010   \n",
       "32011         160          60         300              0             32011   \n",
       "32012         340         600         240              0             32012   \n",
       "32013           0          80          80              0             32013   \n",
       "\n",
       "       node_id     node_type_id  \n",
       "0            0  AAC in SO layer  \n",
       "1            1  AAC in SO layer  \n",
       "2            2  AAC in SO layer  \n",
       "3            3  AAC in SO layer  \n",
       "4            4  AAC in SO layer  \n",
       "...        ...              ...  \n",
       "32009    32009   PV in SR layer  \n",
       "32010    32010   PV in SR layer  \n",
       "32011    32011   PV in SR layer  \n",
       "32012    32012   PV in SR layer  \n",
       "32013    32013   PV in SR layer  \n",
       "\n",
       "[32014 rows x 7 columns]"
      ]
     },
     "execution_count": 14,
     "metadata": {},
     "output_type": "execute_result"
    }
   ],
   "source": [
    "nodesDF = nodesDF.replace({'node_type_id':idNames},{'node_type_id':cellNames})\n",
    "nodesDF"
   ]
  },
  {
   "cell_type": "code",
   "execution_count": 19,
   "id": "0b9aafb4-d2ce-4cc8-bbec-a9cfed85cd43",
   "metadata": {},
   "outputs": [],
   "source": [
    "fig = px.scatter_3d(nodesDF,x ='positions0', y='positions1', z='positions2',\n",
    "                    color = 'node_type_id',\n",
    "                    opacity = 0.7)\n",
    "fig.update_traces(marker_size = 6)\n",
    "fig.write_html('networkNodes2.html',auto_open=True)"
   ]
  },
  {
   "cell_type": "markdown",
   "id": "8ca9b518-f9f2-4ea6-bc8b-6ba6ac34d88b",
   "metadata": {},
   "source": [
    "# plot nodes edges - wip"
   ]
  },
  {
   "cell_type": "code",
   "execution_count": null,
   "id": "07089378-f71b-4d33-96c4-67b6021ace92",
   "metadata": {},
   "outputs": [],
   "source": [
    "#find the node source id and get its position, then find the destination node id, and get its position\n",
    "#there will be a -1 x 6 array of the source to target connections"
   ]
  },
  {
   "cell_type": "code",
   "execution_count": 28,
   "id": "fa576865-dfa1-4af1-81b4-e7447842020d",
   "metadata": {},
   "outputs": [],
   "source": [
    "xlocofEdgeSource = nodesDF['positions0'][np.array(edgesDF['source_node_id'])]\n",
    "YlocofEdgeSource = nodesDF['positions1'][np.array(edgesDF['source_node_id'])]\n",
    "ZlocofEdgeSource = nodesDF['positions2'][np.array(edgesDF['source_node_id'])]"
   ]
  },
  {
   "cell_type": "code",
   "execution_count": 29,
   "id": "e7fd5ae1-26fc-4c08-8bef-f0436b507661",
   "metadata": {},
   "outputs": [],
   "source": [
    "xlocofEdgedest = nodesDF['positions0'][np.array(edgesDF['target_node_id'])]\n",
    "YlocofEdgedest = nodesDF['positions1'][np.array(edgesDF['target_node_id'])]\n",
    "ZlocofEdgedest = nodesDF['positions2'][np.array(edgesDF['target_node_id'])]"
   ]
  },
  {
   "cell_type": "code",
   "execution_count": 30,
   "id": "61b862d2-19e5-4f80-bdff-cc7fec4f2cd2",
   "metadata": {},
   "outputs": [],
   "source": [
    "locsList = [xlocofEdgeSource,YlocofEdgeSource,ZlocofEdgeSource,xlocofEdgedest,YlocofEdgedest,ZlocofEdgedest]\n",
    "locsList = [np.array(item).reshape(1,-1) for item in locsList]\n",
    "df = pd.DataFrame(np.concatenate(locsList)).T\n",
    "fig = px.line_3d(df, x=0, y=1,z=2)\n",
    "fig.write_html('testfig.html',auto_open=True)"
   ]
  },
  {
   "cell_type": "code",
   "execution_count": 31,
   "id": "9bcc687b-d706-4b6a-bab9-d0092510c372",
   "metadata": {},
   "outputs": [],
   "source": [
    "source,dest = np.array(edgesDF['source_node_id']),np.array(edgesDF['target_node_id'])"
   ]
  },
  {
   "cell_type": "code",
   "execution_count": 32,
   "id": "9ea287aa-0eb3-4c97-90e8-8b5a6e39698c",
   "metadata": {},
   "outputs": [],
   "source": [
    "pairs = np.vstack((source,dest)).T\n",
    "pairs = pairs.astype(int)"
   ]
  },
  {
   "cell_type": "code",
   "execution_count": 33,
   "id": "4ad2fa9b-8d6a-42a7-bf71-27f6689ce2d9",
   "metadata": {},
   "outputs": [],
   "source": [
    "X,Y,Z = np.array(nodesDF['positions0']),np.array(nodesDF['positions1']),np.array(nodesDF['positions2'])"
   ]
  },
  {
   "cell_type": "code",
   "execution_count": 520,
   "id": "6ab0eaa4-d8e1-4f1d-8a5f-36ebdcd5bca1",
   "metadata": {},
   "outputs": [],
   "source": [
    "x_lines = []\n",
    "y_lines = []\n",
    "z_lines = []\n",
    "\n",
    "#create the coordinate list for the lines\n",
    "for p in pairs:\n",
    "    for i in range(2):\n",
    "        x_lines.append(X[p[i]])\n",
    "        y_lines.append(Y[p[i]])\n",
    "        z_lines.append(Z[p[i]])\n",
    "    x_lines.append(None)\n",
    "    y_lines.append(None)\n",
    "    z_lines.append(None)\n",
    "\n",
    "trace2 = go.Scatter3d(\n",
    "    x=x_lines,\n",
    "    y=y_lines,\n",
    "    z=z_lines,\n",
    "    mode='lines',\n",
    "    name='lines'\n",
    ")\n",
    "\n",
    "figlines = go.Figure(data=[ trace2])\n"
   ]
  },
  {
   "cell_type": "code",
   "execution_count": null,
   "id": "a9f89686-fcb3-49e5-9ba6-1ed34ea63060",
   "metadata": {},
   "outputs": [],
   "source": [
    "fig.write_html('testfig.html',auto_open=True)"
   ]
  },
  {
   "cell_type": "markdown",
   "id": "19d19244-cffe-44d3-ae28-937fd2bdf5fd",
   "metadata": {},
   "source": [
    "### construct adjacency matrix of the directed graph"
   ]
  },
  {
   "cell_type": "code",
   "execution_count": null,
   "id": "706b71d8-b7a6-4580-8a84-04c6f2eeb6a3",
   "metadata": {},
   "outputs": [],
   "source": [
    "# nxn nodeids\n",
    "#each row is the number of outgoing connections to nodeids in the columns"
   ]
  },
  {
   "cell_type": "code",
   "execution_count": 15,
   "id": "11559fc6-e36c-449d-8b7b-f73c5e91036c",
   "metadata": {},
   "outputs": [],
   "source": [
    "targetIDs = np.array(edgesDF['target_node_id'])\n",
    "sourceIDs = np.array(edgesDF['source_node_id'])\n",
    "source2targetIDs = pd.DataFrame(np.vstack((sourceIDs,targetIDs))).T\n",
    "source2targetIDs.columns = ['source','target']\n",
    "df = source2targetIDs\n",
    "nodeArray = np.array(df)# nice to have a df for viewing and array for computing"
   ]
  },
  {
   "cell_type": "code",
   "execution_count": 16,
   "id": "fcca4915-76e6-4b04-bb82-339467406692",
   "metadata": {},
   "outputs": [],
   "source": [
    "#get the counts of source to target"
   ]
  },
  {
   "cell_type": "code",
   "execution_count": 17,
   "id": "55524a81-a230-4e21-b0d9-d1b125a15dc9",
   "metadata": {},
   "outputs": [],
   "source": [
    "IDS = np.arange(0,len(np.unique(df['source'])))\n",
    "adj = np.zeros((len(IDS),len(IDS)))#nxn matrix\n"
   ]
  },
  {
   "cell_type": "code",
   "execution_count": 18,
   "id": "86ff2480-02ab-46f8-8a28-5fb9a355fd0b",
   "metadata": {},
   "outputs": [],
   "source": [
    "for i in range(0,len(IDS)):\n",
    "    idxs = nodeArray[nodeArray[:,0]==i][:,1]#grab the targets for which the source id is i...\n",
    "    #add something for checking unique, or rate of messages, or something to add as the values instead of just 1 for a connection.\n",
    "    adj[i][idxs.astype(int)] = 1#... and place a 1 in that location. ideally this is the count of connections to this target, but for now it is only 1 connection in the model"
   ]
  },
  {
   "cell_type": "code",
   "execution_count": 23,
   "id": "32a80ea6-5d59-4e78-86c7-1fa46c3d79a7",
   "metadata": {},
   "outputs": [],
   "source": [
    "np.save('adjacencyMatrix',adj)"
   ]
  },
  {
   "cell_type": "markdown",
   "id": "4ac56656-9a17-4c83-bcf2-6bd1bd084507",
   "metadata": {},
   "source": [
    "# use the adjacency matrix to calculate summary statistics about the network"
   ]
  },
  {
   "cell_type": "code",
   "execution_count": 7,
   "id": "fe3ab3d1-e9b6-476c-9022-073383b079b6",
   "metadata": {},
   "outputs": [],
   "source": [
    "import networkx as nx"
   ]
  },
  {
   "cell_type": "code",
   "execution_count": 6,
   "id": "468b0e3c-2b04-4e17-becf-72e6a8ad8b93",
   "metadata": {},
   "outputs": [],
   "source": [
    "adj = np.load('adjacencyMatrix.npy')\n",
    "cellLocations = pd.read_csv('cell_locations.csv')\n"
   ]
  },
  {
   "cell_type": "code",
   "execution_count": 131,
   "id": "89415401-b016-41fa-b3e3-4a1c4ab3ad11",
   "metadata": {},
   "outputs": [],
   "source": [
    "#get a list of the layer names in order of \n",
    "layerList = cellLocations['Cell type']\n",
    "idxs = np.unique(cellLocations['Cell type'],return_index=True)[1]\n",
    "layerNames = [array[index] for index in sorted(idxs)]#use the names in the order in which the id's appear\n"
   ]
  },
  {
   "cell_type": "code",
   "execution_count": 68,
   "id": "80b7a71e-de92-4362-b09c-5710e1fcb36e",
   "metadata": {},
   "outputs": [],
   "source": [
    "# first get a df of the cell layers and their index boundaries"
   ]
  },
  {
   "cell_type": "code",
   "execution_count": 41,
   "id": "d080ebfa-d257-435e-8fd2-42abf33baab8",
   "metadata": {},
   "outputs": [],
   "source": [
    "def getSectionBeginEnd(layerNames,name):\n",
    "    group = np.where(layerNames == name)[0]\n",
    "    begin = group[0]\n",
    "    end = group[len(group)-1]\n",
    "    return begin,end"
   ]
  },
  {
   "cell_type": "code",
   "execution_count": 141,
   "id": "7fb645bc-f9a3-4c39-bb6f-82039eeb06a5",
   "metadata": {},
   "outputs": [],
   "source": [
    "starts,ends = [], []\n",
    "\n",
    "nameSet = list(set(layerNames))\n",
    "for name in layerNames:\n",
    "    begin, end = getSectionBeginEnd(layerList,name)\n",
    "    starts.append(begin)\n",
    "    ends.append(end)\n"
   ]
  },
  {
   "cell_type": "code",
   "execution_count": 142,
   "id": "1a06b647-b82d-4e23-a2d3-45dc7169d3f7",
   "metadata": {},
   "outputs": [
    {
     "data": {
      "text/html": [
       "<div>\n",
       "<style scoped>\n",
       "    .dataframe tbody tr th:only-of-type {\n",
       "        vertical-align: middle;\n",
       "    }\n",
       "\n",
       "    .dataframe tbody tr th {\n",
       "        vertical-align: top;\n",
       "    }\n",
       "\n",
       "    .dataframe thead th {\n",
       "        text-align: right;\n",
       "    }\n",
       "</style>\n",
       "<table border=\"1\" class=\"dataframe\">\n",
       "  <thead>\n",
       "    <tr style=\"text-align: right;\">\n",
       "      <th></th>\n",
       "      <th>start</th>\n",
       "      <th>end</th>\n",
       "    </tr>\n",
       "  </thead>\n",
       "  <tbody>\n",
       "    <tr>\n",
       "      <th>AAC in SP layer</th>\n",
       "      <td>0</td>\n",
       "      <td>34</td>\n",
       "    </tr>\n",
       "    <tr>\n",
       "      <th>Pyr in SP layer</th>\n",
       "      <td>35</td>\n",
       "      <td>198</td>\n",
       "    </tr>\n",
       "    <tr>\n",
       "      <th>AAC in SO layer</th>\n",
       "      <td>199</td>\n",
       "      <td>330</td>\n",
       "    </tr>\n",
       "    <tr>\n",
       "      <th>PV in SO layer</th>\n",
       "      <td>331</td>\n",
       "      <td>31480</td>\n",
       "    </tr>\n",
       "    <tr>\n",
       "      <th>OLM in SO layer</th>\n",
       "      <td>31481</td>\n",
       "      <td>31583</td>\n",
       "    </tr>\n",
       "    <tr>\n",
       "      <th>PV in SR layer</th>\n",
       "      <td>31584</td>\n",
       "      <td>31971</td>\n",
       "    </tr>\n",
       "    <tr>\n",
       "      <th>PV in SP layer</th>\n",
       "      <td>31972</td>\n",
       "      <td>31980</td>\n",
       "    </tr>\n",
       "    <tr>\n",
       "      <th>AAC in SR layer</th>\n",
       "      <td>31981</td>\n",
       "      <td>32013</td>\n",
       "    </tr>\n",
       "  </tbody>\n",
       "</table>\n",
       "</div>"
      ],
      "text/plain": [
       "                 start    end\n",
       "AAC in SP layer      0     34\n",
       "Pyr in SP layer     35    198\n",
       "AAC in SO layer    199    330\n",
       "PV in SO layer     331  31480\n",
       "OLM in SO layer  31481  31583\n",
       "PV in SR layer   31584  31971\n",
       "PV in SP layer   31972  31980\n",
       "AAC in SR layer  31981  32013"
      ]
     },
     "execution_count": 142,
     "metadata": {},
     "output_type": "execute_result"
    }
   ],
   "source": [
    "df1 = pd.DataFrame(starts,index = nameSet, columns = ['start'])\n",
    "df2 = pd.DataFrame(ends,index = nameSet, columns = ['end'])\n",
    "layerIdxsDF = pd.concat([df1,df2],axis=1)\n",
    "layerIdxsDF"
   ]
  },
  {
   "cell_type": "code",
   "execution_count": 78,
   "id": "dc819f25-5c8d-43ce-ab69-fe74c9bfcec7",
   "metadata": {},
   "outputs": [],
   "source": [
    "G = nx.from_numpy_array(adj,create_using=nx.DiGraph)#directed graph of the network, recall rows are senders, columns are recievers"
   ]
  },
  {
   "cell_type": "code",
   "execution_count": 237,
   "id": "886fed84-7364-4d4d-b075-07b4dabd2012",
   "metadata": {},
   "outputs": [],
   "source": [
    "def groupSumStats(G,IDS):\n",
    "    out_degree_centrality = nx.group_out_degree_centrality(G,IDS)\n",
    "    in_degree_centrality = nx.group_in_degree_centrality(G,IDS)\n",
    "    clusterDict = nx.clustering(G, IDS)\n",
    "    avgClustering = np.mean([clusterDict[key] for key in clusterDict])\n",
    "    return [in_degree_centrality,out_degree_centrality,avgClustering]"
   ]
  },
  {
   "cell_type": "code",
   "execution_count": 209,
   "id": "78a6d74f-3997-46fa-9c9c-86d6c8e32a59",
   "metadata": {},
   "outputs": [],
   "source": [
    "def calcNetStats(G,layerList,layerNames):\n",
    "    AllStats = []\n",
    "    for name in layerNames:\n",
    "        IDS = np.where(layerList == name)[0]\n",
    "        AllStats.append(groupSumStats(G,IDS))\n",
    "    return AllStats"
   ]
  },
  {
   "cell_type": "code",
   "execution_count": 238,
   "id": "8a649546-0dd7-4331-b792-21a8c568e781",
   "metadata": {},
   "outputs": [],
   "source": [
    "netStats = calcNetStats(G,layerList,layerNames)"
   ]
  },
  {
   "cell_type": "code",
   "execution_count": 221,
   "id": "b7efb770-2f67-4a80-9e29-8cd54a947be0",
   "metadata": {},
   "outputs": [
    {
     "name": "stdout",
     "output_type": "stream",
     "text": [
      "[0, 13732, 4]\n"
     ]
    }
   ],
   "source": []
  },
  {
   "cell_type": "code",
   "execution_count": 242,
   "id": "4097e9b4-1a3e-4adb-8f29-b7a95195b93a",
   "metadata": {},
   "outputs": [],
   "source": [
    "results.to_csv('networkStats.csv')"
   ]
  },
  {
   "cell_type": "code",
   "execution_count": 175,
   "id": "a301421e-9dcd-467e-a0aa-c9702a505b45",
   "metadata": {},
   "outputs": [],
   "source": [
    "# make a dataframe with rows are layer names, and columns with the given metric's summary stats"
   ]
  },
  {
   "cell_type": "code",
   "execution_count": 241,
   "id": "27f83811-c0fa-42b0-a187-b0308d290cd4",
   "metadata": {},
   "outputs": [
    {
     "data": {
      "text/html": [
       "<div>\n",
       "<style scoped>\n",
       "    .dataframe tbody tr th:only-of-type {\n",
       "        vertical-align: middle;\n",
       "    }\n",
       "\n",
       "    .dataframe tbody tr th {\n",
       "        vertical-align: top;\n",
       "    }\n",
       "\n",
       "    .dataframe thead th {\n",
       "        text-align: right;\n",
       "    }\n",
       "</style>\n",
       "<table border=\"1\" class=\"dataframe\">\n",
       "  <thead>\n",
       "    <tr style=\"text-align: right;\">\n",
       "      <th></th>\n",
       "      <th>inDeg_cent</th>\n",
       "      <th>outDeg_cent</th>\n",
       "      <th>avgClustering</th>\n",
       "    </tr>\n",
       "  </thead>\n",
       "  <tbody>\n",
       "    <tr>\n",
       "      <th>AAC in SO layer</th>\n",
       "      <td>0.176178</td>\n",
       "      <td>0.712812</td>\n",
       "      <td>0.002812</td>\n",
       "    </tr>\n",
       "    <tr>\n",
       "      <th>OLM in SO layer</th>\n",
       "      <td>0.977991</td>\n",
       "      <td>0.998619</td>\n",
       "      <td>0.001232</td>\n",
       "    </tr>\n",
       "    <tr>\n",
       "      <th>PV in SO layer</th>\n",
       "      <td>0.817013</td>\n",
       "      <td>0.969418</td>\n",
       "      <td>0.005264</td>\n",
       "    </tr>\n",
       "    <tr>\n",
       "      <th>Pyr in SP layer</th>\n",
       "      <td>1.000000</td>\n",
       "      <td>1.000000</td>\n",
       "      <td>0.057975</td>\n",
       "    </tr>\n",
       "    <tr>\n",
       "      <th>AAC in SP layer</th>\n",
       "      <td>0.450158</td>\n",
       "      <td>0.960014</td>\n",
       "      <td>0.002537</td>\n",
       "    </tr>\n",
       "    <tr>\n",
       "      <th>PV in SP layer</th>\n",
       "      <td>0.986688</td>\n",
       "      <td>0.994720</td>\n",
       "      <td>0.005061</td>\n",
       "    </tr>\n",
       "    <tr>\n",
       "      <th>AAC in SR layer</th>\n",
       "      <td>0.054460</td>\n",
       "      <td>0.290267</td>\n",
       "      <td>0.002830</td>\n",
       "    </tr>\n",
       "    <tr>\n",
       "      <th>PV in SR layer</th>\n",
       "      <td>0.353960</td>\n",
       "      <td>0.608955</td>\n",
       "      <td>0.005015</td>\n",
       "    </tr>\n",
       "  </tbody>\n",
       "</table>\n",
       "</div>"
      ],
      "text/plain": [
       "                 inDeg_cent  outDeg_cent  avgClustering\n",
       "AAC in SO layer    0.176178     0.712812       0.002812\n",
       "OLM in SO layer    0.977991     0.998619       0.001232\n",
       "PV in SO layer     0.817013     0.969418       0.005264\n",
       "Pyr in SP layer    1.000000     1.000000       0.057975\n",
       "AAC in SP layer    0.450158     0.960014       0.002537\n",
       "PV in SP layer     0.986688     0.994720       0.005061\n",
       "AAC in SR layer    0.054460     0.290267       0.002830\n",
       "PV in SR layer     0.353960     0.608955       0.005015"
      ]
     },
     "execution_count": 241,
     "metadata": {},
     "output_type": "execute_result"
    }
   ],
   "source": [
    "\n",
    "netStatNames = [\"inDeg_cent\",\"outDeg_cent\",\"avgClustering\"]\n",
    "results = pd.DataFrame(netStats,columns = netStatNames,index = layerNames)\n",
    "results"
   ]
  },
  {
   "cell_type": "code",
   "execution_count": 240,
   "id": "376ef401-107c-4012-8611-3eb34659bacb",
   "metadata": {},
   "outputs": [
    {
     "name": "stdout",
     "output_type": "stream",
     "text": [
      "[0, 13732, 4]\n"
     ]
    }
   ],
   "source": [
    "#other metrics to explore:\n",
    "print(nx.shortest_path(G, source=0, target=4))"
   ]
  },
  {
   "cell_type": "code",
   "execution_count": 114,
   "id": "986c85a8-0971-417d-a276-8e4a9897f2d6",
   "metadata": {},
   "outputs": [
    {
     "data": {
      "text/plain": [
       "RangeIndex(start=0, stop=1, step=1)"
      ]
     },
     "execution_count": 114,
     "metadata": {},
     "output_type": "execute_result"
    }
   ],
   "source": [
    "test.index"
   ]
  },
  {
   "cell_type": "code",
   "execution_count": null,
   "id": "f60f8eeb-c0b4-4aa5-a618-032bba02bc74",
   "metadata": {},
   "outputs": [],
   "source": [
    "#just get the indices of the layer ranges, and comput the sum stats over that in the adj matrix"
   ]
  },
  {
   "cell_type": "code",
   "execution_count": 42,
   "id": "8cccd2ea-eaac-4c16-98f4-69d4f3902341",
   "metadata": {},
   "outputs": [
    {
     "data": {
      "text/plain": [
       "(array([93], dtype=int64),)"
      ]
     },
     "execution_count": 42,
     "metadata": {},
     "output_type": "execute_result"
    }
   ],
   "source": [
    "np.where(cent==max(cent))"
   ]
  },
  {
   "cell_type": "code",
   "execution_count": 46,
   "id": "60e4b3d6-9fd0-421a-bc3c-52f6f31703c7",
   "metadata": {},
   "outputs": [
    {
     "data": {
      "text/plain": [
       "93    OLM in SO layer\n",
       "Name: node_type_id, dtype: object"
      ]
     },
     "execution_count": 46,
     "metadata": {},
     "output_type": "execute_result"
    }
   ],
   "source": [
    "layerNames[np.where(cent==max(cent))[0]]"
   ]
  },
  {
   "cell_type": "code",
   "execution_count": 43,
   "id": "e1032faf-beed-436f-a65d-14a3f1786448",
   "metadata": {},
   "outputs": [],
   "source": []
  },
  {
   "cell_type": "code",
   "execution_count": 29,
   "id": "66d6f160-4cf1-4cf0-9d0b-92c74361b19b",
   "metadata": {},
   "outputs": [
    {
     "data": {
      "text/plain": [
       "32014"
      ]
     },
     "execution_count": 29,
     "metadata": {},
     "output_type": "execute_result"
    }
   ],
   "source": [
    "adjacencyDF = pd.DataFrame(adj,columns = IDS,index=IDS)"
   ]
  },
  {
   "cell_type": "markdown",
   "id": "e53555f7-12e9-4f8c-bbe6-8c69fcea0515",
   "metadata": {},
   "source": [
    "import h5py\n",
    "import os\n",
    "import matplotlib.pyplot as plt\n",
    "import numpy as np\n",
    "import pandas as pd# model output results"
   ]
  },
  {
   "cell_type": "code",
   "execution_count": 5,
   "id": "a07d5191-2e84-43ea-8c27-3cdef357ce34",
   "metadata": {},
   "outputs": [],
   "source": [
    "import h5py\n",
    "import os\n",
    "import matplotlib.pyplot as plt\n",
    "import numpy as np\n",
    "import pandas as pd"
   ]
  },
  {
   "cell_type": "code",
   "execution_count": 3,
   "id": "13f89a26-04d2-4b2f-a122-95bd886bc183",
   "metadata": {},
   "outputs": [],
   "source": [
    "outpath = 'output'"
   ]
  },
  {
   "cell_type": "code",
   "execution_count": 4,
   "id": "7a46b210-e337-4d97-a11e-cc5370fbf391",
   "metadata": {},
   "outputs": [
    {
     "name": "stdout",
     "output_type": "stream",
     "text": [
      "spikes\n"
     ]
    }
   ],
   "source": [
    "f = h5py.File(os.path.join(outpath,'spikes.h5'), 'r')\n",
    "f.visit(print)"
   ]
  },
  {
   "cell_type": "code",
   "execution_count": 7,
   "id": "e6691c1c-5743-4b02-89cd-13dc8fb3597c",
   "metadata": {},
   "outputs": [],
   "source": [
    "spikesDF = SaveDataToDF(f) "
   ]
  },
  {
   "cell_type": "code",
   "execution_count": 8,
   "id": "d06da58c-fbd9-4a15-990a-5542dee70853",
   "metadata": {},
   "outputs": [
    {
     "data": {
      "text/html": [
       "<div>\n",
       "<style scoped>\n",
       "    .dataframe tbody tr th:only-of-type {\n",
       "        vertical-align: middle;\n",
       "    }\n",
       "\n",
       "    .dataframe tbody tr th {\n",
       "        vertical-align: top;\n",
       "    }\n",
       "\n",
       "    .dataframe thead th {\n",
       "        text-align: right;\n",
       "    }\n",
       "</style>\n",
       "<table border=\"1\" class=\"dataframe\">\n",
       "  <thead>\n",
       "    <tr style=\"text-align: right;\">\n",
       "      <th></th>\n",
       "    </tr>\n",
       "  </thead>\n",
       "  <tbody>\n",
       "  </tbody>\n",
       "</table>\n",
       "</div>"
      ],
      "text/plain": [
       "Empty DataFrame\n",
       "Columns: []\n",
       "Index: []"
      ]
     },
     "execution_count": 8,
     "metadata": {},
     "output_type": "execute_result"
    }
   ],
   "source": [
    "spikesDF"
   ]
  },
  {
   "cell_type": "code",
   "execution_count": 73,
   "id": "df4a1653-aaab-4a8e-b5d0-c5ef768bfe6b",
   "metadata": {},
   "outputs": [
    {
     "ename": "BlockingIOError",
     "evalue": "[Errno 11] Unable to open file (unable to lock file, errno = 11, error message = 'Resource temporarily unavailable', Win32 GetLastError() = 33)",
     "output_type": "error",
     "traceback": [
      "\u001b[1;31m---------------------------------------------------------------------------\u001b[0m",
      "\u001b[1;31mBlockingIOError\u001b[0m                           Traceback (most recent call last)",
      "Input \u001b[1;32mIn [73]\u001b[0m, in \u001b[0;36m<cell line: 1>\u001b[1;34m()\u001b[0m\n\u001b[1;32m----> 1\u001b[0m f \u001b[38;5;241m=\u001b[39m \u001b[43mh5py\u001b[49m\u001b[38;5;241;43m.\u001b[39;49m\u001b[43mFile\u001b[49m\u001b[43m(\u001b[49m\u001b[43mos\u001b[49m\u001b[38;5;241;43m.\u001b[39;49m\u001b[43mpath\u001b[49m\u001b[38;5;241;43m.\u001b[39;49m\u001b[43mjoin\u001b[49m\u001b[43m(\u001b[49m\u001b[38;5;124;43m'\u001b[39;49m\u001b[38;5;124;43moutput\u001b[39;49m\u001b[38;5;124;43m'\u001b[39;49m\u001b[43m,\u001b[49m\u001b[38;5;124;43m'\u001b[39;49m\u001b[38;5;124;43mv_report.h5\u001b[39;49m\u001b[38;5;124;43m'\u001b[39;49m\u001b[43m)\u001b[49m\u001b[43m,\u001b[49m\u001b[43m \u001b[49m\u001b[38;5;124;43m'\u001b[39;49m\u001b[38;5;124;43mr\u001b[39;49m\u001b[38;5;124;43m'\u001b[39;49m\u001b[43m)\u001b[49m\n\u001b[0;32m      2\u001b[0m traces \u001b[38;5;241m=\u001b[39m f[\u001b[38;5;124m'\u001b[39m\u001b[38;5;124mreport/biophysical/data\u001b[39m\u001b[38;5;124m'\u001b[39m][()]\n\u001b[0;32m      3\u001b[0m f\u001b[38;5;241m.\u001b[39mclose()\n",
      "File \u001b[1;32m~\\AppData\\Roaming\\Python\\Python39\\site-packages\\h5py\\_hl\\files.py:507\u001b[0m, in \u001b[0;36mFile.__init__\u001b[1;34m(self, name, mode, driver, libver, userblock_size, swmr, rdcc_nslots, rdcc_nbytes, rdcc_w0, track_order, fs_strategy, fs_persist, fs_threshold, fs_page_size, page_buf_size, min_meta_keep, min_raw_keep, locking, **kwds)\u001b[0m\n\u001b[0;32m    502\u001b[0m     fapl \u001b[38;5;241m=\u001b[39m make_fapl(driver, libver, rdcc_nslots, rdcc_nbytes, rdcc_w0,\n\u001b[0;32m    503\u001b[0m                      locking, page_buf_size, min_meta_keep, min_raw_keep, \u001b[38;5;241m*\u001b[39m\u001b[38;5;241m*\u001b[39mkwds)\n\u001b[0;32m    504\u001b[0m     fcpl \u001b[38;5;241m=\u001b[39m make_fcpl(track_order\u001b[38;5;241m=\u001b[39mtrack_order, fs_strategy\u001b[38;5;241m=\u001b[39mfs_strategy,\n\u001b[0;32m    505\u001b[0m                      fs_persist\u001b[38;5;241m=\u001b[39mfs_persist, fs_threshold\u001b[38;5;241m=\u001b[39mfs_threshold,\n\u001b[0;32m    506\u001b[0m                      fs_page_size\u001b[38;5;241m=\u001b[39mfs_page_size)\n\u001b[1;32m--> 507\u001b[0m     fid \u001b[38;5;241m=\u001b[39m \u001b[43mmake_fid\u001b[49m\u001b[43m(\u001b[49m\u001b[43mname\u001b[49m\u001b[43m,\u001b[49m\u001b[43m \u001b[49m\u001b[43mmode\u001b[49m\u001b[43m,\u001b[49m\u001b[43m \u001b[49m\u001b[43muserblock_size\u001b[49m\u001b[43m,\u001b[49m\u001b[43m \u001b[49m\u001b[43mfapl\u001b[49m\u001b[43m,\u001b[49m\u001b[43m \u001b[49m\u001b[43mfcpl\u001b[49m\u001b[43m,\u001b[49m\u001b[43m \u001b[49m\u001b[43mswmr\u001b[49m\u001b[38;5;241;43m=\u001b[39;49m\u001b[43mswmr\u001b[49m\u001b[43m)\u001b[49m\n\u001b[0;32m    509\u001b[0m \u001b[38;5;28;01mif\u001b[39;00m \u001b[38;5;28misinstance\u001b[39m(libver, \u001b[38;5;28mtuple\u001b[39m):\n\u001b[0;32m    510\u001b[0m     \u001b[38;5;28mself\u001b[39m\u001b[38;5;241m.\u001b[39m_libver \u001b[38;5;241m=\u001b[39m libver\n",
      "File \u001b[1;32m~\\AppData\\Roaming\\Python\\Python39\\site-packages\\h5py\\_hl\\files.py:220\u001b[0m, in \u001b[0;36mmake_fid\u001b[1;34m(name, mode, userblock_size, fapl, fcpl, swmr)\u001b[0m\n\u001b[0;32m    218\u001b[0m     \u001b[38;5;28;01mif\u001b[39;00m swmr \u001b[38;5;129;01mand\u001b[39;00m swmr_support:\n\u001b[0;32m    219\u001b[0m         flags \u001b[38;5;241m|\u001b[39m\u001b[38;5;241m=\u001b[39m h5f\u001b[38;5;241m.\u001b[39mACC_SWMR_READ\n\u001b[1;32m--> 220\u001b[0m     fid \u001b[38;5;241m=\u001b[39m \u001b[43mh5f\u001b[49m\u001b[38;5;241;43m.\u001b[39;49m\u001b[43mopen\u001b[49m\u001b[43m(\u001b[49m\u001b[43mname\u001b[49m\u001b[43m,\u001b[49m\u001b[43m \u001b[49m\u001b[43mflags\u001b[49m\u001b[43m,\u001b[49m\u001b[43m \u001b[49m\u001b[43mfapl\u001b[49m\u001b[38;5;241;43m=\u001b[39;49m\u001b[43mfapl\u001b[49m\u001b[43m)\u001b[49m\n\u001b[0;32m    221\u001b[0m \u001b[38;5;28;01melif\u001b[39;00m mode \u001b[38;5;241m==\u001b[39m \u001b[38;5;124m'\u001b[39m\u001b[38;5;124mr+\u001b[39m\u001b[38;5;124m'\u001b[39m:\n\u001b[0;32m    222\u001b[0m     fid \u001b[38;5;241m=\u001b[39m h5f\u001b[38;5;241m.\u001b[39mopen(name, h5f\u001b[38;5;241m.\u001b[39mACC_RDWR, fapl\u001b[38;5;241m=\u001b[39mfapl)\n",
      "File \u001b[1;32mh5py\\_objects.pyx:54\u001b[0m, in \u001b[0;36mh5py._objects.with_phil.wrapper\u001b[1;34m()\u001b[0m\n",
      "File \u001b[1;32mh5py\\_objects.pyx:55\u001b[0m, in \u001b[0;36mh5py._objects.with_phil.wrapper\u001b[1;34m()\u001b[0m\n",
      "File \u001b[1;32mh5py\\h5f.pyx:106\u001b[0m, in \u001b[0;36mh5py.h5f.open\u001b[1;34m()\u001b[0m\n",
      "\u001b[1;31mBlockingIOError\u001b[0m: [Errno 11] Unable to open file (unable to lock file, errno = 11, error message = 'Resource temporarily unavailable', Win32 GetLastError() = 33)"
     ]
    }
   ],
   "source": [
    "f = h5py.File(os.path.join('output','v_report.h5'), 'r')\n",
    "traces = f['report/biophysical/data'][()]\n",
    "f.close()"
   ]
  },
  {
   "cell_type": "code",
   "execution_count": 72,
   "id": "0b07a2d8-f1ce-49b4-898a-f1ee38bf4b35",
   "metadata": {},
   "outputs": [
    {
     "data": {
      "image/png": "[encoded data removed]",
      "text/plain": [
       "<Figure size 432x288 with 1 Axes>"
      ]
     },
     "metadata": {
      "needs_background": "light"
     },
     "output_type": "display_data"
    }
   ],
   "source": [
    "plt.plot(traces)\n",
    "plt.show()"
   ]
  },
  {
   "cell_type": "code",
   "execution_count": 57,
   "id": "e2a250ff-fc75-45ba-8622-50299ee8ad37",
   "metadata": {},
   "outputs": [
    {
     "data": {
      "image/png": "[encoded data removed]",
      "text/plain": [
       "<Figure size 432x288 with 1 Axes>"
      ]
     },
     "metadata": {
      "needs_background": "light"
     },
     "output_type": "display_data"
    }
   ],
   "source": [
    "plt.plot(traces)\n",
    "plt.show()"
   ]
  },
  {
   "cell_type": "code",
   "execution_count": 68,
   "id": "69c08c98-1c44-4653-a64d-ff935c1efa6c",
   "metadata": {},
   "outputs": [
    {
     "name": "stdout",
     "output_type": "stream",
     "text": [
      "nodes\n",
      "nodes/bgpn\n",
      "nodes/bgpn/0\n",
      "nodes/bgpn/node_group_id\n",
      "nodes/bgpn/node_group_index\n",
      "nodes/bgpn/node_id\n",
      "nodes/bgpn/node_type_id\n"
     ]
    },
    {
     "data": {
      "text/html": [
       "<div>\n",
       "<style scoped>\n",
       "    .dataframe tbody tr th:only-of-type {\n",
       "        vertical-align: middle;\n",
       "    }\n",
       "\n",
       "    .dataframe tbody tr th {\n",
       "        vertical-align: top;\n",
       "    }\n",
       "\n",
       "    .dataframe thead th {\n",
       "        text-align: right;\n",
       "    }\n",
       "</style>\n",
       "<table border=\"1\" class=\"dataframe\">\n",
       "  <thead>\n",
       "    <tr style=\"text-align: right;\">\n",
       "      <th></th>\n",
       "      <th>node_group_id</th>\n",
       "      <th>node_group_index</th>\n",
       "      <th>node_id</th>\n",
       "      <th>node_type_id</th>\n",
       "    </tr>\n",
       "  </thead>\n",
       "  <tbody>\n",
       "    <tr>\n",
       "      <th>0</th>\n",
       "      <td>0</td>\n",
       "      <td>0</td>\n",
       "      <td>0</td>\n",
       "      <td>100</td>\n",
       "    </tr>\n",
       "    <tr>\n",
       "      <th>1</th>\n",
       "      <td>0</td>\n",
       "      <td>1</td>\n",
       "      <td>1</td>\n",
       "      <td>100</td>\n",
       "    </tr>\n",
       "    <tr>\n",
       "      <th>2</th>\n",
       "      <td>0</td>\n",
       "      <td>2</td>\n",
       "      <td>2</td>\n",
       "      <td>100</td>\n",
       "    </tr>\n",
       "  </tbody>\n",
       "</table>\n",
       "</div>"
      ],
      "text/plain": [
       "   node_group_id  node_group_index  node_id  node_type_id\n",
       "0              0                 0        0           100\n",
       "1              0                 1        1           100\n",
       "2              0                 2        2           100"
      ]
     },
     "execution_count": 68,
     "metadata": {},
     "output_type": "execute_result"
    }
   ],
   "source": [
    "f = h5py.File('network/bgpn_nodes.h5', 'r')\n",
    "f.visit(print)\n",
    "bgNodes = SaveDataToDF(f)\n",
    "bgNodes"
   ]
  },
  {
   "cell_type": "code",
   "execution_count": 64,
   "id": "3c2b3287-3be0-4940-b0fa-d7a241ea5a86",
   "metadata": {},
   "outputs": [
    {
     "name": "stdout",
     "output_type": "stream",
     "text": [
      "edges\n",
      "edges/bgpn_to_biophysical\n",
      "edges/bgpn_to_biophysical/0\n",
      "edges/bgpn_to_biophysical/0/nsyns\n",
      "edges/bgpn_to_biophysical/edge_group_id\n",
      "edges/bgpn_to_biophysical/edge_group_index\n",
      "edges/bgpn_to_biophysical/edge_type_id\n",
      "edges/bgpn_to_biophysical/indices\n",
      "edges/bgpn_to_biophysical/indices/source_to_target\n",
      "edges/bgpn_to_biophysical/indices/source_to_target/node_id_to_range\n",
      "edges/bgpn_to_biophysical/indices/source_to_target/range_to_edge_id\n",
      "edges/bgpn_to_biophysical/indices/target_to_source\n",
      "edges/bgpn_to_biophysical/indices/target_to_source/node_id_to_range\n",
      "edges/bgpn_to_biophysical/indices/target_to_source/range_to_edge_id\n",
      "edges/bgpn_to_biophysical/source_node_id\n",
      "edges/bgpn_to_biophysical/target_node_id\n"
     ]
    }
   ],
   "source": [
    "f = h5py.File('network/bgpn_biophysical_edges.h5', 'r')\n",
    "f.visit(print)\n",
    "bgEdges = SaveDataToDF(f)\n"
   ]
  },
  {
   "cell_type": "code",
   "execution_count": 65,
   "id": "894cb3a1-77bf-457b-b0b6-634b837bf33f",
   "metadata": {},
   "outputs": [
    {
     "data": {
      "text/html": [
       "<div>\n",
       "<style scoped>\n",
       "    .dataframe tbody tr th:only-of-type {\n",
       "        vertical-align: middle;\n",
       "    }\n",
       "\n",
       "    .dataframe tbody tr th {\n",
       "        vertical-align: top;\n",
       "    }\n",
       "\n",
       "    .dataframe thead th {\n",
       "        text-align: right;\n",
       "    }\n",
       "</style>\n",
       "<table border=\"1\" class=\"dataframe\">\n",
       "  <thead>\n",
       "    <tr style=\"text-align: right;\">\n",
       "      <th></th>\n",
       "      <th>nsyns</th>\n",
       "      <th>edge_group_id</th>\n",
       "      <th>edge_group_index</th>\n",
       "      <th>edge_type_id</th>\n",
       "      <th>node_id_to_range0</th>\n",
       "      <th>node_id_to_range1</th>\n",
       "      <th>range_to_edge_id0</th>\n",
       "      <th>range_to_edge_id1</th>\n",
       "      <th>node_id_to_range0</th>\n",
       "      <th>node_id_to_range1</th>\n",
       "      <th>range_to_edge_id0</th>\n",
       "      <th>range_to_edge_id1</th>\n",
       "      <th>source_node_id</th>\n",
       "      <th>target_node_id</th>\n",
       "    </tr>\n",
       "  </thead>\n",
       "  <tbody>\n",
       "    <tr>\n",
       "      <th>0</th>\n",
       "      <td>1.0</td>\n",
       "      <td>0.0</td>\n",
       "      <td>0.0</td>\n",
       "      <td>100.0</td>\n",
       "      <td>0.0</td>\n",
       "      <td>3.0</td>\n",
       "      <td>0.0</td>\n",
       "      <td>1.0</td>\n",
       "      <td>0.0</td>\n",
       "      <td>0.0</td>\n",
       "      <td>0.0</td>\n",
       "      <td>3.0</td>\n",
       "      <td>0.0</td>\n",
       "      <td>31.0</td>\n",
       "    </tr>\n",
       "    <tr>\n",
       "      <th>1</th>\n",
       "      <td>1.0</td>\n",
       "      <td>0.0</td>\n",
       "      <td>1.0</td>\n",
       "      <td>100.0</td>\n",
       "      <td>3.0</td>\n",
       "      <td>6.0</td>\n",
       "      <td>3.0</td>\n",
       "      <td>4.0</td>\n",
       "      <td>0.0</td>\n",
       "      <td>0.0</td>\n",
       "      <td>3.0</td>\n",
       "      <td>6.0</td>\n",
       "      <td>1.0</td>\n",
       "      <td>31.0</td>\n",
       "    </tr>\n",
       "    <tr>\n",
       "      <th>2</th>\n",
       "      <td>1.0</td>\n",
       "      <td>0.0</td>\n",
       "      <td>2.0</td>\n",
       "      <td>100.0</td>\n",
       "      <td>6.0</td>\n",
       "      <td>9.0</td>\n",
       "      <td>6.0</td>\n",
       "      <td>7.0</td>\n",
       "      <td>0.0</td>\n",
       "      <td>0.0</td>\n",
       "      <td>6.0</td>\n",
       "      <td>9.0</td>\n",
       "      <td>2.0</td>\n",
       "      <td>31.0</td>\n",
       "    </tr>\n",
       "    <tr>\n",
       "      <th>3</th>\n",
       "      <td>1.0</td>\n",
       "      <td>0.0</td>\n",
       "      <td>3.0</td>\n",
       "      <td>100.0</td>\n",
       "      <td>NaN</td>\n",
       "      <td>NaN</td>\n",
       "      <td>1.0</td>\n",
       "      <td>2.0</td>\n",
       "      <td>0.0</td>\n",
       "      <td>0.0</td>\n",
       "      <td>NaN</td>\n",
       "      <td>NaN</td>\n",
       "      <td>0.0</td>\n",
       "      <td>32.0</td>\n",
       "    </tr>\n",
       "    <tr>\n",
       "      <th>4</th>\n",
       "      <td>1.0</td>\n",
       "      <td>0.0</td>\n",
       "      <td>4.0</td>\n",
       "      <td>100.0</td>\n",
       "      <td>NaN</td>\n",
       "      <td>NaN</td>\n",
       "      <td>4.0</td>\n",
       "      <td>5.0</td>\n",
       "      <td>0.0</td>\n",
       "      <td>0.0</td>\n",
       "      <td>NaN</td>\n",
       "      <td>NaN</td>\n",
       "      <td>1.0</td>\n",
       "      <td>32.0</td>\n",
       "    </tr>\n",
       "    <tr>\n",
       "      <th>5</th>\n",
       "      <td>1.0</td>\n",
       "      <td>0.0</td>\n",
       "      <td>5.0</td>\n",
       "      <td>100.0</td>\n",
       "      <td>NaN</td>\n",
       "      <td>NaN</td>\n",
       "      <td>7.0</td>\n",
       "      <td>8.0</td>\n",
       "      <td>0.0</td>\n",
       "      <td>0.0</td>\n",
       "      <td>NaN</td>\n",
       "      <td>NaN</td>\n",
       "      <td>2.0</td>\n",
       "      <td>32.0</td>\n",
       "    </tr>\n",
       "    <tr>\n",
       "      <th>6</th>\n",
       "      <td>1.0</td>\n",
       "      <td>0.0</td>\n",
       "      <td>6.0</td>\n",
       "      <td>100.0</td>\n",
       "      <td>NaN</td>\n",
       "      <td>NaN</td>\n",
       "      <td>2.0</td>\n",
       "      <td>3.0</td>\n",
       "      <td>0.0</td>\n",
       "      <td>0.0</td>\n",
       "      <td>NaN</td>\n",
       "      <td>NaN</td>\n",
       "      <td>0.0</td>\n",
       "      <td>33.0</td>\n",
       "    </tr>\n",
       "    <tr>\n",
       "      <th>7</th>\n",
       "      <td>1.0</td>\n",
       "      <td>0.0</td>\n",
       "      <td>7.0</td>\n",
       "      <td>100.0</td>\n",
       "      <td>NaN</td>\n",
       "      <td>NaN</td>\n",
       "      <td>5.0</td>\n",
       "      <td>6.0</td>\n",
       "      <td>0.0</td>\n",
       "      <td>0.0</td>\n",
       "      <td>NaN</td>\n",
       "      <td>NaN</td>\n",
       "      <td>1.0</td>\n",
       "      <td>33.0</td>\n",
       "    </tr>\n",
       "    <tr>\n",
       "      <th>8</th>\n",
       "      <td>1.0</td>\n",
       "      <td>0.0</td>\n",
       "      <td>8.0</td>\n",
       "      <td>100.0</td>\n",
       "      <td>NaN</td>\n",
       "      <td>NaN</td>\n",
       "      <td>8.0</td>\n",
       "      <td>9.0</td>\n",
       "      <td>0.0</td>\n",
       "      <td>0.0</td>\n",
       "      <td>NaN</td>\n",
       "      <td>NaN</td>\n",
       "      <td>2.0</td>\n",
       "      <td>33.0</td>\n",
       "    </tr>\n",
       "    <tr>\n",
       "      <th>9</th>\n",
       "      <td>NaN</td>\n",
       "      <td>NaN</td>\n",
       "      <td>NaN</td>\n",
       "      <td>NaN</td>\n",
       "      <td>NaN</td>\n",
       "      <td>NaN</td>\n",
       "      <td>NaN</td>\n",
       "      <td>NaN</td>\n",
       "      <td>0.0</td>\n",
       "      <td>0.0</td>\n",
       "      <td>NaN</td>\n",
       "      <td>NaN</td>\n",
       "      <td>NaN</td>\n",
       "      <td>NaN</td>\n",
       "    </tr>\n",
       "    <tr>\n",
       "      <th>10</th>\n",
       "      <td>NaN</td>\n",
       "      <td>NaN</td>\n",
       "      <td>NaN</td>\n",
       "      <td>NaN</td>\n",
       "      <td>NaN</td>\n",
       "      <td>NaN</td>\n",
       "      <td>NaN</td>\n",
       "      <td>NaN</td>\n",
       "      <td>0.0</td>\n",
       "      <td>0.0</td>\n",
       "      <td>NaN</td>\n",
       "      <td>NaN</td>\n",
       "      <td>NaN</td>\n",
       "      <td>NaN</td>\n",
       "    </tr>\n",
       "    <tr>\n",
       "      <th>11</th>\n",
       "      <td>NaN</td>\n",
       "      <td>NaN</td>\n",
       "      <td>NaN</td>\n",
       "      <td>NaN</td>\n",
       "      <td>NaN</td>\n",
       "      <td>NaN</td>\n",
       "      <td>NaN</td>\n",
       "      <td>NaN</td>\n",
       "      <td>0.0</td>\n",
       "      <td>0.0</td>\n",
       "      <td>NaN</td>\n",
       "      <td>NaN</td>\n",
       "      <td>NaN</td>\n",
       "      <td>NaN</td>\n",
       "    </tr>\n",
       "    <tr>\n",
       "      <th>12</th>\n",
       "      <td>NaN</td>\n",
       "      <td>NaN</td>\n",
       "      <td>NaN</td>\n",
       "      <td>NaN</td>\n",
       "      <td>NaN</td>\n",
       "      <td>NaN</td>\n",
       "      <td>NaN</td>\n",
       "      <td>NaN</td>\n",
       "      <td>0.0</td>\n",
       "      <td>0.0</td>\n",
       "      <td>NaN</td>\n",
       "      <td>NaN</td>\n",
       "      <td>NaN</td>\n",
       "      <td>NaN</td>\n",
       "    </tr>\n",
       "    <tr>\n",
       "      <th>13</th>\n",
       "      <td>NaN</td>\n",
       "      <td>NaN</td>\n",
       "      <td>NaN</td>\n",
       "      <td>NaN</td>\n",
       "      <td>NaN</td>\n",
       "      <td>NaN</td>\n",
       "      <td>NaN</td>\n",
       "      <td>NaN</td>\n",
       "      <td>0.0</td>\n",
       "      <td>0.0</td>\n",
       "      <td>NaN</td>\n",
       "      <td>NaN</td>\n",
       "      <td>NaN</td>\n",
       "      <td>NaN</td>\n",
       "    </tr>\n",
       "    <tr>\n",
       "      <th>14</th>\n",
       "      <td>NaN</td>\n",
       "      <td>NaN</td>\n",
       "      <td>NaN</td>\n",
       "      <td>NaN</td>\n",
       "      <td>NaN</td>\n",
       "      <td>NaN</td>\n",
       "      <td>NaN</td>\n",
       "      <td>NaN</td>\n",
       "      <td>0.0</td>\n",
       "      <td>0.0</td>\n",
       "      <td>NaN</td>\n",
       "      <td>NaN</td>\n",
       "      <td>NaN</td>\n",
       "      <td>NaN</td>\n",
       "    </tr>\n",
       "    <tr>\n",
       "      <th>15</th>\n",
       "      <td>NaN</td>\n",
       "      <td>NaN</td>\n",
       "      <td>NaN</td>\n",
       "      <td>NaN</td>\n",
       "      <td>NaN</td>\n",
       "      <td>NaN</td>\n",
       "      <td>NaN</td>\n",
       "      <td>NaN</td>\n",
       "      <td>0.0</td>\n",
       "      <td>0.0</td>\n",
       "      <td>NaN</td>\n",
       "      <td>NaN</td>\n",
       "      <td>NaN</td>\n",
       "      <td>NaN</td>\n",
       "    </tr>\n",
       "    <tr>\n",
       "      <th>16</th>\n",
       "      <td>NaN</td>\n",
       "      <td>NaN</td>\n",
       "      <td>NaN</td>\n",
       "      <td>NaN</td>\n",
       "      <td>NaN</td>\n",
       "      <td>NaN</td>\n",
       "      <td>NaN</td>\n",
       "      <td>NaN</td>\n",
       "      <td>0.0</td>\n",
       "      <td>0.0</td>\n",
       "      <td>NaN</td>\n",
       "      <td>NaN</td>\n",
       "      <td>NaN</td>\n",
       "      <td>NaN</td>\n",
       "    </tr>\n",
       "    <tr>\n",
       "      <th>17</th>\n",
       "      <td>NaN</td>\n",
       "      <td>NaN</td>\n",
       "      <td>NaN</td>\n",
       "      <td>NaN</td>\n",
       "      <td>NaN</td>\n",
       "      <td>NaN</td>\n",
       "      <td>NaN</td>\n",
       "      <td>NaN</td>\n",
       "      <td>0.0</td>\n",
       "      <td>0.0</td>\n",
       "      <td>NaN</td>\n",
       "      <td>NaN</td>\n",
       "      <td>NaN</td>\n",
       "      <td>NaN</td>\n",
       "    </tr>\n",
       "    <tr>\n",
       "      <th>18</th>\n",
       "      <td>NaN</td>\n",
       "      <td>NaN</td>\n",
       "      <td>NaN</td>\n",
       "      <td>NaN</td>\n",
       "      <td>NaN</td>\n",
       "      <td>NaN</td>\n",
       "      <td>NaN</td>\n",
       "      <td>NaN</td>\n",
       "      <td>0.0</td>\n",
       "      <td>0.0</td>\n",
       "      <td>NaN</td>\n",
       "      <td>NaN</td>\n",
       "      <td>NaN</td>\n",
       "      <td>NaN</td>\n",
       "    </tr>\n",
       "    <tr>\n",
       "      <th>19</th>\n",
       "      <td>NaN</td>\n",
       "      <td>NaN</td>\n",
       "      <td>NaN</td>\n",
       "      <td>NaN</td>\n",
       "      <td>NaN</td>\n",
       "      <td>NaN</td>\n",
       "      <td>NaN</td>\n",
       "      <td>NaN</td>\n",
       "      <td>0.0</td>\n",
       "      <td>0.0</td>\n",
       "      <td>NaN</td>\n",
       "      <td>NaN</td>\n",
       "      <td>NaN</td>\n",
       "      <td>NaN</td>\n",
       "    </tr>\n",
       "  </tbody>\n",
       "</table>\n",
       "</div>"
      ],
      "text/plain": [
       "    nsyns  edge_group_id  edge_group_index  edge_type_id  node_id_to_range0  \\\n",
       "0     1.0            0.0               0.0         100.0                0.0   \n",
       "1     1.0            0.0               1.0         100.0                3.0   \n",
       "2     1.0            0.0               2.0         100.0                6.0   \n",
       "3     1.0            0.0               3.0         100.0                NaN   \n",
       "4     1.0            0.0               4.0         100.0                NaN   \n",
       "5     1.0            0.0               5.0         100.0                NaN   \n",
       "6     1.0            0.0               6.0         100.0                NaN   \n",
       "7     1.0            0.0               7.0         100.0                NaN   \n",
       "8     1.0            0.0               8.0         100.0                NaN   \n",
       "9     NaN            NaN               NaN           NaN                NaN   \n",
       "10    NaN            NaN               NaN           NaN                NaN   \n",
       "11    NaN            NaN               NaN           NaN                NaN   \n",
       "12    NaN            NaN               NaN           NaN                NaN   \n",
       "13    NaN            NaN               NaN           NaN                NaN   \n",
       "14    NaN            NaN               NaN           NaN                NaN   \n",
       "15    NaN            NaN               NaN           NaN                NaN   \n",
       "16    NaN            NaN               NaN           NaN                NaN   \n",
       "17    NaN            NaN               NaN           NaN                NaN   \n",
       "18    NaN            NaN               NaN           NaN                NaN   \n",
       "19    NaN            NaN               NaN           NaN                NaN   \n",
       "\n",
       "    node_id_to_range1  range_to_edge_id0  range_to_edge_id1  \\\n",
       "0                 3.0                0.0                1.0   \n",
       "1                 6.0                3.0                4.0   \n",
       "2                 9.0                6.0                7.0   \n",
       "3                 NaN                1.0                2.0   \n",
       "4                 NaN                4.0                5.0   \n",
       "5                 NaN                7.0                8.0   \n",
       "6                 NaN                2.0                3.0   \n",
       "7                 NaN                5.0                6.0   \n",
       "8                 NaN                8.0                9.0   \n",
       "9                 NaN                NaN                NaN   \n",
       "10                NaN                NaN                NaN   \n",
       "11                NaN                NaN                NaN   \n",
       "12                NaN                NaN                NaN   \n",
       "13                NaN                NaN                NaN   \n",
       "14                NaN                NaN                NaN   \n",
       "15                NaN                NaN                NaN   \n",
       "16                NaN                NaN                NaN   \n",
       "17                NaN                NaN                NaN   \n",
       "18                NaN                NaN                NaN   \n",
       "19                NaN                NaN                NaN   \n",
       "\n",
       "    node_id_to_range0  node_id_to_range1  range_to_edge_id0  \\\n",
       "0                 0.0                0.0                0.0   \n",
       "1                 0.0                0.0                3.0   \n",
       "2                 0.0                0.0                6.0   \n",
       "3                 0.0                0.0                NaN   \n",
       "4                 0.0                0.0                NaN   \n",
       "5                 0.0                0.0                NaN   \n",
       "6                 0.0                0.0                NaN   \n",
       "7                 0.0                0.0                NaN   \n",
       "8                 0.0                0.0                NaN   \n",
       "9                 0.0                0.0                NaN   \n",
       "10                0.0                0.0                NaN   \n",
       "11                0.0                0.0                NaN   \n",
       "12                0.0                0.0                NaN   \n",
       "13                0.0                0.0                NaN   \n",
       "14                0.0                0.0                NaN   \n",
       "15                0.0                0.0                NaN   \n",
       "16                0.0                0.0                NaN   \n",
       "17                0.0                0.0                NaN   \n",
       "18                0.0                0.0                NaN   \n",
       "19                0.0                0.0                NaN   \n",
       "\n",
       "    range_to_edge_id1  source_node_id  target_node_id  \n",
       "0                 3.0             0.0            31.0  \n",
       "1                 6.0             1.0            31.0  \n",
       "2                 9.0             2.0            31.0  \n",
       "3                 NaN             0.0            32.0  \n",
       "4                 NaN             1.0            32.0  \n",
       "5                 NaN             2.0            32.0  \n",
       "6                 NaN             0.0            33.0  \n",
       "7                 NaN             1.0            33.0  \n",
       "8                 NaN             2.0            33.0  \n",
       "9                 NaN             NaN             NaN  \n",
       "10                NaN             NaN             NaN  \n",
       "11                NaN             NaN             NaN  \n",
       "12                NaN             NaN             NaN  \n",
       "13                NaN             NaN             NaN  \n",
       "14                NaN             NaN             NaN  \n",
       "15                NaN             NaN             NaN  \n",
       "16                NaN             NaN             NaN  \n",
       "17                NaN             NaN             NaN  \n",
       "18                NaN             NaN             NaN  \n",
       "19                NaN             NaN             NaN  "
      ]
     },
     "execution_count": 65,
     "metadata": {},
     "output_type": "execute_result"
    }
   ],
   "source": [
    "bgEdges.head(20)"
   ]
  },
  {
   "cell_type": "code",
   "execution_count": 69,
   "id": "71549e87-9048-49ef-8ee3-85b4439b5884",
   "metadata": {},
   "outputs": [
    {
     "name": "stdout",
     "output_type": "stream",
     "text": [
      "spikes\n",
      "spikes/bgpn\n",
      "spikes/bgpn/node_ids\n",
      "spikes/bgpn/timestamps\n"
     ]
    }
   ],
   "source": [
    "f = h5py.File('CA1_inputs/bg_pn_spikes.h5', 'r')\n",
    "f.visit(print)"
   ]
  },
  {
   "cell_type": "code",
   "execution_count": 70,
   "id": "3e9f7eb0-9697-47f6-9579-0627c6cd67da",
   "metadata": {},
   "outputs": [
    {
     "data": {
      "text/html": [
       "<div>\n",
       "<style scoped>\n",
       "    .dataframe tbody tr th:only-of-type {\n",
       "        vertical-align: middle;\n",
       "    }\n",
       "\n",
       "    .dataframe tbody tr th {\n",
       "        vertical-align: top;\n",
       "    }\n",
       "\n",
       "    .dataframe thead th {\n",
       "        text-align: right;\n",
       "    }\n",
       "</style>\n",
       "<table border=\"1\" class=\"dataframe\">\n",
       "  <thead>\n",
       "    <tr style=\"text-align: right;\">\n",
       "      <th></th>\n",
       "      <th>node_ids</th>\n",
       "      <th>timestamps</th>\n",
       "    </tr>\n",
       "  </thead>\n",
       "  <tbody>\n",
       "    <tr>\n",
       "      <th>0</th>\n",
       "      <td>0.0</td>\n",
       "      <td>1.000517</td>\n",
       "    </tr>\n",
       "    <tr>\n",
       "      <th>1</th>\n",
       "      <td>0.0</td>\n",
       "      <td>1.005927</td>\n",
       "    </tr>\n",
       "    <tr>\n",
       "      <th>2</th>\n",
       "      <td>0.0</td>\n",
       "      <td>1.009170</td>\n",
       "    </tr>\n",
       "    <tr>\n",
       "      <th>3</th>\n",
       "      <td>0.0</td>\n",
       "      <td>1.011371</td>\n",
       "    </tr>\n",
       "    <tr>\n",
       "      <th>4</th>\n",
       "      <td>0.0</td>\n",
       "      <td>1.037472</td>\n",
       "    </tr>\n",
       "    <tr>\n",
       "      <th>...</th>\n",
       "      <td>...</td>\n",
       "      <td>...</td>\n",
       "    </tr>\n",
       "    <tr>\n",
       "      <th>134</th>\n",
       "      <td>2.0</td>\n",
       "      <td>1.891977</td>\n",
       "    </tr>\n",
       "    <tr>\n",
       "      <th>135</th>\n",
       "      <td>2.0</td>\n",
       "      <td>1.937308</td>\n",
       "    </tr>\n",
       "    <tr>\n",
       "      <th>136</th>\n",
       "      <td>2.0</td>\n",
       "      <td>1.973206</td>\n",
       "    </tr>\n",
       "    <tr>\n",
       "      <th>137</th>\n",
       "      <td>2.0</td>\n",
       "      <td>1.982460</td>\n",
       "    </tr>\n",
       "    <tr>\n",
       "      <th>138</th>\n",
       "      <td>2.0</td>\n",
       "      <td>1.996318</td>\n",
       "    </tr>\n",
       "  </tbody>\n",
       "</table>\n",
       "<p>139 rows × 2 columns</p>\n",
       "</div>"
      ],
      "text/plain": [
       "     node_ids  timestamps\n",
       "0         0.0    1.000517\n",
       "1         0.0    1.005927\n",
       "2         0.0    1.009170\n",
       "3         0.0    1.011371\n",
       "4         0.0    1.037472\n",
       "..        ...         ...\n",
       "134       2.0    1.891977\n",
       "135       2.0    1.937308\n",
       "136       2.0    1.973206\n",
       "137       2.0    1.982460\n",
       "138       2.0    1.996318\n",
       "\n",
       "[139 rows x 2 columns]"
      ]
     },
     "execution_count": 70,
     "metadata": {},
     "output_type": "execute_result"
    }
   ],
   "source": [
    "bgInputs = SaveDataToDF(f)\n",
    "bgInputs"
   ]
  },
  {
   "cell_type": "code",
   "execution_count": 51,
   "id": "37ef4c0f-bd8f-4a12-a306-e08896edd465",
   "metadata": {},
   "outputs": [],
   "source": [
    "f.close()"
   ]
  },
  {
   "cell_type": "code",
   "execution_count": 58,
   "id": "42a48ee4-f014-41f8-821c-7069903ba3c5",
   "metadata": {},
   "outputs": [
    {
     "name": "stdout",
     "output_type": "stream",
     "text": [
      "ecp\n",
      "ecp/channel_id\n",
      "ecp/data\n",
      "ecp/time\n"
     ]
    }
   ],
   "source": [
    "f = h5py.File('output\\ecp.h5', 'r')\n",
    "f.visit(print)"
   ]
  },
  {
   "cell_type": "code",
   "execution_count": 59,
   "id": "2dc88d0e-23de-42a1-b30f-9bd6e84ccaae",
   "metadata": {},
   "outputs": [],
   "source": [
    "data = f['ecp/data'][()]\n",
    "time = f['ecp/time'][()]\n",
    "f.close()"
   ]
  },
  {
   "cell_type": "code",
   "execution_count": 60,
   "id": "b64c70db-3dc2-49f8-8d9c-51d84afaf263",
   "metadata": {},
   "outputs": [
    {
     "data": {
      "text/plain": [
       "[<matplotlib.lines.Line2D at 0x1e9f5e6dd60>,\n",
       " <matplotlib.lines.Line2D at 0x1e9f5e6ddc0>,\n",
       " <matplotlib.lines.Line2D at 0x1e9f5e6dee0>,\n",
       " <matplotlib.lines.Line2D at 0x1e9f5e84040>,\n",
       " <matplotlib.lines.Line2D at 0x1e9f5e84160>,\n",
       " <matplotlib.lines.Line2D at 0x1e9f5e84280>,\n",
       " <matplotlib.lines.Line2D at 0x1e9f5e843a0>,\n",
       " <matplotlib.lines.Line2D at 0x1e9f5e844c0>,\n",
       " <matplotlib.lines.Line2D at 0x1e9f5e845e0>,\n",
       " <matplotlib.lines.Line2D at 0x1e9f5e84700>,\n",
       " <matplotlib.lines.Line2D at 0x1e9f5e6dd90>,\n",
       " <matplotlib.lines.Line2D at 0x1e9f5e84820>,\n",
       " <matplotlib.lines.Line2D at 0x1e9f5e84a30>]"
      ]
     },
     "execution_count": 60,
     "metadata": {},
     "output_type": "execute_result"
    },
    {
     "data": {
      "image/png": "[encoded data removed]",
      "text/plain": [
       "<Figure size 432x288 with 1 Axes>"
      ]
     },
     "metadata": {
      "needs_background": "light"
     },
     "output_type": "display_data"
    }
   ],
   "source": [
    "plt.plot(data)"
   ]
  },
  {
   "cell_type": "code",
   "execution_count": 43,
   "id": "62edbfc7-84ae-487e-9cb8-11888249aa72",
   "metadata": {},
   "outputs": [
    {
     "data": {
      "image/png": "[encoded data removed]",
      "text/plain": [
       "<Figure size 432x288 with 1 Axes>"
      ]
     },
     "metadata": {
      "needs_background": "light"
     },
     "output_type": "display_data"
    }
   ],
   "source": [
    "start,end = 2000,3000\n",
    "plt.plot(np.arange(start,end),data[start:end])\n",
    "plt.show()"
   ]
  },
  {
   "cell_type": "markdown",
   "id": "34dfa6b4-3e1b-4daf-8005-ad9577c9d239",
   "metadata": {},
   "source": [
    "# TESTING"
   ]
  },
  {
   "cell_type": "code",
   "execution_count": 1,
   "id": "a1e16abb-366b-4c43-9824-eca483b238b0",
   "metadata": {},
   "outputs": [],
   "source": [
    "from bmtk.utils.reports.spike_trains import PoissonSpikeGenerator"
   ]
  },
  {
   "cell_type": "code",
   "execution_count": 30,
   "id": "cb306848-fcc3-4472-9d70-58d4cd352d38",
   "metadata": {},
   "outputs": [],
   "source": [
    "psg = PoissonSpikeGenerator(population='bgpn')\n",
    "\n",
    "psg.add(node_ids=1,  # need same number as cells\n",
    "        firing_rate=50000,    # 1 spike every 5 seconds Hz\n",
    "        times=(1/1000, 2/1000))  # time is in seconds for some reason\n"
   ]
  },
  {
   "cell_type": "code",
   "execution_count": 21,
   "id": "625e80c8-222f-4d66-92a9-3cbc68632958",
   "metadata": {},
   "outputs": [],
   "source": [
    "psg.to_sonata('CA1_inputs/bg_pn_spikes.h5')"
   ]
  },
  {
   "cell_type": "code",
   "execution_count": 31,
   "id": "baf6a34c-d7c7-42e7-ac54-006a820e7a91",
   "metadata": {},
   "outputs": [
    {
     "name": "stdout",
     "output_type": "stream",
     "text": [
      "Number of spikes: 52\n",
      "Units: ms\n"
     ]
    },
    {
     "data": {
      "text/html": [
       "<div>\n",
       "<style scoped>\n",
       "    .dataframe tbody tr th:only-of-type {\n",
       "        vertical-align: middle;\n",
       "    }\n",
       "\n",
       "    .dataframe tbody tr th {\n",
       "        vertical-align: top;\n",
       "    }\n",
       "\n",
       "    .dataframe thead th {\n",
       "        text-align: right;\n",
       "    }\n",
       "</style>\n",
       "<table border=\"1\" class=\"dataframe\">\n",
       "  <thead>\n",
       "    <tr style=\"text-align: right;\">\n",
       "      <th></th>\n",
       "      <th>node_ids</th>\n",
       "      <th>timestamps</th>\n",
       "      <th>population</th>\n",
       "    </tr>\n",
       "  </thead>\n",
       "  <tbody>\n",
       "    <tr>\n",
       "      <th>0</th>\n",
       "      <td>1</td>\n",
       "      <td>1.054939</td>\n",
       "      <td>bgpn</td>\n",
       "    </tr>\n",
       "    <tr>\n",
       "      <th>1</th>\n",
       "      <td>1</td>\n",
       "      <td>1.063110</td>\n",
       "      <td>bgpn</td>\n",
       "    </tr>\n",
       "    <tr>\n",
       "      <th>2</th>\n",
       "      <td>1</td>\n",
       "      <td>1.106914</td>\n",
       "      <td>bgpn</td>\n",
       "    </tr>\n",
       "    <tr>\n",
       "      <th>3</th>\n",
       "      <td>1</td>\n",
       "      <td>1.144070</td>\n",
       "      <td>bgpn</td>\n",
       "    </tr>\n",
       "    <tr>\n",
       "      <th>4</th>\n",
       "      <td>1</td>\n",
       "      <td>1.155733</td>\n",
       "      <td>bgpn</td>\n",
       "    </tr>\n",
       "    <tr>\n",
       "      <th>5</th>\n",
       "      <td>1</td>\n",
       "      <td>1.193693</td>\n",
       "      <td>bgpn</td>\n",
       "    </tr>\n",
       "    <tr>\n",
       "      <th>6</th>\n",
       "      <td>1</td>\n",
       "      <td>1.194066</td>\n",
       "      <td>bgpn</td>\n",
       "    </tr>\n",
       "    <tr>\n",
       "      <th>7</th>\n",
       "      <td>1</td>\n",
       "      <td>1.198494</td>\n",
       "      <td>bgpn</td>\n",
       "    </tr>\n",
       "    <tr>\n",
       "      <th>8</th>\n",
       "      <td>1</td>\n",
       "      <td>1.210716</td>\n",
       "      <td>bgpn</td>\n",
       "    </tr>\n",
       "    <tr>\n",
       "      <th>9</th>\n",
       "      <td>1</td>\n",
       "      <td>1.216851</td>\n",
       "      <td>bgpn</td>\n",
       "    </tr>\n",
       "    <tr>\n",
       "      <th>10</th>\n",
       "      <td>1</td>\n",
       "      <td>1.244928</td>\n",
       "      <td>bgpn</td>\n",
       "    </tr>\n",
       "    <tr>\n",
       "      <th>11</th>\n",
       "      <td>1</td>\n",
       "      <td>1.284238</td>\n",
       "      <td>bgpn</td>\n",
       "    </tr>\n",
       "    <tr>\n",
       "      <th>12</th>\n",
       "      <td>1</td>\n",
       "      <td>1.288486</td>\n",
       "      <td>bgpn</td>\n",
       "    </tr>\n",
       "    <tr>\n",
       "      <th>13</th>\n",
       "      <td>1</td>\n",
       "      <td>1.315656</td>\n",
       "      <td>bgpn</td>\n",
       "    </tr>\n",
       "    <tr>\n",
       "      <th>14</th>\n",
       "      <td>1</td>\n",
       "      <td>1.321589</td>\n",
       "      <td>bgpn</td>\n",
       "    </tr>\n",
       "    <tr>\n",
       "      <th>15</th>\n",
       "      <td>1</td>\n",
       "      <td>1.350744</td>\n",
       "      <td>bgpn</td>\n",
       "    </tr>\n",
       "    <tr>\n",
       "      <th>16</th>\n",
       "      <td>1</td>\n",
       "      <td>1.356710</td>\n",
       "      <td>bgpn</td>\n",
       "    </tr>\n",
       "    <tr>\n",
       "      <th>17</th>\n",
       "      <td>1</td>\n",
       "      <td>1.394461</td>\n",
       "      <td>bgpn</td>\n",
       "    </tr>\n",
       "    <tr>\n",
       "      <th>18</th>\n",
       "      <td>1</td>\n",
       "      <td>1.401901</td>\n",
       "      <td>bgpn</td>\n",
       "    </tr>\n",
       "    <tr>\n",
       "      <th>19</th>\n",
       "      <td>1</td>\n",
       "      <td>1.412751</td>\n",
       "      <td>bgpn</td>\n",
       "    </tr>\n",
       "    <tr>\n",
       "      <th>20</th>\n",
       "      <td>1</td>\n",
       "      <td>1.415266</td>\n",
       "      <td>bgpn</td>\n",
       "    </tr>\n",
       "    <tr>\n",
       "      <th>21</th>\n",
       "      <td>1</td>\n",
       "      <td>1.425348</td>\n",
       "      <td>bgpn</td>\n",
       "    </tr>\n",
       "    <tr>\n",
       "      <th>22</th>\n",
       "      <td>1</td>\n",
       "      <td>1.425564</td>\n",
       "      <td>bgpn</td>\n",
       "    </tr>\n",
       "    <tr>\n",
       "      <th>23</th>\n",
       "      <td>1</td>\n",
       "      <td>1.431935</td>\n",
       "      <td>bgpn</td>\n",
       "    </tr>\n",
       "    <tr>\n",
       "      <th>24</th>\n",
       "      <td>1</td>\n",
       "      <td>1.434909</td>\n",
       "      <td>bgpn</td>\n",
       "    </tr>\n",
       "    <tr>\n",
       "      <th>25</th>\n",
       "      <td>1</td>\n",
       "      <td>1.438203</td>\n",
       "      <td>bgpn</td>\n",
       "    </tr>\n",
       "    <tr>\n",
       "      <th>26</th>\n",
       "      <td>1</td>\n",
       "      <td>1.467052</td>\n",
       "      <td>bgpn</td>\n",
       "    </tr>\n",
       "    <tr>\n",
       "      <th>27</th>\n",
       "      <td>1</td>\n",
       "      <td>1.508198</td>\n",
       "      <td>bgpn</td>\n",
       "    </tr>\n",
       "    <tr>\n",
       "      <th>28</th>\n",
       "      <td>1</td>\n",
       "      <td>1.547608</td>\n",
       "      <td>bgpn</td>\n",
       "    </tr>\n",
       "    <tr>\n",
       "      <th>29</th>\n",
       "      <td>1</td>\n",
       "      <td>1.593423</td>\n",
       "      <td>bgpn</td>\n",
       "    </tr>\n",
       "    <tr>\n",
       "      <th>30</th>\n",
       "      <td>1</td>\n",
       "      <td>1.596664</td>\n",
       "      <td>bgpn</td>\n",
       "    </tr>\n",
       "    <tr>\n",
       "      <th>31</th>\n",
       "      <td>1</td>\n",
       "      <td>1.602667</td>\n",
       "      <td>bgpn</td>\n",
       "    </tr>\n",
       "    <tr>\n",
       "      <th>32</th>\n",
       "      <td>1</td>\n",
       "      <td>1.659989</td>\n",
       "      <td>bgpn</td>\n",
       "    </tr>\n",
       "    <tr>\n",
       "      <th>33</th>\n",
       "      <td>1</td>\n",
       "      <td>1.662932</td>\n",
       "      <td>bgpn</td>\n",
       "    </tr>\n",
       "    <tr>\n",
       "      <th>34</th>\n",
       "      <td>1</td>\n",
       "      <td>1.775436</td>\n",
       "      <td>bgpn</td>\n",
       "    </tr>\n",
       "    <tr>\n",
       "      <th>35</th>\n",
       "      <td>1</td>\n",
       "      <td>1.782922</td>\n",
       "      <td>bgpn</td>\n",
       "    </tr>\n",
       "    <tr>\n",
       "      <th>36</th>\n",
       "      <td>1</td>\n",
       "      <td>1.796122</td>\n",
       "      <td>bgpn</td>\n",
       "    </tr>\n",
       "    <tr>\n",
       "      <th>37</th>\n",
       "      <td>1</td>\n",
       "      <td>1.808017</td>\n",
       "      <td>bgpn</td>\n",
       "    </tr>\n",
       "    <tr>\n",
       "      <th>38</th>\n",
       "      <td>1</td>\n",
       "      <td>1.809684</td>\n",
       "      <td>bgpn</td>\n",
       "    </tr>\n",
       "    <tr>\n",
       "      <th>39</th>\n",
       "      <td>1</td>\n",
       "      <td>1.822352</td>\n",
       "      <td>bgpn</td>\n",
       "    </tr>\n",
       "    <tr>\n",
       "      <th>40</th>\n",
       "      <td>1</td>\n",
       "      <td>1.828384</td>\n",
       "      <td>bgpn</td>\n",
       "    </tr>\n",
       "    <tr>\n",
       "      <th>41</th>\n",
       "      <td>1</td>\n",
       "      <td>1.854461</td>\n",
       "      <td>bgpn</td>\n",
       "    </tr>\n",
       "    <tr>\n",
       "      <th>42</th>\n",
       "      <td>1</td>\n",
       "      <td>1.854949</td>\n",
       "      <td>bgpn</td>\n",
       "    </tr>\n",
       "    <tr>\n",
       "      <th>43</th>\n",
       "      <td>1</td>\n",
       "      <td>1.867702</td>\n",
       "      <td>bgpn</td>\n",
       "    </tr>\n",
       "    <tr>\n",
       "      <th>44</th>\n",
       "      <td>1</td>\n",
       "      <td>1.883061</td>\n",
       "      <td>bgpn</td>\n",
       "    </tr>\n",
       "    <tr>\n",
       "      <th>45</th>\n",
       "      <td>1</td>\n",
       "      <td>1.896479</td>\n",
       "      <td>bgpn</td>\n",
       "    </tr>\n",
       "    <tr>\n",
       "      <th>46</th>\n",
       "      <td>1</td>\n",
       "      <td>1.898043</td>\n",
       "      <td>bgpn</td>\n",
       "    </tr>\n",
       "    <tr>\n",
       "      <th>47</th>\n",
       "      <td>1</td>\n",
       "      <td>1.906451</td>\n",
       "      <td>bgpn</td>\n",
       "    </tr>\n",
       "    <tr>\n",
       "      <th>48</th>\n",
       "      <td>1</td>\n",
       "      <td>1.908370</td>\n",
       "      <td>bgpn</td>\n",
       "    </tr>\n",
       "    <tr>\n",
       "      <th>49</th>\n",
       "      <td>1</td>\n",
       "      <td>1.921370</td>\n",
       "      <td>bgpn</td>\n",
       "    </tr>\n",
       "    <tr>\n",
       "      <th>50</th>\n",
       "      <td>1</td>\n",
       "      <td>1.930501</td>\n",
       "      <td>bgpn</td>\n",
       "    </tr>\n",
       "    <tr>\n",
       "      <th>51</th>\n",
       "      <td>1</td>\n",
       "      <td>1.999521</td>\n",
       "      <td>bgpn</td>\n",
       "    </tr>\n",
       "  </tbody>\n",
       "</table>\n",
       "</div>"
      ],
      "text/plain": [
       "    node_ids  timestamps population\n",
       "0          1    1.054939       bgpn\n",
       "1          1    1.063110       bgpn\n",
       "2          1    1.106914       bgpn\n",
       "3          1    1.144070       bgpn\n",
       "4          1    1.155733       bgpn\n",
       "5          1    1.193693       bgpn\n",
       "6          1    1.194066       bgpn\n",
       "7          1    1.198494       bgpn\n",
       "8          1    1.210716       bgpn\n",
       "9          1    1.216851       bgpn\n",
       "10         1    1.244928       bgpn\n",
       "11         1    1.284238       bgpn\n",
       "12         1    1.288486       bgpn\n",
       "13         1    1.315656       bgpn\n",
       "14         1    1.321589       bgpn\n",
       "15         1    1.350744       bgpn\n",
       "16         1    1.356710       bgpn\n",
       "17         1    1.394461       bgpn\n",
       "18         1    1.401901       bgpn\n",
       "19         1    1.412751       bgpn\n",
       "20         1    1.415266       bgpn\n",
       "21         1    1.425348       bgpn\n",
       "22         1    1.425564       bgpn\n",
       "23         1    1.431935       bgpn\n",
       "24         1    1.434909       bgpn\n",
       "25         1    1.438203       bgpn\n",
       "26         1    1.467052       bgpn\n",
       "27         1    1.508198       bgpn\n",
       "28         1    1.547608       bgpn\n",
       "29         1    1.593423       bgpn\n",
       "30         1    1.596664       bgpn\n",
       "31         1    1.602667       bgpn\n",
       "32         1    1.659989       bgpn\n",
       "33         1    1.662932       bgpn\n",
       "34         1    1.775436       bgpn\n",
       "35         1    1.782922       bgpn\n",
       "36         1    1.796122       bgpn\n",
       "37         1    1.808017       bgpn\n",
       "38         1    1.809684       bgpn\n",
       "39         1    1.822352       bgpn\n",
       "40         1    1.828384       bgpn\n",
       "41         1    1.854461       bgpn\n",
       "42         1    1.854949       bgpn\n",
       "43         1    1.867702       bgpn\n",
       "44         1    1.883061       bgpn\n",
       "45         1    1.896479       bgpn\n",
       "46         1    1.898043       bgpn\n",
       "47         1    1.906451       bgpn\n",
       "48         1    1.908370       bgpn\n",
       "49         1    1.921370       bgpn\n",
       "50         1    1.930501       bgpn\n",
       "51         1    1.999521       bgpn"
      ]
     },
     "execution_count": 31,
     "metadata": {},
     "output_type": "execute_result"
    }
   ],
   "source": [
    "print('Number of spikes: {}'.format(psg.n_spikes()))\n",
    "print('Units: {}'.format(psg.units()))\n",
    "\n",
    "psg.to_dataframe()"
   ]
  },
  {
   "cell_type": "code",
   "execution_count": 30,
   "id": "3caaa0d7-0769-49fd-bca8-2596f4ebb7f9",
   "metadata": {},
   "outputs": [
    {
     "data": {
      "text/plain": [
       "node_ids              1\n",
       "timestamps    19.309215\n",
       "population         bgpn\n",
       "Name: 10, dtype: object"
      ]
     },
     "execution_count": 30,
     "metadata": {},
     "output_type": "execute_result"
    }
   ],
   "source": [
    "tst = psg.to_dataframe()\n",
    "tst.iloc[10]"
   ]
  },
  {
   "cell_type": "code",
   "execution_count": 32,
   "id": "2c71c3a3-296f-4339-a7f0-5d07ca2d3d3e",
   "metadata": {},
   "outputs": [
    {
     "name": "stdout",
     "output_type": "stream",
     "text": [
      "spikes\n",
      "spikes/bgpn\n",
      "spikes/bgpn/node_ids\n",
      "spikes/bgpn/timestamps\n"
     ]
    }
   ],
   "source": [
    "pathname = 'CA1_inputs'\n",
    "f = h5py.File(os.path.join(pathname,'bg_pn_spikes.h5'), 'r')\n",
    "f.visit(print)"
   ]
  },
  {
   "cell_type": "code",
   "execution_count": 37,
   "id": "4dac44c4-c599-4871-839a-b5e3bd1aa8a1",
   "metadata": {},
   "outputs": [],
   "source": [
    "tst = SaveDataToDF(f)"
   ]
  },
  {
   "cell_type": "code",
   "execution_count": 44,
   "id": "f786d81c-4ec3-4efd-aef5-d1d29383be8a",
   "metadata": {},
   "outputs": [
    {
     "data": {
      "text/html": [
       "<div>\n",
       "<style scoped>\n",
       "    .dataframe tbody tr th:only-of-type {\n",
       "        vertical-align: middle;\n",
       "    }\n",
       "\n",
       "    .dataframe tbody tr th {\n",
       "        vertical-align: top;\n",
       "    }\n",
       "\n",
       "    .dataframe thead th {\n",
       "        text-align: right;\n",
       "    }\n",
       "</style>\n",
       "<table border=\"1\" class=\"dataframe\">\n",
       "  <thead>\n",
       "    <tr style=\"text-align: right;\">\n",
       "      <th></th>\n",
       "      <th>node_ids</th>\n",
       "      <th>timestamps</th>\n",
       "    </tr>\n",
       "  </thead>\n",
       "  <tbody>\n",
       "    <tr>\n",
       "      <th>0</th>\n",
       "      <td>0.0</td>\n",
       "      <td>81.784365</td>\n",
       "    </tr>\n",
       "    <tr>\n",
       "      <th>1</th>\n",
       "      <td>0.0</td>\n",
       "      <td>93.590084</td>\n",
       "    </tr>\n",
       "    <tr>\n",
       "      <th>2</th>\n",
       "      <td>0.0</td>\n",
       "      <td>139.894619</td>\n",
       "    </tr>\n",
       "    <tr>\n",
       "      <th>3</th>\n",
       "      <td>0.0</td>\n",
       "      <td>144.310465</td>\n",
       "    </tr>\n",
       "    <tr>\n",
       "      <th>4</th>\n",
       "      <td>0.0</td>\n",
       "      <td>147.109625</td>\n",
       "    </tr>\n",
       "    <tr>\n",
       "      <th>5</th>\n",
       "      <td>0.0</td>\n",
       "      <td>159.124039</td>\n",
       "    </tr>\n",
       "    <tr>\n",
       "      <th>6</th>\n",
       "      <td>0.0</td>\n",
       "      <td>159.366370</td>\n",
       "    </tr>\n",
       "    <tr>\n",
       "      <th>7</th>\n",
       "      <td>0.0</td>\n",
       "      <td>180.782293</td>\n",
       "    </tr>\n",
       "    <tr>\n",
       "      <th>8</th>\n",
       "      <td>0.0</td>\n",
       "      <td>186.320028</td>\n",
       "    </tr>\n",
       "    <tr>\n",
       "      <th>9</th>\n",
       "      <td>1.0</td>\n",
       "      <td>3.910261</td>\n",
       "    </tr>\n",
       "    <tr>\n",
       "      <th>10</th>\n",
       "      <td>1.0</td>\n",
       "      <td>19.309215</td>\n",
       "    </tr>\n",
       "    <tr>\n",
       "      <th>11</th>\n",
       "      <td>1.0</td>\n",
       "      <td>62.059356</td>\n",
       "    </tr>\n",
       "    <tr>\n",
       "      <th>12</th>\n",
       "      <td>1.0</td>\n",
       "      <td>63.721657</td>\n",
       "    </tr>\n",
       "    <tr>\n",
       "      <th>13</th>\n",
       "      <td>1.0</td>\n",
       "      <td>65.574703</td>\n",
       "    </tr>\n",
       "    <tr>\n",
       "      <th>14</th>\n",
       "      <td>1.0</td>\n",
       "      <td>73.324418</td>\n",
       "    </tr>\n",
       "    <tr>\n",
       "      <th>15</th>\n",
       "      <td>1.0</td>\n",
       "      <td>92.899901</td>\n",
       "    </tr>\n",
       "    <tr>\n",
       "      <th>16</th>\n",
       "      <td>1.0</td>\n",
       "      <td>130.637568</td>\n",
       "    </tr>\n",
       "    <tr>\n",
       "      <th>17</th>\n",
       "      <td>1.0</td>\n",
       "      <td>147.156126</td>\n",
       "    </tr>\n",
       "    <tr>\n",
       "      <th>18</th>\n",
       "      <td>1.0</td>\n",
       "      <td>155.528450</td>\n",
       "    </tr>\n",
       "    <tr>\n",
       "      <th>19</th>\n",
       "      <td>1.0</td>\n",
       "      <td>170.673776</td>\n",
       "    </tr>\n",
       "  </tbody>\n",
       "</table>\n",
       "</div>"
      ],
      "text/plain": [
       "    node_ids  timestamps\n",
       "0        0.0   81.784365\n",
       "1        0.0   93.590084\n",
       "2        0.0  139.894619\n",
       "3        0.0  144.310465\n",
       "4        0.0  147.109625\n",
       "5        0.0  159.124039\n",
       "6        0.0  159.366370\n",
       "7        0.0  180.782293\n",
       "8        0.0  186.320028\n",
       "9        1.0    3.910261\n",
       "10       1.0   19.309215\n",
       "11       1.0   62.059356\n",
       "12       1.0   63.721657\n",
       "13       1.0   65.574703\n",
       "14       1.0   73.324418\n",
       "15       1.0   92.899901\n",
       "16       1.0  130.637568\n",
       "17       1.0  147.156126\n",
       "18       1.0  155.528450\n",
       "19       1.0  170.673776"
      ]
     },
     "execution_count": 44,
     "metadata": {},
     "output_type": "execute_result"
    }
   ],
   "source": [
    "tst.head(20)"
   ]
  },
  {
   "cell_type": "code",
   "execution_count": 3,
   "id": "d2ead6c6-1fb8-4aa8-9abb-b01d60110b33",
   "metadata": {},
   "outputs": [
    {
     "data": {
      "text/plain": [
       "array([ 1,  7,  7,  7,  8,  9, 10, 12, 15, 15, 16, 18, 19, 23, 23, 29, 29,\n",
       "       29, 30, 30, 34, 38, 46, 52, 53, 54, 55, 57, 57, 60, 62, 62, 63],\n",
       "      dtype=int64)"
      ]
     },
     "execution_count": 3,
     "metadata": {},
     "output_type": "execute_result"
    }
   ],
   "source": [
    "f['spikes/bgpn//node_ids'][()]"
   ]
  },
  {
   "cell_type": "code",
   "execution_count": 40,
   "id": "499285cd-6584-47a4-99a4-fbe5da17c6fb",
   "metadata": {},
   "outputs": [
    {
     "data": {
      "text/plain": [
       "['__class__',\n",
       " '__delattr__',\n",
       " '__dict__',\n",
       " '__dir__',\n",
       " '__doc__',\n",
       " '__eq__',\n",
       " '__format__',\n",
       " '__ge__',\n",
       " '__getattr__',\n",
       " '__getattribute__',\n",
       " '__gt__',\n",
       " '__hash__',\n",
       " '__init__',\n",
       " '__init_subclass__',\n",
       " '__le__',\n",
       " '__len__',\n",
       " '__lt__',\n",
       " '__module__',\n",
       " '__ne__',\n",
       " '__new__',\n",
       " '__reduce__',\n",
       " '__reduce_ex__',\n",
       " '__repr__',\n",
       " '__setattr__',\n",
       " '__sizeof__',\n",
       " '__str__',\n",
       " '__subclasshook__',\n",
       " '__weakref__',\n",
       " '_build_fixed_fr',\n",
       " '_build_inhomegeous_fr',\n",
       " 'adaptor',\n",
       " 'add',\n",
       " 'from_csv',\n",
       " 'from_nwb',\n",
       " 'from_sonata',\n",
       " 'load',\n",
       " 'max_spikes_per_node',\n",
       " 'time_range']"
      ]
     },
     "execution_count": 40,
     "metadata": {},
     "output_type": "execute_result"
    }
   ],
   "source": [
    "dir(psg)"
   ]
  },
  {
   "cell_type": "code",
   "execution_count": 41,
   "id": "273359bd-0849-4167-bc72-1bbeb982e18a",
   "metadata": {},
   "outputs": [
    {
     "data": {
      "text/plain": [
       "(200.10935571208424, 295.10472372879343)"
      ]
     },
     "execution_count": 41,
     "metadata": {},
     "output_type": "execute_result"
    }
   ],
   "source": [
    "psg.time_range()"
   ]
  },
  {
   "cell_type": "code",
   "execution_count": 124,
   "id": "48a83def-1d6d-4c6e-874d-c4c4bc621817",
   "metadata": {},
   "outputs": [],
   "source": [
    "f.close()"
   ]
  },
  {
   "cell_type": "code",
   "execution_count": 20,
   "id": "0748f1b1-ea4b-491f-9d1e-d7a08606269e",
   "metadata": {},
   "outputs": [],
   "source": [
    "psg.to_csv('CA1_inputs/bg_pn_spikes.txt')"
   ]
  },
  {
   "cell_type": "code",
   "execution_count": 3,
   "id": "26c28374-f117-4754-997d-636423f911ed",
   "metadata": {},
   "outputs": [],
   "source": [
    "pathname = 'CA1_inputs'"
   ]
  },
  {
   "cell_type": "code",
   "execution_count": 24,
   "id": "b4bcb88c-2592-4c75-aef8-adfda9d03f4b",
   "metadata": {},
   "outputs": [
    {
     "ename": "ValueError",
     "evalue": "could not convert string to float: 'timestamps'",
     "output_type": "error",
     "traceback": [
      "\u001b[1;31m---------------------------------------------------------------------------\u001b[0m",
      "\u001b[1;31mValueError\u001b[0m                                Traceback (most recent call last)",
      "Input \u001b[1;32mIn [24]\u001b[0m, in \u001b[0;36m<cell line: 1>\u001b[1;34m()\u001b[0m\n\u001b[1;32m----> 1\u001b[0m tst \u001b[38;5;241m=\u001b[39m \u001b[43mnp\u001b[49m\u001b[38;5;241;43m.\u001b[39;49m\u001b[43mloadtxt\u001b[49m\u001b[43m(\u001b[49m\u001b[38;5;124;43m'\u001b[39;49m\u001b[38;5;124;43mCA1_inputs/bg_pn_spikes.txt\u001b[39;49m\u001b[38;5;124;43m'\u001b[39;49m\u001b[43m)\u001b[49m\n",
      "File \u001b[1;32m~\\source\\repos\\CA1_model\\CA1_model_env\\lib\\site-packages\\numpy\\lib\\npyio.py:1163\u001b[0m, in \u001b[0;36mloadtxt\u001b[1;34m(fname, dtype, comments, delimiter, converters, skiprows, usecols, unpack, ndmin, encoding, max_rows, like)\u001b[0m\n\u001b[0;32m   1159\u001b[0m         \u001b[38;5;28;01mraise\u001b[39;00m \u001b[38;5;167;01mValueError\u001b[39;00m(\n\u001b[0;32m   1160\u001b[0m             \u001b[38;5;124mf\u001b[39m\u001b[38;5;124m\"\u001b[39m\u001b[38;5;124mWrong number of columns at line \u001b[39m\u001b[38;5;132;01m{\u001b[39;00mlineno\u001b[38;5;132;01m}\u001b[39;00m\u001b[38;5;124m\"\u001b[39m)\n\u001b[0;32m   1161\u001b[0m     \u001b[38;5;66;03m# Convert each value according to its column, then pack it\u001b[39;00m\n\u001b[0;32m   1162\u001b[0m     \u001b[38;5;66;03m# according to the dtype's nesting, and store it.\u001b[39;00m\n\u001b[1;32m-> 1163\u001b[0m     chunk\u001b[38;5;241m.\u001b[39mappend(packer(\u001b[43mconvert_row\u001b[49m\u001b[43m(\u001b[49m\u001b[43mwords\u001b[49m\u001b[43m)\u001b[49m))\n\u001b[0;32m   1164\u001b[0m \u001b[38;5;28;01mif\u001b[39;00m \u001b[38;5;129;01mnot\u001b[39;00m chunk:  \u001b[38;5;66;03m# The islice is empty, i.e. we're done.\u001b[39;00m\n\u001b[0;32m   1165\u001b[0m     \u001b[38;5;28;01mbreak\u001b[39;00m\n",
      "File \u001b[1;32m~\\source\\repos\\CA1_model\\CA1_model_env\\lib\\site-packages\\numpy\\lib\\npyio.py:1142\u001b[0m, in \u001b[0;36mloadtxt.<locals>.convert_row\u001b[1;34m(vals, _conv)\u001b[0m\n\u001b[0;32m   1141\u001b[0m \u001b[38;5;28;01mdef\u001b[39;00m \u001b[38;5;21mconvert_row\u001b[39m(vals, _conv\u001b[38;5;241m=\u001b[39mconverters[\u001b[38;5;241m0\u001b[39m]):\n\u001b[1;32m-> 1142\u001b[0m     \u001b[38;5;28;01mreturn\u001b[39;00m [\u001b[38;5;241m*\u001b[39m\u001b[38;5;28mmap\u001b[39m(_conv, vals)]\n",
      "File \u001b[1;32m~\\source\\repos\\CA1_model\\CA1_model_env\\lib\\site-packages\\numpy\\lib\\npyio.py:725\u001b[0m, in \u001b[0;36m_floatconv\u001b[1;34m(x)\u001b[0m\n\u001b[0;32m    723\u001b[0m \u001b[38;5;28;01mdef\u001b[39;00m \u001b[38;5;21m_floatconv\u001b[39m(x):\n\u001b[0;32m    724\u001b[0m     \u001b[38;5;28;01mtry\u001b[39;00m:\n\u001b[1;32m--> 725\u001b[0m         \u001b[38;5;28;01mreturn\u001b[39;00m \u001b[38;5;28;43mfloat\u001b[39;49m\u001b[43m(\u001b[49m\u001b[43mx\u001b[49m\u001b[43m)\u001b[49m  \u001b[38;5;66;03m# The fastest path.\u001b[39;00m\n\u001b[0;32m    726\u001b[0m     \u001b[38;5;28;01mexcept\u001b[39;00m \u001b[38;5;167;01mValueError\u001b[39;00m:\n\u001b[0;32m    727\u001b[0m         \u001b[38;5;28;01mif\u001b[39;00m \u001b[38;5;124m'\u001b[39m\u001b[38;5;124m0x\u001b[39m\u001b[38;5;124m'\u001b[39m \u001b[38;5;129;01min\u001b[39;00m x:  \u001b[38;5;66;03m# Don't accidentally convert \"a\" (\"0xa\") to 10.\u001b[39;00m\n",
      "\u001b[1;31mValueError\u001b[0m: could not convert string to float: 'timestamps'"
     ]
    }
   ],
   "source": [
    "tst = np.loadtxt('CA1_inputs/bg_pn_spikes.txt')"
   ]
  },
  {
   "cell_type": "code",
   "execution_count": 6,
   "id": "b1dfe70a-4e18-4e2c-ba2e-f770ebb003d2",
   "metadata": {},
   "outputs": [],
   "source": [
    "tst = pd.read_csv('CA1_inputs/bg_pn_spikes.txt')\n",
    "test = np.array(tst)"
   ]
  },
  {
   "cell_type": "code",
   "execution_count": 7,
   "id": "26fd64de-0d4e-4ab3-bfe8-dacd3de89a13",
   "metadata": {},
   "outputs": [],
   "source": [
    "with h5py.File('bg_pn_spikes.hdf5','w') as f:\n",
    "    f['bg_pn'] = test\n"
   ]
  },
  {
   "cell_type": "code",
   "execution_count": 5,
   "id": "153d3bed-e33e-499f-9dc1-0b46f594e9e9",
   "metadata": {},
   "outputs": [
    {
     "name": "stdout",
     "output_type": "stream",
     "text": [
      "dataset\n"
     ]
    }
   ],
   "source": [
    "f = h5py.File(os.path.join(pathname,'bg_pn_spikes.hdf5'), 'r')\n",
    "f.visit(print)"
   ]
  },
  {
   "cell_type": "markdown",
   "id": "7045171a-d759-4861-8427-4dca01b57b71",
   "metadata": {},
   "source": [
    "# run testing"
   ]
  },
  {
   "cell_type": "code",
   "execution_count": 8,
   "id": "036a781e-86d5-4f4a-8604-817c50d87800",
   "metadata": {},
   "outputs": [],
   "source": [
    "import h5py\n",
    "import os\n",
    "import matplotlib.pyplot as plt\n",
    "import numpy as np\n",
    "import pandas as pd\n"
   ]
  },
  {
   "cell_type": "code",
   "execution_count": 9,
   "id": "531bd35a-c31e-455b-9197-1a737b4e4b70",
   "metadata": {},
   "outputs": [],
   "source": [
    "import os, sys\n",
    "from bmtk.simulator import bionet\n",
    "import numpy as np\n",
    "import synapses\n",
    "import warnings\n",
    "from bmtk.simulator.core import simulation_config\n",
    "from bmtk.simulator.bionet.pyfunction_cache import add_weight_function"
   ]
  },
  {
   "cell_type": "code",
   "execution_count": 10,
   "id": "6e62d2cb-567c-434e-a0d3-ba1f022b7a18",
   "metadata": {},
   "outputs": [],
   "source": [
    "def gaussianBL(edge_props, source, target):\n",
    "    w0 = edge_props[\"syn_weight\"]\n",
    "    sigma = edge_props[\"weight_sigma\"]\n",
    "    return np.random.normal(w0, sigma, 1)\n",
    "\n",
    "def lognormal(edge_props, source, target):\n",
    "    m = edge_props[\"syn_weight\"]\n",
    "    s = edge_props[\"weight_sigma\"]\n",
    "    mean = np.log(m) - 0.5 * np.log((s / m) ** 2 + 1)\n",
    "    std = np.sqrt(np.log((s / m) ** 2 + 1))\n",
    "    return np.random.lognormal(mean, std, 1)"
   ]
  },
  {
   "cell_type": "code",
   "execution_count": 11,
   "id": "39d950de-a927-4db6-88b8-eb21ad388b44",
   "metadata": {},
   "outputs": [],
   "source": [
    "synapses.load()"
   ]
  },
  {
   "cell_type": "code",
   "execution_count": 12,
   "id": "6654254b-7345-4438-902c-65bea507fc87",
   "metadata": {},
   "outputs": [],
   "source": [
    "add_weight_function(lognormal)\n",
    "add_weight_function(gaussianBL)"
   ]
  },
  {
   "cell_type": "code",
   "execution_count": 13,
   "id": "5d1fb811-9cef-4c24-bf2c-714537eb200b",
   "metadata": {},
   "outputs": [],
   "source": [
    "conf = bionet.Config.from_json('simulation_configLFP.json')"
   ]
  },
  {
   "cell_type": "code",
   "execution_count": 14,
   "id": "d835c800-51a3-4529-9e12-98d769bdf97e",
   "metadata": {},
   "outputs": [
    {
     "name": "stdout",
     "output_type": "stream",
     "text": [
      "2022-06-09 14:34:28,707 [INFO] Created log file\n"
     ]
    }
   ],
   "source": [
    "conf.build_env()"
   ]
  },
  {
   "cell_type": "code",
   "execution_count": 19,
   "id": "5713e114-0f64-4b1b-a33d-ce34355720bb",
   "metadata": {},
   "outputs": [],
   "source": [
    "graph = bionet.BioNetwork.from_config(conf)"
   ]
  },
  {
   "cell_type": "code",
   "execution_count": 22,
   "id": "266cc40e-3a95-47d9-86b6-beaf2667b7f9",
   "metadata": {},
   "outputs": [],
   "source": [
    "from bmtk.builder.networks import NetworkBuilder"
   ]
  },
  {
   "cell_type": "code",
   "execution_count": 23,
   "id": "2250761e-2cbe-4f74-8113-7025598175ab",
   "metadata": {},
   "outputs": [],
   "source": [
    "bgpn = NetworkBuilder('bgpn')\n",
    "bgpn.add_nodes(\n",
    "    N=10,\n",
    "    pop_name='bgpn',\n",
    "    potential='exc',\n",
    "    model_type='virtual'\n",
    ")"
   ]
  },
  {
   "cell_type": "code",
   "execution_count": 27,
   "id": "267c640c-96a7-41be-a707-24ea4753aca9",
   "metadata": {},
   "outputs": [
    {
     "name": "stdout",
     "output_type": "stream",
     "text": [
      "['biophysical']\n"
     ]
    }
   ],
   "source": [
    "print(graph.get_node_set('all').population_names())"
   ]
  },
  {
   "cell_type": "code",
   "execution_count": 9,
   "id": "b7a40cfe-9e59-4efb-95eb-1cb4e1d1b317",
   "metadata": {},
   "outputs": [],
   "source": [
    "pop = graph._node_populations['biophysical']\n",
    "for node in pop.get_nodes():\n",
    "    node._node._node_type_props['morphology'] = node.model_template[1]\n"
   ]
  },
  {
   "cell_type": "code",
   "execution_count": 10,
   "id": "f1b28955-e855-4dbb-8139-b07889367b68",
   "metadata": {},
   "outputs": [],
   "source": [
    "cells = graph.get_local_cells()\n",
    "for cell in cells:\n",
    "    cells[cell].hobj.insert_mechs(cells[cell].gid)\n",
    "    pass"
   ]
  },
  {
   "cell_type": "code",
   "execution_count": 11,
   "id": "b6cd4614-848f-47cf-8325-02069f6feb7c",
   "metadata": {},
   "outputs": [
    {
     "name": "stdout",
     "output_type": "stream",
     "text": [
      "2022-06-09 14:23:15,434 [INFO] Building cells.\n",
      "2022-06-09 14:23:15,722 [INFO] Building recurrent connections\n",
      "2022-06-09 14:23:15,801 [INFO] Building virtual cell stimulations for bgpn\n"
     ]
    }
   ],
   "source": [
    "sim = bionet.BioSimulator.from_config(conf, network=graph)"
   ]
  },
  {
   "cell_type": "code",
   "execution_count": null,
   "id": "cbd59aba-0d96-4e90-bf4c-db1ad250696d",
   "metadata": {},
   "outputs": [],
   "source": [
    "cortex.add_nodes(\n",
    "    cell_name='Scnn1a_473845048',\n",
    "    potental='exc',\n",
    "    model_type='biophysical',\n",
    "    model_template='ctdb:Biophys1.hoc',\n",
    "    model_processing='aibs_perisomatic',\n",
    "    dynamics_params='472363762_fit.json',\n",
    "    morphology='Scnn1a_473845048_m.swc'\n",
    ")"
   ]
  },
  {
   "cell_type": "code",
   "execution_count": null,
   "id": "75d8ce13-1958-4877-a432-7b1b94cb6ef4",
   "metadata": {},
   "outputs": [],
   "source": [
    "thalamus.add_nodes(\n",
    "    N=100,\n",
    "    pop_name='tON',\n",
    "    potential='exc',\n",
    "    model_type='virtual'\n",
    ")"
   ]
  },
  {
   "cell_type": "code",
   "execution_count": 31,
   "id": "3bfd8142-73d4-47a4-806a-855dab402773",
   "metadata": {},
   "outputs": [
    {
     "ename": "AttributeError",
     "evalue": "'DataFrame' object has no attribute 'name'",
     "output_type": "error",
     "traceback": [
      "\u001b[1;31m---------------------------------------------------------------------------\u001b[0m",
      "\u001b[1;31mAttributeError\u001b[0m                            Traceback (most recent call last)",
      "Input \u001b[1;32mIn [31]\u001b[0m, in \u001b[0;36m<cell line: 1>\u001b[1;34m()\u001b[0m\n\u001b[1;32m----> 1\u001b[0m \u001b[43mgraph\u001b[49m\u001b[38;5;241;43m.\u001b[39;49m\u001b[43madd_nodes\u001b[49m\u001b[43m(\u001b[49m\u001b[43mtst\u001b[49m\u001b[43m)\u001b[49m\n",
      "File \u001b[1;32m~\\source\\repos\\CA1_model\\CA1_model_env\\lib\\site-packages\\bmtk\\simulator\\bionet\\bionetwork.py:132\u001b[0m, in \u001b[0;36mBioNetwork.add_nodes\u001b[1;34m(self, node_population)\u001b[0m\n\u001b[0;32m    131\u001b[0m \u001b[38;5;28;01mdef\u001b[39;00m \u001b[38;5;21madd_nodes\u001b[39m(\u001b[38;5;28mself\u001b[39m, node_population):\n\u001b[1;32m--> 132\u001b[0m     \u001b[38;5;28mself\u001b[39m\u001b[38;5;241m.\u001b[39m_gid_pool\u001b[38;5;241m.\u001b[39madd_pool(\u001b[43mnode_population\u001b[49m\u001b[38;5;241;43m.\u001b[39;49m\u001b[43mname\u001b[49m, node_population\u001b[38;5;241m.\u001b[39mn_nodes())\n\u001b[0;32m    133\u001b[0m     \u001b[38;5;28msuper\u001b[39m(BioNetwork, \u001b[38;5;28mself\u001b[39m)\u001b[38;5;241m.\u001b[39madd_nodes(node_population)\n",
      "File \u001b[1;32m~\\source\\repos\\CA1_model\\CA1_model_env\\lib\\site-packages\\pandas\\core\\generic.py:5575\u001b[0m, in \u001b[0;36mNDFrame.__getattr__\u001b[1;34m(self, name)\u001b[0m\n\u001b[0;32m   5568\u001b[0m \u001b[38;5;28;01mif\u001b[39;00m (\n\u001b[0;32m   5569\u001b[0m     name \u001b[38;5;129;01mnot\u001b[39;00m \u001b[38;5;129;01min\u001b[39;00m \u001b[38;5;28mself\u001b[39m\u001b[38;5;241m.\u001b[39m_internal_names_set\n\u001b[0;32m   5570\u001b[0m     \u001b[38;5;129;01mand\u001b[39;00m name \u001b[38;5;129;01mnot\u001b[39;00m \u001b[38;5;129;01min\u001b[39;00m \u001b[38;5;28mself\u001b[39m\u001b[38;5;241m.\u001b[39m_metadata\n\u001b[0;32m   5571\u001b[0m     \u001b[38;5;129;01mand\u001b[39;00m name \u001b[38;5;129;01mnot\u001b[39;00m \u001b[38;5;129;01min\u001b[39;00m \u001b[38;5;28mself\u001b[39m\u001b[38;5;241m.\u001b[39m_accessors\n\u001b[0;32m   5572\u001b[0m     \u001b[38;5;129;01mand\u001b[39;00m \u001b[38;5;28mself\u001b[39m\u001b[38;5;241m.\u001b[39m_info_axis\u001b[38;5;241m.\u001b[39m_can_hold_identifiers_and_holds_name(name)\n\u001b[0;32m   5573\u001b[0m ):\n\u001b[0;32m   5574\u001b[0m     \u001b[38;5;28;01mreturn\u001b[39;00m \u001b[38;5;28mself\u001b[39m[name]\n\u001b[1;32m-> 5575\u001b[0m \u001b[38;5;28;01mreturn\u001b[39;00m \u001b[38;5;28;43mobject\u001b[39;49m\u001b[38;5;241;43m.\u001b[39;49m\u001b[38;5;21;43m__getattribute__\u001b[39;49m\u001b[43m(\u001b[49m\u001b[38;5;28;43mself\u001b[39;49m\u001b[43m,\u001b[49m\u001b[43m \u001b[49m\u001b[43mname\u001b[49m\u001b[43m)\u001b[49m\n",
      "\u001b[1;31mAttributeError\u001b[0m: 'DataFrame' object has no attribute 'name'"
     ]
    }
   ],
   "source": [
    "graph.add_nodes(tst)"
   ]
  },
  {
   "cell_type": "code",
   "execution_count": 20,
   "id": "2d66b838-5bc6-4361-a511-61a9083f3559",
   "metadata": {},
   "outputs": [
    {
     "data": {
      "text/plain": [
       "['__class__',\n",
       " '__delattr__',\n",
       " '__dict__',\n",
       " '__dir__',\n",
       " '__doc__',\n",
       " '__eq__',\n",
       " '__format__',\n",
       " '__ge__',\n",
       " '__getattribute__',\n",
       " '__gt__',\n",
       " '__hash__',\n",
       " '__init__',\n",
       " '__init_subclass__',\n",
       " '__le__',\n",
       " '__lt__',\n",
       " '__module__',\n",
       " '__ne__',\n",
       " '__new__',\n",
       " '__reduce__',\n",
       " '__reduce_ex__',\n",
       " '__repr__',\n",
       " '__setattr__',\n",
       " '__sizeof__',\n",
       " '__str__',\n",
       " '__subclasshook__',\n",
       " '__weakref__',\n",
       " '_build_cell',\n",
       " '_cells_built',\n",
       " '_components',\n",
       " '_connections_initialized',\n",
       " '_edge_adaptors',\n",
       " '_edge_populations',\n",
       " '_gap_juncs',\n",
       " '_gid_pool',\n",
       " '_init_connections',\n",
       " '_io',\n",
       " '_model_type_map',\n",
       " '_morphologies_cache',\n",
       " '_morphology_lookup',\n",
       " '_node_adaptors',\n",
       " '_node_populations',\n",
       " '_node_sets',\n",
       " '_rank_node_gids',\n",
       " '_rank_node_ids',\n",
       " '_rank_nodes_by_model',\n",
       " '_register_adaptors',\n",
       " '_remote_node_cache',\n",
       " '_virtual_nodes',\n",
       " 'add_component',\n",
       " 'add_edges',\n",
       " 'add_node_set',\n",
       " 'add_nodes',\n",
       " 'add_spike_trains',\n",
       " 'build',\n",
       " 'build_nodes',\n",
       " 'build_recurrent_edges',\n",
       " 'build_virtual_connections',\n",
       " 'calc_seg_coords',\n",
       " 'cell_type_maps',\n",
       " 'dL',\n",
       " 'find_edges',\n",
       " 'from_builder',\n",
       " 'from_config',\n",
       " 'from_manifest',\n",
       " 'get_cell_gid',\n",
       " 'get_cell_node_id',\n",
       " 'get_component',\n",
       " 'get_edge_adaptor',\n",
       " 'get_gj_id',\n",
       " 'get_local_cells',\n",
       " 'get_node_adaptor',\n",
       " 'get_node_groups',\n",
       " 'get_node_id',\n",
       " 'get_node_population',\n",
       " 'get_node_populations',\n",
       " 'get_node_set',\n",
       " 'get_node_sets',\n",
       " 'get_virtual_cells',\n",
       " 'gid_pool',\n",
       " 'has_component',\n",
       " 'has_spont_syns',\n",
       " 'io',\n",
       " 'load_gap_junc_files',\n",
       " 'local_gids',\n",
       " 'make_morphologies',\n",
       " 'model_type_col',\n",
       " 'node_populations',\n",
       " 'node_properties',\n",
       " 'py_function_caches',\n",
       " 'recurrent_edges',\n",
       " 'set_seg_props',\n",
       " 'set_spont_syn_activity',\n",
       " 'spike_threshold',\n",
       " 'spont_syns_filter',\n",
       " 'spont_syns_times']"
      ]
     },
     "execution_count": 20,
     "metadata": {},
     "output_type": "execute_result"
    }
   ],
   "source": [
    "dir(graph)"
   ]
  },
  {
   "cell_type": "code",
   "execution_count": 20,
   "id": "f7cd3a4d-aec2-4d30-be18-eb0040cc9366",
   "metadata": {},
   "outputs": [
    {
     "data": {
      "text/plain": [
       "{}"
      ]
     },
     "execution_count": 20,
     "metadata": {},
     "output_type": "execute_result"
    }
   ],
   "source": [
    "graph._virtual_nodes"
   ]
  },
  {
   "cell_type": "code",
   "execution_count": 19,
   "id": "86903b58-bc85-4c45-b58f-686f80b47e7e",
   "metadata": {},
   "outputs": [
    {
     "data": {
      "text/plain": [
       "['__class__',\n",
       " '__delattr__',\n",
       " '__dict__',\n",
       " '__dir__',\n",
       " '__doc__',\n",
       " '__eq__',\n",
       " '__format__',\n",
       " '__ge__',\n",
       " '__getattribute__',\n",
       " '__gt__',\n",
       " '__hash__',\n",
       " '__init__',\n",
       " '__init_subclass__',\n",
       " '__le__',\n",
       " '__lt__',\n",
       " '__module__',\n",
       " '__ne__',\n",
       " '__new__',\n",
       " '__reduce__',\n",
       " '__reduce_ex__',\n",
       " '__repr__',\n",
       " '__setattr__',\n",
       " '__sizeof__',\n",
       " '__str__',\n",
       " '__subclasshook__',\n",
       " '__weakref__',\n",
       " '_build_cell',\n",
       " '_cells_built',\n",
       " '_components',\n",
       " '_connections_initialized',\n",
       " '_edge_adaptors',\n",
       " '_edge_populations',\n",
       " '_gap_juncs',\n",
       " '_gid_pool',\n",
       " '_init_connections',\n",
       " '_io',\n",
       " '_model_type_map',\n",
       " '_morphologies_cache',\n",
       " '_morphology_lookup',\n",
       " '_node_adaptors',\n",
       " '_node_populations',\n",
       " '_node_sets',\n",
       " '_rank_node_gids',\n",
       " '_rank_node_ids',\n",
       " '_rank_nodes_by_model',\n",
       " '_register_adaptors',\n",
       " '_remote_node_cache',\n",
       " '_virtual_nodes',\n",
       " 'add_component',\n",
       " 'add_edges',\n",
       " 'add_node_set',\n",
       " 'add_nodes',\n",
       " 'add_spike_trains',\n",
       " 'build',\n",
       " 'build_nodes',\n",
       " 'build_recurrent_edges',\n",
       " 'build_virtual_connections',\n",
       " 'calc_seg_coords',\n",
       " 'cell_type_maps',\n",
       " 'dL',\n",
       " 'find_edges',\n",
       " 'from_builder',\n",
       " 'from_config',\n",
       " 'from_manifest',\n",
       " 'get_cell_gid',\n",
       " 'get_cell_node_id',\n",
       " 'get_component',\n",
       " 'get_edge_adaptor',\n",
       " 'get_gj_id',\n",
       " 'get_local_cells',\n",
       " 'get_node_adaptor',\n",
       " 'get_node_groups',\n",
       " 'get_node_id',\n",
       " 'get_node_population',\n",
       " 'get_node_populations',\n",
       " 'get_node_set',\n",
       " 'get_node_sets',\n",
       " 'get_virtual_cells',\n",
       " 'gid_pool',\n",
       " 'has_component',\n",
       " 'has_spont_syns',\n",
       " 'io',\n",
       " 'load_gap_junc_files',\n",
       " 'local_gids',\n",
       " 'make_morphologies',\n",
       " 'model_type_col',\n",
       " 'node_populations',\n",
       " 'node_properties',\n",
       " 'py_function_caches',\n",
       " 'recurrent_edges',\n",
       " 'set_seg_props',\n",
       " 'set_spont_syn_activity',\n",
       " 'spike_threshold',\n",
       " 'spont_syns_filter',\n",
       " 'spont_syns_times']"
      ]
     },
     "execution_count": 19,
     "metadata": {},
     "output_type": "execute_result"
    }
   ],
   "source": [
    "dir(graph)"
   ]
  },
  {
   "cell_type": "code",
   "execution_count": 12,
   "id": "f4627b31-9af0-4045-a930-f2273b2d916b",
   "metadata": {},
   "outputs": [
    {
     "data": {
      "text/plain": [
       "['_BioSimulator__elapsed_time',\n",
       " '_BioSimulator__tstep_end_block',\n",
       " '_BioSimulator__tstep_start_block',\n",
       " '__class__',\n",
       " '__delattr__',\n",
       " '__dict__',\n",
       " '__dir__',\n",
       " '__doc__',\n",
       " '__eq__',\n",
       " '__format__',\n",
       " '__ge__',\n",
       " '__getattribute__',\n",
       " '__gt__',\n",
       " '__hash__',\n",
       " '__init__',\n",
       " '__init_subclass__',\n",
       " '__le__',\n",
       " '__lt__',\n",
       " '__module__',\n",
       " '__ne__',\n",
       " '__new__',\n",
       " '__reduce__',\n",
       " '__reduce_ex__',\n",
       " '__repr__',\n",
       " '__setattr__',\n",
       " '__sizeof__',\n",
       " '__str__',\n",
       " '__subclasshook__',\n",
       " '__weakref__',\n",
       " '_cell_variables',\n",
       " '_cell_vars_dir',\n",
       " '_celsius',\n",
       " '_f_iclamps',\n",
       " '_h',\n",
       " '_iclamps',\n",
       " '_log_file',\n",
       " '_nsteps_block',\n",
       " '_output_dir',\n",
       " '_seclamps',\n",
       " '_set_init_conditions',\n",
       " '_sim_mods',\n",
       " '_spikes',\n",
       " '_start_from_state',\n",
       " '_v_init',\n",
       " 'add_mod',\n",
       " 'attach_current_clamp',\n",
       " 'attach_file_current_clamp',\n",
       " 'attach_se_voltage_clamp',\n",
       " 'biophysical_gids',\n",
       " 'cell_var_output',\n",
       " 'cell_variables',\n",
       " 'celsius',\n",
       " 'dt',\n",
       " 'from_config',\n",
       " 'h',\n",
       " 'local_gids',\n",
       " 'n_steps',\n",
       " 'net',\n",
       " 'nsteps',\n",
       " 'nsteps_block',\n",
       " 'post_fadvance',\n",
       " 'report_load_balance',\n",
       " 'run',\n",
       " 'set_spikes_recording',\n",
       " 'simulation_time',\n",
       " 'spikes_table',\n",
       " 'tstart',\n",
       " 'tstep',\n",
       " 'tstep_start_block',\n",
       " 'tstop',\n",
       " 'v_init']"
      ]
     },
     "execution_count": 12,
     "metadata": {},
     "output_type": "execute_result"
    }
   ],
   "source": [
    "dir(sim)"
   ]
  },
  {
   "cell_type": "code",
   "execution_count": 122,
   "id": "682c8140-7d64-403d-8d8d-9eeb36b81030",
   "metadata": {},
   "outputs": [
    {
     "name": "stdout",
     "output_type": "stream",
     "text": [
      "2022-06-09 13:34:27,797 [INFO] Running simulation for 300.000 ms with the time step 0.100 ms\n",
      "2022-06-09 13:34:27,798 [INFO] Starting timestep: 0 at t_sim: 0.000 ms\n",
      "2022-06-09 13:34:27,799 [INFO] Block save every 3000 steps\n"
     ]
    },
    {
     "ename": "ValueError",
     "evalue": "shapes (13,89) and (34,) not aligned: 89 (dim 1) != 34 (dim 0)",
     "output_type": "error",
     "traceback": [
      "\u001b[1;31m---------------------------------------------------------------------------\u001b[0m",
      "\u001b[1;31mValueError\u001b[0m                                Traceback (most recent call last)",
      "File \u001b[1;32m~\\source\\repos\\CA1_model\\CA1_model_env\\lib\\site-packages\\bmtk\\simulator\\bionet\\biosimulator.py:372\u001b[0m, in \u001b[0;36mBioSimulator.post_fadvance\u001b[1;34m(self)\u001b[0m\n\u001b[0;32m    366\u001b[0m \u001b[38;5;124;03m\"\"\"\u001b[39;00m\n\u001b[0;32m    367\u001b[0m \u001b[38;5;124;03mRuns after every execution of fadvance (see advance.hoc)\u001b[39;00m\n\u001b[0;32m    368\u001b[0m \u001b[38;5;124;03mCalled after every time step to perform computation and save data to memory block or to disk.\u001b[39;00m\n\u001b[0;32m    369\u001b[0m \u001b[38;5;124;03mThe initial condition tstep=0 is not being saved \u001b[39;00m\n\u001b[0;32m    370\u001b[0m \u001b[38;5;124;03m\"\"\"\u001b[39;00m\n\u001b[0;32m    371\u001b[0m \u001b[38;5;28;01mfor\u001b[39;00m mod \u001b[38;5;129;01min\u001b[39;00m \u001b[38;5;28mself\u001b[39m\u001b[38;5;241m.\u001b[39m_sim_mods:\n\u001b[1;32m--> 372\u001b[0m     \u001b[43mmod\u001b[49m\u001b[38;5;241;43m.\u001b[39;49m\u001b[43mstep\u001b[49m\u001b[43m(\u001b[49m\u001b[38;5;28;43mself\u001b[39;49m\u001b[43m,\u001b[49m\u001b[43m \u001b[49m\u001b[38;5;28;43mself\u001b[39;49m\u001b[38;5;241;43m.\u001b[39;49m\u001b[43mtstep\u001b[49m\u001b[43m)\u001b[49m\n\u001b[0;32m    374\u001b[0m \u001b[38;5;28mself\u001b[39m\u001b[38;5;241m.\u001b[39mtstep \u001b[38;5;241m+\u001b[39m\u001b[38;5;241m=\u001b[39m \u001b[38;5;241m1\u001b[39m\n\u001b[0;32m    376\u001b[0m \u001b[38;5;28;01mif\u001b[39;00m (\u001b[38;5;28mself\u001b[39m\u001b[38;5;241m.\u001b[39mtstep \u001b[38;5;241m%\u001b[39m \u001b[38;5;28mself\u001b[39m\u001b[38;5;241m.\u001b[39mnsteps_block \u001b[38;5;241m==\u001b[39m \u001b[38;5;241m0\u001b[39m) \u001b[38;5;129;01mor\u001b[39;00m \u001b[38;5;28mself\u001b[39m\u001b[38;5;241m.\u001b[39mtstep \u001b[38;5;241m==\u001b[39m \u001b[38;5;28mself\u001b[39m\u001b[38;5;241m.\u001b[39mnsteps:\n",
      "File \u001b[1;32m~\\source\\repos\\CA1_model\\CA1_model_env\\lib\\site-packages\\bmtk\\simulator\\bionet\\modules\\ecp.py:208\u001b[0m, in \u001b[0;36mEcpMod.step\u001b[1;34m(self, sim, tstep)\u001b[0m\n\u001b[0;32m    206\u001b[0m im \u001b[38;5;241m=\u001b[39m cell\u001b[38;5;241m.\u001b[39mget_im()\n\u001b[0;32m    207\u001b[0m tr \u001b[38;5;241m=\u001b[39m \u001b[38;5;28mself\u001b[39m\u001b[38;5;241m.\u001b[39m_rel\u001b[38;5;241m.\u001b[39mget_transfer_resistance(gid)\n\u001b[1;32m--> 208\u001b[0m ecp \u001b[38;5;241m=\u001b[39m \u001b[43mnp\u001b[49m\u001b[38;5;241;43m.\u001b[39;49m\u001b[43mdot\u001b[49m\u001b[43m(\u001b[49m\u001b[43mtr\u001b[49m\u001b[43m,\u001b[49m\u001b[43m \u001b[49m\u001b[43mim\u001b[49m\u001b[43m)\u001b[49m\n\u001b[0;32m    210\u001b[0m \u001b[38;5;28;01mif\u001b[39;00m gid \u001b[38;5;129;01min\u001b[39;00m \u001b[38;5;28mself\u001b[39m\u001b[38;5;241m.\u001b[39m_saved_gids\u001b[38;5;241m.\u001b[39mkeys():\n\u001b[0;32m    211\u001b[0m     \u001b[38;5;66;03m# save individual contribution\u001b[39;00m\n\u001b[0;32m    212\u001b[0m     \u001b[38;5;28mself\u001b[39m\u001b[38;5;241m.\u001b[39m_saved_gids[gid][\u001b[38;5;28mself\u001b[39m\u001b[38;5;241m.\u001b[39m_block_step, :] \u001b[38;5;241m=\u001b[39m ecp\n",
      "File \u001b[1;32m<__array_function__ internals>:180\u001b[0m, in \u001b[0;36mdot\u001b[1;34m(*args, **kwargs)\u001b[0m\n",
      "\u001b[1;31mValueError\u001b[0m: shapes (13,89) and (34,) not aligned: 89 (dim 1) != 34 (dim 0)"
     ]
    },
    {
     "name": "stderr",
     "output_type": "stream",
     "text": [
      "NEURON: PyObject method call failed: post_fadvance\n",
      " near line 0\n",
      " ^\n",
      "        advance()\n",
      "      step()\n",
      "    continuerun(300)\n",
      "  run(300)\n"
     ]
    },
    {
     "ename": "RuntimeError",
     "evalue": "hoc error",
     "output_type": "error",
     "traceback": [
      "\u001b[1;31m---------------------------------------------------------------------------\u001b[0m",
      "\u001b[1;31mRuntimeError\u001b[0m                              Traceback (most recent call last)",
      "Input \u001b[1;32mIn [122]\u001b[0m, in \u001b[0;36m<cell line: 1>\u001b[1;34m()\u001b[0m\n\u001b[1;32m----> 1\u001b[0m \u001b[43msim\u001b[49m\u001b[38;5;241;43m.\u001b[39;49m\u001b[43mrun\u001b[49m\u001b[43m(\u001b[49m\u001b[43m)\u001b[49m\n",
      "File \u001b[1;32m~\\source\\repos\\CA1_model\\CA1_model_env\\lib\\site-packages\\bmtk\\simulator\\bionet\\biosimulator.py:343\u001b[0m, in \u001b[0;36mBioSimulator.run\u001b[1;34m(self)\u001b[0m\n\u001b[0;32m    341\u001b[0m     h\u001b[38;5;241m.\u001b[39mcontinuerun(h\u001b[38;5;241m.\u001b[39mtstop)\n\u001b[0;32m    342\u001b[0m \u001b[38;5;28;01melse\u001b[39;00m:\n\u001b[1;32m--> 343\u001b[0m     \u001b[43mh\u001b[49m\u001b[38;5;241;43m.\u001b[39;49m\u001b[43mrun\u001b[49m\u001b[43m(\u001b[49m\u001b[43mh\u001b[49m\u001b[38;5;241;43m.\u001b[39;49m\u001b[43mtstop\u001b[49m\u001b[43m)\u001b[49m        \u001b[38;5;66;03m# <- runs simuation: works in parallel\u001b[39;00m\n\u001b[0;32m    345\u001b[0m pc\u001b[38;5;241m.\u001b[39mbarrier()\n\u001b[0;32m    347\u001b[0m \u001b[38;5;28;01mfor\u001b[39;00m mod \u001b[38;5;129;01min\u001b[39;00m \u001b[38;5;28mself\u001b[39m\u001b[38;5;241m.\u001b[39m_sim_mods:\n",
      "\u001b[1;31mRuntimeError\u001b[0m: hoc error"
     ]
    }
   ],
   "source": [
    "sim.run()"
   ]
  },
  {
   "cell_type": "code",
   "execution_count": 14,
   "id": "00800cd8-3512-43fd-9ff9-c2fa1fd8461f",
   "metadata": {},
   "outputs": [
    {
     "data": {
      "text/plain": [
       "['_BioSimulator__elapsed_time',\n",
       " '_BioSimulator__tstep_end_block',\n",
       " '_BioSimulator__tstep_start_block',\n",
       " '__class__',\n",
       " '__delattr__',\n",
       " '__dict__',\n",
       " '__dir__',\n",
       " '__doc__',\n",
       " '__eq__',\n",
       " '__format__',\n",
       " '__ge__',\n",
       " '__getattribute__',\n",
       " '__gt__',\n",
       " '__hash__',\n",
       " '__init__',\n",
       " '__init_subclass__',\n",
       " '__le__',\n",
       " '__lt__',\n",
       " '__module__',\n",
       " '__ne__',\n",
       " '__new__',\n",
       " '__reduce__',\n",
       " '__reduce_ex__',\n",
       " '__repr__',\n",
       " '__setattr__',\n",
       " '__sizeof__',\n",
       " '__str__',\n",
       " '__subclasshook__',\n",
       " '__weakref__',\n",
       " '_cell_variables',\n",
       " '_cell_vars_dir',\n",
       " '_celsius',\n",
       " '_f_iclamps',\n",
       " '_h',\n",
       " '_iclamps',\n",
       " '_log_file',\n",
       " '_nsteps_block',\n",
       " '_output_dir',\n",
       " '_seclamps',\n",
       " '_set_init_conditions',\n",
       " '_sim_mods',\n",
       " '_spikes',\n",
       " '_start_from_state',\n",
       " '_v_init',\n",
       " 'add_mod',\n",
       " 'attach_current_clamp',\n",
       " 'attach_file_current_clamp',\n",
       " 'attach_se_voltage_clamp',\n",
       " 'biophysical_gids',\n",
       " 'cell_var_output',\n",
       " 'cell_variables',\n",
       " 'celsius',\n",
       " 'dt',\n",
       " 'from_config',\n",
       " 'h',\n",
       " 'local_gids',\n",
       " 'n_steps',\n",
       " 'net',\n",
       " 'nsteps',\n",
       " 'nsteps_block',\n",
       " 'post_fadvance',\n",
       " 'report_load_balance',\n",
       " 'run',\n",
       " 'set_spikes_recording',\n",
       " 'simulation_time',\n",
       " 'spikes_table',\n",
       " 'start_time',\n",
       " 'tstart',\n",
       " 'tstep',\n",
       " 'tstep_start_block',\n",
       " 'tstop',\n",
       " 'v_init']"
      ]
     },
     "execution_count": 14,
     "metadata": {},
     "output_type": "execute_result"
    }
   ],
   "source": [
    "dir(sim)"
   ]
  }
 ],
 "metadata": {
  "kernelspec": {
   "display_name": "Python 3 (ipykernel)",
   "language": "python",
   "name": "python3"
  },
  "language_info": {
   "codemirror_mode": {
    "name": "ipython",
    "version": 3
   },
   "file_extension": ".py",
   "mimetype": "text/x-python",
   "name": "python",
   "nbconvert_exporter": "python",
   "pygments_lexer": "ipython3",
   "version": "3.9.11"
  }
 },
 "nbformat": 4,
 "nbformat_minor": 5
}
